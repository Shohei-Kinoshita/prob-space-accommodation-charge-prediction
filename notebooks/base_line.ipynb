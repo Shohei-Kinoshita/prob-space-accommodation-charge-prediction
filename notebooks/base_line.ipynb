{
 "cells": [
  {
   "cell_type": "markdown",
   "id": "dfd26e08-0abc-4bcb-b023-cd9613c40066",
   "metadata": {},
   "source": [
    "##### 最低限の処理でLightGBM構築"
   ]
  },
  {
   "cell_type": "code",
   "execution_count": 36,
   "id": "71c9cbab-95e4-4b8b-a909-3d196e4d0ae3",
   "metadata": {},
   "outputs": [],
   "source": [
    "import os\n",
    "os.chdir('/Users/kinoshitashouhei/Desktop/competitions/05_Prob_Space/accommodation_charge_prediction/')"
   ]
  },
  {
   "cell_type": "code",
   "execution_count": 37,
   "id": "ae3e51ff-95d5-4921-9f47-938eab027bd7",
   "metadata": {},
   "outputs": [],
   "source": [
    "import numpy as np\n",
    "import pandas as pd\n",
    "import matplotlib.pyplot as plt\n",
    "import seaborn as sns\n",
    "import collections\n",
    "import warnings\n",
    "from src.config import *\n",
    "import lightgbm as lgb\n",
    "from sklearn.model_selection import train_test_split\n",
    "from sklearn.metrics import mean_squared_log_error\n",
    "from sklearn.preprocessing import LabelEncoder\n",
    "\n",
    "warnings.filterwarnings('ignore')"
   ]
  },
  {
   "cell_type": "code",
   "execution_count": 38,
   "id": "49e051b3-b7a6-4ee7-861a-0fd84fc4621b",
   "metadata": {},
   "outputs": [],
   "source": [
    "df_train = pd.read_csv('input/train_data.csv', parse_dates=[COL_LAST_REVIEW], dtype=DICT_DTYPES)\n",
    "df_test = pd.read_csv('input/test_data.csv', parse_dates=[COL_LAST_REVIEW], dtype=DICT_DTYPES)\n",
    "df_station_list = pd.read_csv('input/station_list.csv')\n",
    "sample_sub = pd.read_csv('input/submission.csv')"
   ]
  },
  {
   "cell_type": "code",
   "execution_count": 39,
   "id": "16a93671-20ce-4226-ba9e-19baaae12505",
   "metadata": {},
   "outputs": [],
   "source": [
    "LIST_USE_COL = [COL_NEIGHBOURHOOD,\n",
    "                COL_LATITUDE,\n",
    "                COL_LONGITUDE,\n",
    "                COL_ROOM_TYPE,\n",
    "                COL_MINIMUM_NIGHTS,\n",
    "                COL_NUMBER_OF_REVIEWS,\n",
    "                COL_REVIEWS_PER_MONTH,\n",
    "                COL_AVAILABILITY_365]"
   ]
  },
  {
   "cell_type": "code",
   "execution_count": 40,
   "id": "f41d1d29-5094-4761-869e-e48172fd9efd",
   "metadata": {},
   "outputs": [],
   "source": [
    "LIST_LABEL_ENC = [COL_NEIGHBOURHOOD,\n",
    "                  COL_ROOM_TYPE]"
   ]
  },
  {
   "cell_type": "code",
   "execution_count": 41,
   "id": "d73567dd-955c-45db-a1b9-c0614773b0b6",
   "metadata": {},
   "outputs": [],
   "source": [
    "df_all = pd.concat([\n",
    "    df_train[LIST_USE_COL],\n",
    "    df_test[LIST_USE_COL]\n",
    "]).reset_index(drop=True)"
   ]
  },
  {
   "cell_type": "code",
   "execution_count": 42,
   "id": "1ed5333e-c612-4bca-9d1b-6b3b8c7e2a9d",
   "metadata": {},
   "outputs": [],
   "source": [
    "df_all.fillna(0, inplace=True)"
   ]
  },
  {
   "cell_type": "code",
   "execution_count": 43,
   "id": "c4ba5da7-8c06-4840-becd-b15bfdcd5bf5",
   "metadata": {},
   "outputs": [],
   "source": [
    "for col in LIST_LABEL_ENC:\n",
    "    le = LabelEncoder()\n",
    "    df_all[col] = le.fit_transform(df_all[col])"
   ]
  },
  {
   "cell_type": "code",
   "execution_count": 44,
   "id": "76a2d1aa-7bc8-4416-9844-c3f18df00778",
   "metadata": {},
   "outputs": [
    {
     "data": {
      "text/html": [
       "<div>\n",
       "<style scoped>\n",
       "    .dataframe tbody tr th:only-of-type {\n",
       "        vertical-align: middle;\n",
       "    }\n",
       "\n",
       "    .dataframe tbody tr th {\n",
       "        vertical-align: top;\n",
       "    }\n",
       "\n",
       "    .dataframe thead th {\n",
       "        text-align: right;\n",
       "    }\n",
       "</style>\n",
       "<table border=\"1\" class=\"dataframe\">\n",
       "  <thead>\n",
       "    <tr style=\"text-align: right;\">\n",
       "      <th></th>\n",
       "      <th>neighbourhood</th>\n",
       "      <th>latitude</th>\n",
       "      <th>longitude</th>\n",
       "      <th>room_type</th>\n",
       "      <th>minimum_nights</th>\n",
       "      <th>number_of_reviews</th>\n",
       "      <th>reviews_per_month</th>\n",
       "      <th>availability_365</th>\n",
       "    </tr>\n",
       "  </thead>\n",
       "  <tbody>\n",
       "    <tr>\n",
       "      <th>0</th>\n",
       "      <td>9</td>\n",
       "      <td>35.68185</td>\n",
       "      <td>139.80310</td>\n",
       "      <td>0</td>\n",
       "      <td>1</td>\n",
       "      <td>55</td>\n",
       "      <td>2.21</td>\n",
       "      <td>173</td>\n",
       "    </tr>\n",
       "    <tr>\n",
       "      <th>1</th>\n",
       "      <td>21</td>\n",
       "      <td>35.72063</td>\n",
       "      <td>139.78536</td>\n",
       "      <td>0</td>\n",
       "      <td>6</td>\n",
       "      <td>72</td>\n",
       "      <td>2.11</td>\n",
       "      <td>9</td>\n",
       "    </tr>\n",
       "    <tr>\n",
       "      <th>2</th>\n",
       "      <td>7</td>\n",
       "      <td>35.74723</td>\n",
       "      <td>139.82349</td>\n",
       "      <td>0</td>\n",
       "      <td>1</td>\n",
       "      <td>18</td>\n",
       "      <td>3.46</td>\n",
       "      <td>288</td>\n",
       "    </tr>\n",
       "    <tr>\n",
       "      <th>3</th>\n",
       "      <td>16</td>\n",
       "      <td>35.68456</td>\n",
       "      <td>139.68077</td>\n",
       "      <td>0</td>\n",
       "      <td>1</td>\n",
       "      <td>2</td>\n",
       "      <td>1.76</td>\n",
       "      <td>87</td>\n",
       "    </tr>\n",
       "    <tr>\n",
       "      <th>4</th>\n",
       "      <td>18</td>\n",
       "      <td>35.69840</td>\n",
       "      <td>139.70467</td>\n",
       "      <td>0</td>\n",
       "      <td>1</td>\n",
       "      <td>86</td>\n",
       "      <td>2.00</td>\n",
       "      <td>156</td>\n",
       "    </tr>\n",
       "    <tr>\n",
       "      <th>...</th>\n",
       "      <td>...</td>\n",
       "      <td>...</td>\n",
       "      <td>...</td>\n",
       "      <td>...</td>\n",
       "      <td>...</td>\n",
       "      <td>...</td>\n",
       "      <td>...</td>\n",
       "      <td>...</td>\n",
       "    </tr>\n",
       "    <tr>\n",
       "      <th>9985</th>\n",
       "      <td>18</td>\n",
       "      <td>35.69728</td>\n",
       "      <td>139.70321</td>\n",
       "      <td>0</td>\n",
       "      <td>1</td>\n",
       "      <td>1</td>\n",
       "      <td>0.21</td>\n",
       "      <td>357</td>\n",
       "    </tr>\n",
       "    <tr>\n",
       "      <th>9986</th>\n",
       "      <td>21</td>\n",
       "      <td>35.70407</td>\n",
       "      <td>139.79180</td>\n",
       "      <td>3</td>\n",
       "      <td>1</td>\n",
       "      <td>0</td>\n",
       "      <td>0.00</td>\n",
       "      <td>153</td>\n",
       "    </tr>\n",
       "    <tr>\n",
       "      <th>9987</th>\n",
       "      <td>21</td>\n",
       "      <td>35.71501</td>\n",
       "      <td>139.79417</td>\n",
       "      <td>2</td>\n",
       "      <td>1</td>\n",
       "      <td>5</td>\n",
       "      <td>0.22</td>\n",
       "      <td>156</td>\n",
       "    </tr>\n",
       "    <tr>\n",
       "      <th>9988</th>\n",
       "      <td>7</td>\n",
       "      <td>35.74672</td>\n",
       "      <td>139.82925</td>\n",
       "      <td>3</td>\n",
       "      <td>1</td>\n",
       "      <td>1</td>\n",
       "      <td>0.25</td>\n",
       "      <td>0</td>\n",
       "    </tr>\n",
       "    <tr>\n",
       "      <th>9989</th>\n",
       "      <td>20</td>\n",
       "      <td>35.71499</td>\n",
       "      <td>139.82284</td>\n",
       "      <td>1</td>\n",
       "      <td>1</td>\n",
       "      <td>16</td>\n",
       "      <td>0.39</td>\n",
       "      <td>161</td>\n",
       "    </tr>\n",
       "  </tbody>\n",
       "</table>\n",
       "<p>9990 rows × 8 columns</p>\n",
       "</div>"
      ],
      "text/plain": [
       "      neighbourhood  latitude  longitude  room_type  minimum_nights  \\\n",
       "0                 9  35.68185  139.80310          0               1   \n",
       "1                21  35.72063  139.78536          0               6   \n",
       "2                 7  35.74723  139.82349          0               1   \n",
       "3                16  35.68456  139.68077          0               1   \n",
       "4                18  35.69840  139.70467          0               1   \n",
       "...             ...       ...        ...        ...             ...   \n",
       "9985             18  35.69728  139.70321          0               1   \n",
       "9986             21  35.70407  139.79180          3               1   \n",
       "9987             21  35.71501  139.79417          2               1   \n",
       "9988              7  35.74672  139.82925          3               1   \n",
       "9989             20  35.71499  139.82284          1               1   \n",
       "\n",
       "      number_of_reviews  reviews_per_month  availability_365  \n",
       "0                    55               2.21               173  \n",
       "1                    72               2.11                 9  \n",
       "2                    18               3.46               288  \n",
       "3                     2               1.76                87  \n",
       "4                    86               2.00               156  \n",
       "...                 ...                ...               ...  \n",
       "9985                  1               0.21               357  \n",
       "9986                  0               0.00               153  \n",
       "9987                  5               0.22               156  \n",
       "9988                  1               0.25                 0  \n",
       "9989                 16               0.39               161  \n",
       "\n",
       "[9990 rows x 8 columns]"
      ]
     },
     "execution_count": 44,
     "metadata": {},
     "output_type": "execute_result"
    }
   ],
   "source": [
    "df_all[:df_train.shape[0]]"
   ]
  },
  {
   "cell_type": "code",
   "execution_count": 45,
   "id": "1a4f0504-9297-44cb-8a92-e696635b859d",
   "metadata": {},
   "outputs": [],
   "source": [
    "X = df_all[:df_train.shape[0]].reset_index(drop=True)\n",
    "X_inference = df_all[df_train.shape[0]:].reset_index(drop=True)\n",
    "y = np.log(df_train[COL_Y])"
   ]
  },
  {
   "cell_type": "code",
   "execution_count": 47,
   "id": "346fa185-1940-47b1-bce2-5e0cc1a3a4a0",
   "metadata": {},
   "outputs": [],
   "source": [
    "X_train, X_test, y_train, y_test = train_test_split(X, y, random_state=0)"
   ]
  },
  {
   "cell_type": "code",
   "execution_count": 48,
   "id": "26e90a90-6844-4f7a-bb06-3558ca41d8c1",
   "metadata": {},
   "outputs": [],
   "source": [
    "lgb_train = lgb.Dataset(X_train, y_train)\n",
    "lgb_test = lgb.Dataset(X_test, y_test, reference=lgb_train)"
   ]
  },
  {
   "cell_type": "code",
   "execution_count": 49,
   "id": "83b1ef5d-10cf-4f2d-b23d-b28005fe6ca6",
   "metadata": {},
   "outputs": [],
   "source": [
    "params = {'task': 'train',              # タスクを訓練に設定\n",
    "          'boosting_type': 'gbdt',      # GBDTを指定\n",
    "          'objective': 'regression',    # 多クラス分類を指定\n",
    "          'metric': {'mean_squared_error'},  # 多クラス分類の損失（誤差）\n",
    "          'learning_rate': 0.1}         # 学習率      "
   ]
  },
  {
   "cell_type": "code",
   "execution_count": 50,
   "id": "41cfcd7e-5779-4db9-813e-ea80212a9e13",
   "metadata": {
    "collapsed": true,
    "jupyter": {
     "outputs_hidden": true
    },
    "tags": []
   },
   "outputs": [
    {
     "name": "stdout",
     "output_type": "stream",
     "text": [
      "[LightGBM] [Warning] Auto-choosing col-wise multi-threading, the overhead of testing was 0.000358 seconds.\n",
      "You can set `force_col_wise=true` to remove the overhead.\n",
      "[LightGBM] [Info] Total Bins 1241\n",
      "[LightGBM] [Info] Number of data points in the train set: 7492, number of used features: 8\n",
      "[LightGBM] [Info] Start training from score 9.454065\n",
      "[1]\tTrain's l2: 0.894738\tTest's l2: 0.906468\n",
      "Training until validation scores don't improve for 30 rounds\n",
      "[2]\tTrain's l2: 0.844899\tTest's l2: 0.862998\n",
      "[3]\tTrain's l2: 0.803344\tTest's l2: 0.825307\n",
      "[4]\tTrain's l2: 0.767475\tTest's l2: 0.792857\n",
      "[5]\tTrain's l2: 0.738367\tTest's l2: 0.768625\n",
      "[6]\tTrain's l2: 0.711692\tTest's l2: 0.745388\n",
      "[7]\tTrain's l2: 0.688975\tTest's l2: 0.724017\n",
      "[8]\tTrain's l2: 0.66979\tTest's l2: 0.707907\n",
      "[9]\tTrain's l2: 0.651823\tTest's l2: 0.691601\n",
      "[10]\tTrain's l2: 0.636284\tTest's l2: 0.679346\n",
      "[11]\tTrain's l2: 0.622371\tTest's l2: 0.670105\n",
      "[12]\tTrain's l2: 0.610247\tTest's l2: 0.658711\n",
      "[13]\tTrain's l2: 0.598891\tTest's l2: 0.650103\n",
      "[14]\tTrain's l2: 0.588915\tTest's l2: 0.641509\n",
      "[15]\tTrain's l2: 0.578505\tTest's l2: 0.634449\n",
      "[16]\tTrain's l2: 0.569573\tTest's l2: 0.627634\n",
      "[17]\tTrain's l2: 0.561272\tTest's l2: 0.621418\n",
      "[18]\tTrain's l2: 0.554084\tTest's l2: 0.61657\n",
      "[19]\tTrain's l2: 0.547831\tTest's l2: 0.611867\n",
      "[20]\tTrain's l2: 0.540932\tTest's l2: 0.608126\n",
      "[21]\tTrain's l2: 0.53514\tTest's l2: 0.603958\n",
      "[22]\tTrain's l2: 0.529322\tTest's l2: 0.601742\n",
      "[23]\tTrain's l2: 0.524006\tTest's l2: 0.597619\n",
      "[24]\tTrain's l2: 0.520272\tTest's l2: 0.594634\n",
      "[25]\tTrain's l2: 0.515548\tTest's l2: 0.591697\n",
      "[26]\tTrain's l2: 0.510967\tTest's l2: 0.59004\n",
      "[27]\tTrain's l2: 0.506511\tTest's l2: 0.587955\n",
      "[28]\tTrain's l2: 0.50248\tTest's l2: 0.586211\n",
      "[29]\tTrain's l2: 0.497866\tTest's l2: 0.582998\n",
      "[30]\tTrain's l2: 0.494065\tTest's l2: 0.581124\n",
      "[31]\tTrain's l2: 0.490919\tTest's l2: 0.579967\n",
      "[32]\tTrain's l2: 0.486592\tTest's l2: 0.576919\n",
      "[33]\tTrain's l2: 0.48205\tTest's l2: 0.573071\n",
      "[34]\tTrain's l2: 0.478682\tTest's l2: 0.571266\n",
      "[35]\tTrain's l2: 0.475814\tTest's l2: 0.570169\n",
      "[36]\tTrain's l2: 0.472744\tTest's l2: 0.569771\n",
      "[37]\tTrain's l2: 0.468501\tTest's l2: 0.566169\n",
      "[38]\tTrain's l2: 0.464675\tTest's l2: 0.563472\n",
      "[39]\tTrain's l2: 0.461896\tTest's l2: 0.56165\n",
      "[40]\tTrain's l2: 0.458285\tTest's l2: 0.559697\n",
      "[41]\tTrain's l2: 0.455893\tTest's l2: 0.558088\n",
      "[42]\tTrain's l2: 0.452661\tTest's l2: 0.556951\n",
      "[43]\tTrain's l2: 0.450014\tTest's l2: 0.555526\n",
      "[44]\tTrain's l2: 0.447125\tTest's l2: 0.554706\n",
      "[45]\tTrain's l2: 0.444141\tTest's l2: 0.553006\n",
      "[46]\tTrain's l2: 0.440956\tTest's l2: 0.551036\n",
      "[47]\tTrain's l2: 0.438847\tTest's l2: 0.550804\n",
      "[48]\tTrain's l2: 0.43645\tTest's l2: 0.549563\n",
      "[49]\tTrain's l2: 0.433442\tTest's l2: 0.547794\n",
      "[50]\tTrain's l2: 0.43202\tTest's l2: 0.547194\n",
      "[51]\tTrain's l2: 0.429406\tTest's l2: 0.546155\n",
      "[52]\tTrain's l2: 0.427958\tTest's l2: 0.545638\n",
      "[53]\tTrain's l2: 0.426172\tTest's l2: 0.544759\n",
      "[54]\tTrain's l2: 0.424963\tTest's l2: 0.544483\n",
      "[55]\tTrain's l2: 0.4236\tTest's l2: 0.544467\n",
      "[56]\tTrain's l2: 0.421403\tTest's l2: 0.54299\n",
      "[57]\tTrain's l2: 0.419927\tTest's l2: 0.542045\n",
      "[58]\tTrain's l2: 0.417717\tTest's l2: 0.540809\n",
      "[59]\tTrain's l2: 0.41636\tTest's l2: 0.540434\n",
      "[60]\tTrain's l2: 0.413553\tTest's l2: 0.539436\n",
      "[61]\tTrain's l2: 0.412077\tTest's l2: 0.539023\n",
      "[62]\tTrain's l2: 0.410068\tTest's l2: 0.537424\n",
      "[63]\tTrain's l2: 0.407204\tTest's l2: 0.534942\n",
      "[64]\tTrain's l2: 0.40561\tTest's l2: 0.534721\n",
      "[65]\tTrain's l2: 0.403509\tTest's l2: 0.533407\n",
      "[66]\tTrain's l2: 0.401884\tTest's l2: 0.532428\n",
      "[67]\tTrain's l2: 0.400049\tTest's l2: 0.531904\n",
      "[68]\tTrain's l2: 0.398823\tTest's l2: 0.531195\n",
      "[69]\tTrain's l2: 0.396776\tTest's l2: 0.53088\n",
      "[70]\tTrain's l2: 0.395515\tTest's l2: 0.530625\n",
      "[71]\tTrain's l2: 0.39461\tTest's l2: 0.530244\n",
      "[72]\tTrain's l2: 0.393054\tTest's l2: 0.529544\n",
      "[73]\tTrain's l2: 0.389219\tTest's l2: 0.528428\n",
      "[74]\tTrain's l2: 0.387707\tTest's l2: 0.528484\n",
      "[75]\tTrain's l2: 0.38604\tTest's l2: 0.528056\n",
      "[76]\tTrain's l2: 0.384405\tTest's l2: 0.527524\n",
      "[77]\tTrain's l2: 0.382067\tTest's l2: 0.526773\n",
      "[78]\tTrain's l2: 0.380678\tTest's l2: 0.526775\n",
      "[79]\tTrain's l2: 0.379015\tTest's l2: 0.526183\n",
      "[80]\tTrain's l2: 0.377689\tTest's l2: 0.526257\n",
      "[81]\tTrain's l2: 0.376599\tTest's l2: 0.526105\n",
      "[82]\tTrain's l2: 0.374625\tTest's l2: 0.525244\n",
      "[83]\tTrain's l2: 0.373633\tTest's l2: 0.525277\n",
      "[84]\tTrain's l2: 0.372168\tTest's l2: 0.524868\n",
      "[85]\tTrain's l2: 0.369185\tTest's l2: 0.523672\n",
      "[86]\tTrain's l2: 0.36797\tTest's l2: 0.523378\n",
      "[87]\tTrain's l2: 0.366472\tTest's l2: 0.522464\n",
      "[88]\tTrain's l2: 0.36522\tTest's l2: 0.521564\n",
      "[89]\tTrain's l2: 0.363655\tTest's l2: 0.521528\n",
      "[90]\tTrain's l2: 0.362404\tTest's l2: 0.521155\n",
      "[91]\tTrain's l2: 0.361409\tTest's l2: 0.520948\n",
      "[92]\tTrain's l2: 0.36031\tTest's l2: 0.52058\n",
      "[93]\tTrain's l2: 0.358911\tTest's l2: 0.5202\n",
      "[94]\tTrain's l2: 0.356927\tTest's l2: 0.519305\n",
      "[95]\tTrain's l2: 0.35504\tTest's l2: 0.518181\n",
      "[96]\tTrain's l2: 0.353735\tTest's l2: 0.518349\n",
      "[97]\tTrain's l2: 0.352355\tTest's l2: 0.517742\n",
      "[98]\tTrain's l2: 0.351515\tTest's l2: 0.517913\n",
      "[99]\tTrain's l2: 0.350243\tTest's l2: 0.518053\n",
      "[100]\tTrain's l2: 0.349206\tTest's l2: 0.517871\n",
      "Did not meet early stopping. Best iteration is:\n",
      "[100]\tTrain's l2: 0.349206\tTest's l2: 0.517871\n"
     ]
    }
   ],
   "source": [
    "lgb_results = {}                                    # 学習の履歴を入れる入物\n",
    "model = lgb.train(params=params,                    # ハイパーパラメータをセット\n",
    "                  train_set=lgb_train,              # 訓練データを訓練用にセット\n",
    "                  valid_sets=[lgb_train, lgb_test], # 訓練データとテストデータをセット\n",
    "                  valid_names=['Train', 'Test'],    # データセットの名前をそれぞれ設定\n",
    "                  num_boost_round=100,              # 計算回数\n",
    "                  early_stopping_rounds=30,         # アーリーストッピング設定\n",
    "                  evals_result=lgb_results)         # 履歴を保存する"
   ]
  },
  {
   "cell_type": "code",
   "execution_count": 51,
   "id": "c3b38557-8909-4915-82c8-fbf00bee5cd1",
   "metadata": {},
   "outputs": [],
   "source": [
    "pred = model.predict(X_test)"
   ]
  },
  {
   "cell_type": "code",
   "execution_count": 66,
   "id": "d46eb42c-2008-492d-8068-963543efac1e",
   "metadata": {},
   "outputs": [
    {
     "name": "stdout",
     "output_type": "stream",
     "text": [
      "0.06583124328712536\n"
     ]
    }
   ],
   "source": [
    "print(np.sqrt(mean_squared_log_error(y_test, pred)))"
   ]
  },
  {
   "cell_type": "markdown",
   "id": "4c4d25e2-35aa-456e-a9e1-423bc10017da",
   "metadata": {},
   "source": [
    "#### submit"
   ]
  },
  {
   "cell_type": "code",
   "execution_count": 55,
   "id": "94ccda10-5f07-42a4-928c-cd4f3a50aecc",
   "metadata": {},
   "outputs": [],
   "source": [
    "sub_pred = model.predict(X_inference)"
   ]
  },
  {
   "cell_type": "code",
   "execution_count": 56,
   "id": "580c1416-ea9e-477f-8c80-f30cff48bae0",
   "metadata": {},
   "outputs": [
    {
     "data": {
      "text/plain": [
       "array([9.5873096 , 9.44845743, 9.36531416, ..., 9.51328744, 8.13551116,\n",
       "       9.13690477])"
      ]
     },
     "execution_count": 56,
     "metadata": {},
     "output_type": "execute_result"
    }
   ],
   "source": [
    "sub_pred"
   ]
  },
  {
   "cell_type": "code",
   "execution_count": 62,
   "id": "a00b1beb-1f02-456e-9a39-8fc223761b63",
   "metadata": {},
   "outputs": [],
   "source": [
    "sample_sub[COL_Y] = np.exp(sub_pred)"
   ]
  },
  {
   "cell_type": "code",
   "execution_count": 64,
   "id": "4d1cc827-fea8-44f1-a3bc-d1473f653601",
   "metadata": {},
   "outputs": [],
   "source": [
    "sample_sub.to_csv('submission.csv', index=False)"
   ]
  },
  {
   "cell_type": "code",
   "execution_count": 63,
   "id": "9f83241e-ecf6-4ac0-abce-e75e239a7fd3",
   "metadata": {},
   "outputs": [
    {
     "data": {
      "text/html": [
       "<div>\n",
       "<style scoped>\n",
       "    .dataframe tbody tr th:only-of-type {\n",
       "        vertical-align: middle;\n",
       "    }\n",
       "\n",
       "    .dataframe tbody tr th {\n",
       "        vertical-align: top;\n",
       "    }\n",
       "\n",
       "    .dataframe thead th {\n",
       "        text-align: right;\n",
       "    }\n",
       "</style>\n",
       "<table border=\"1\" class=\"dataframe\">\n",
       "  <thead>\n",
       "    <tr style=\"text-align: right;\">\n",
       "      <th></th>\n",
       "      <th>id</th>\n",
       "      <th>y</th>\n",
       "    </tr>\n",
       "  </thead>\n",
       "  <tbody>\n",
       "    <tr>\n",
       "      <th>0</th>\n",
       "      <td>1</td>\n",
       "      <td>14578.594504</td>\n",
       "    </tr>\n",
       "    <tr>\n",
       "      <th>1</th>\n",
       "      <td>2</td>\n",
       "      <td>12688.577178</td>\n",
       "    </tr>\n",
       "    <tr>\n",
       "      <th>2</th>\n",
       "      <td>3</td>\n",
       "      <td>11676.273525</td>\n",
       "    </tr>\n",
       "    <tr>\n",
       "      <th>3</th>\n",
       "      <td>4</td>\n",
       "      <td>16665.081037</td>\n",
       "    </tr>\n",
       "    <tr>\n",
       "      <th>4</th>\n",
       "      <td>5</td>\n",
       "      <td>15380.378399</td>\n",
       "    </tr>\n",
       "  </tbody>\n",
       "</table>\n",
       "</div>"
      ],
      "text/plain": [
       "   id             y\n",
       "0   1  14578.594504\n",
       "1   2  12688.577178\n",
       "2   3  11676.273525\n",
       "3   4  16665.081037\n",
       "4   5  15380.378399"
      ]
     },
     "execution_count": 63,
     "metadata": {},
     "output_type": "execute_result"
    }
   ],
   "source": [
    "sample_sub.head()"
   ]
  },
  {
   "cell_type": "code",
   "execution_count": null,
   "id": "b209c0e1-6614-492c-8e62-6e59021a10ee",
   "metadata": {},
   "outputs": [],
   "source": []
  }
 ],
 "metadata": {
  "kernelspec": {
   "display_name": "Python 3 (ipykernel)",
   "language": "python",
   "name": "python3"
  },
  "language_info": {
   "codemirror_mode": {
    "name": "ipython",
    "version": 3
   },
   "file_extension": ".py",
   "mimetype": "text/x-python",
   "name": "python",
   "nbconvert_exporter": "python",
   "pygments_lexer": "ipython3",
   "version": "3.8.12"
  }
 },
 "nbformat": 4,
 "nbformat_minor": 5
}
