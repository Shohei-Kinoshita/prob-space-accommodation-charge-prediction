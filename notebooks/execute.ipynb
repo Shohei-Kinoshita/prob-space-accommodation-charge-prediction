{
 "cells": [
  {
   "cell_type": "code",
   "execution_count": 1,
   "id": "786b51af-2e69-4146-aa87-1a75083e6675",
   "metadata": {},
   "outputs": [],
   "source": [
    "import os\n",
    "os.chdir('/Users/kinoshitashouhei/Desktop/competitions/05_Prob_Space/accommodation_charge_prediction/')"
   ]
  },
  {
   "cell_type": "code",
   "execution_count": 3,
   "id": "c6008f24-f206-4598-99c2-5bb0343291a6",
   "metadata": {},
   "outputs": [
    {
     "name": "stdout",
     "output_type": "stream",
     "text": [
      "CPU times: user 26min 32s, sys: 1.61 s, total: 26min 34s\n",
      "Wall time: 26min 35s\n"
     ]
    }
   ],
   "source": [
    "%%time\n",
    "# 宿泊施設と各駅との距離を計算し、csvファイルを吐き出す\n",
    "%run src/create_distance_from_station.py"
   ]
  },
  {
   "cell_type": "code",
   "execution_count": null,
   "id": "9ee89999-b716-4d6f-9b60-d80756b167ad",
   "metadata": {},
   "outputs": [],
   "source": []
  }
 ],
 "metadata": {
  "kernelspec": {
   "display_name": "Python 3 (ipykernel)",
   "language": "python",
   "name": "python3"
  },
  "language_info": {
   "codemirror_mode": {
    "name": "ipython",
    "version": 3
   },
   "file_extension": ".py",
   "mimetype": "text/x-python",
   "name": "python",
   "nbconvert_exporter": "python",
   "pygments_lexer": "ipython3",
   "version": "3.8.12"
  }
 },
 "nbformat": 4,
 "nbformat_minor": 5
}
