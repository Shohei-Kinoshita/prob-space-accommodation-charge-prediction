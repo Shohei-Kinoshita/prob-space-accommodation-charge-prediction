{
 "cells": [
  {
   "cell_type": "code",
   "execution_count": 1,
   "id": "9058872c-7b89-4e95-a6f7-1583c52f60f4",
   "metadata": {},
   "outputs": [],
   "source": [
    "import os\n",
    "os.chdir('/Users/kinoshitashouhei/Desktop/competitions/05_Prob_Space/accommodation_charge_prediction/')"
   ]
  },
  {
   "cell_type": "code",
   "execution_count": 24,
   "id": "ab287730-d613-478b-8982-c5e32ab3e8e3",
   "metadata": {},
   "outputs": [],
   "source": [
    "import numpy as np\n",
    "import pandas as pd\n",
    "import matplotlib.pyplot as plt\n",
    "import seaborn as sns\n",
    "import collections\n",
    "import warnings\n",
    "from src.config import *\n",
    "\n",
    "warnings.filterwarnings('ignore')"
   ]
  },
  {
   "cell_type": "code",
   "execution_count": 3,
   "id": "9793ba7f-949b-479f-98dd-3f46604ab796",
   "metadata": {},
   "outputs": [],
   "source": [
    "df_train = pd.read_csv('input/train_data.csv', parse_dates=[COL_LAST_REVIEW], dtype=DICT_DTYPES)\n",
    "df_test = pd.read_csv('input/test_data.csv', parse_dates=[COL_LAST_REVIEW], dtype=DICT_DTYPES)\n",
    "df_station_list = pd.read_csv('input/station_list.csv')\n",
    "sample_sub = pd.read_csv('input/submission.csv')"
   ]
  },
  {
   "cell_type": "markdown",
   "id": "78e194d7-ebd4-468d-a3a9-4d2ea3950016",
   "metadata": {},
   "source": [
    "##### データサイズ"
   ]
  },
  {
   "cell_type": "code",
   "execution_count": 4,
   "id": "8abd260d-ce71-4df3-a016-a9e8a148330d",
   "metadata": {},
   "outputs": [
    {
     "name": "stdout",
     "output_type": "stream",
     "text": [
      "df_train shape: (9990, 13)\n",
      "df_test shape: (4996, 12)\n",
      "df_station_list shape: (203, 3)\n"
     ]
    }
   ],
   "source": [
    "print(f'df_train shape: {df_train.shape}')\n",
    "print(f'df_test shape: {df_test.shape}')\n",
    "print(f'df_station_list shape: {df_station_list.shape}')"
   ]
  },
  {
   "cell_type": "code",
   "execution_count": 5,
   "id": "d4e6d369-4867-43d7-aa1c-1d044c9c75c0",
   "metadata": {},
   "outputs": [
    {
     "data": {
      "text/html": [
       "<div>\n",
       "<style scoped>\n",
       "    .dataframe tbody tr th:only-of-type {\n",
       "        vertical-align: middle;\n",
       "    }\n",
       "\n",
       "    .dataframe tbody tr th {\n",
       "        vertical-align: top;\n",
       "    }\n",
       "\n",
       "    .dataframe thead th {\n",
       "        text-align: right;\n",
       "    }\n",
       "</style>\n",
       "<table border=\"1\" class=\"dataframe\">\n",
       "  <thead>\n",
       "    <tr style=\"text-align: right;\">\n",
       "      <th></th>\n",
       "      <th>id</th>\n",
       "      <th>name</th>\n",
       "      <th>host_id</th>\n",
       "      <th>neighbourhood</th>\n",
       "      <th>latitude</th>\n",
       "      <th>longitude</th>\n",
       "      <th>room_type</th>\n",
       "      <th>minimum_nights</th>\n",
       "      <th>number_of_reviews</th>\n",
       "      <th>last_review</th>\n",
       "      <th>reviews_per_month</th>\n",
       "      <th>availability_365</th>\n",
       "      <th>y</th>\n",
       "    </tr>\n",
       "  </thead>\n",
       "  <tbody>\n",
       "    <tr>\n",
       "      <th>0</th>\n",
       "      <td>1</td>\n",
       "      <td>KiyosumiShirakawa 3min|★SkyTree★|WIFI|Max4|Tre...</td>\n",
       "      <td>242899459</td>\n",
       "      <td>Koto Ku</td>\n",
       "      <td>35.68185</td>\n",
       "      <td>139.80310</td>\n",
       "      <td>Entire home/apt</td>\n",
       "      <td>1</td>\n",
       "      <td>55</td>\n",
       "      <td>2020-04-25</td>\n",
       "      <td>2.21</td>\n",
       "      <td>173</td>\n",
       "      <td>12008</td>\n",
       "    </tr>\n",
       "    <tr>\n",
       "      <th>1</th>\n",
       "      <td>2</td>\n",
       "      <td>Downtown Tokyo Iriya next to Ueno</td>\n",
       "      <td>308879948</td>\n",
       "      <td>Taito Ku</td>\n",
       "      <td>35.72063</td>\n",
       "      <td>139.78536</td>\n",
       "      <td>Entire home/apt</td>\n",
       "      <td>6</td>\n",
       "      <td>72</td>\n",
       "      <td>2020-03-25</td>\n",
       "      <td>2.11</td>\n",
       "      <td>9</td>\n",
       "      <td>6667</td>\n",
       "    </tr>\n",
       "    <tr>\n",
       "      <th>2</th>\n",
       "      <td>3</td>\n",
       "      <td>Japan Style,Private,Affordable,4min to Sta.</td>\n",
       "      <td>300877823</td>\n",
       "      <td>Katsushika Ku</td>\n",
       "      <td>35.74723</td>\n",
       "      <td>139.82349</td>\n",
       "      <td>Entire home/apt</td>\n",
       "      <td>1</td>\n",
       "      <td>18</td>\n",
       "      <td>2020-03-23</td>\n",
       "      <td>3.46</td>\n",
       "      <td>288</td>\n",
       "      <td>9923</td>\n",
       "    </tr>\n",
       "  </tbody>\n",
       "</table>\n",
       "</div>"
      ],
      "text/plain": [
       "  id                                               name    host_id  \\\n",
       "0  1  KiyosumiShirakawa 3min|★SkyTree★|WIFI|Max4|Tre...  242899459   \n",
       "1  2                  Downtown Tokyo Iriya next to Ueno  308879948   \n",
       "2  3        Japan Style,Private,Affordable,4min to Sta.  300877823   \n",
       "\n",
       "   neighbourhood  latitude  longitude        room_type  minimum_nights  \\\n",
       "0        Koto Ku  35.68185  139.80310  Entire home/apt               1   \n",
       "1       Taito Ku  35.72063  139.78536  Entire home/apt               6   \n",
       "2  Katsushika Ku  35.74723  139.82349  Entire home/apt               1   \n",
       "\n",
       "   number_of_reviews last_review  reviews_per_month  availability_365      y  \n",
       "0                 55  2020-04-25               2.21               173  12008  \n",
       "1                 72  2020-03-25               2.11                 9   6667  \n",
       "2                 18  2020-03-23               3.46               288   9923  "
      ]
     },
     "execution_count": 5,
     "metadata": {},
     "output_type": "execute_result"
    }
   ],
   "source": [
    "df_train.head(3)"
   ]
  },
  {
   "cell_type": "code",
   "execution_count": 6,
   "id": "08949db6-b014-4c2e-8e12-effb8b75bb48",
   "metadata": {},
   "outputs": [
    {
     "data": {
      "text/html": [
       "<div>\n",
       "<style scoped>\n",
       "    .dataframe tbody tr th:only-of-type {\n",
       "        vertical-align: middle;\n",
       "    }\n",
       "\n",
       "    .dataframe tbody tr th {\n",
       "        vertical-align: top;\n",
       "    }\n",
       "\n",
       "    .dataframe thead th {\n",
       "        text-align: right;\n",
       "    }\n",
       "</style>\n",
       "<table border=\"1\" class=\"dataframe\">\n",
       "  <thead>\n",
       "    <tr style=\"text-align: right;\">\n",
       "      <th></th>\n",
       "      <th>id</th>\n",
       "      <th>name</th>\n",
       "      <th>host_id</th>\n",
       "      <th>neighbourhood</th>\n",
       "      <th>latitude</th>\n",
       "      <th>longitude</th>\n",
       "      <th>room_type</th>\n",
       "      <th>minimum_nights</th>\n",
       "      <th>number_of_reviews</th>\n",
       "      <th>last_review</th>\n",
       "      <th>reviews_per_month</th>\n",
       "      <th>availability_365</th>\n",
       "    </tr>\n",
       "  </thead>\n",
       "  <tbody>\n",
       "    <tr>\n",
       "      <th>0</th>\n",
       "      <td>1</td>\n",
       "      <td>5-minute walk from Akasaka Sta, Superior double</td>\n",
       "      <td>184730720</td>\n",
       "      <td>Minato Ku</td>\n",
       "      <td>35.67131</td>\n",
       "      <td>139.73285</td>\n",
       "      <td>Private room</td>\n",
       "      <td>1</td>\n",
       "      <td>0</td>\n",
       "      <td>NaT</td>\n",
       "      <td>NaN</td>\n",
       "      <td>183</td>\n",
       "    </tr>\n",
       "    <tr>\n",
       "      <th>1</th>\n",
       "      <td>2</td>\n",
       "      <td>7 min Sta.-Center of IKEBUKURO Cozy Room#503</td>\n",
       "      <td>20993205</td>\n",
       "      <td>Toshima Ku</td>\n",
       "      <td>35.73014</td>\n",
       "      <td>139.71739</td>\n",
       "      <td>Entire home/apt</td>\n",
       "      <td>2</td>\n",
       "      <td>21</td>\n",
       "      <td>2020-04-16</td>\n",
       "      <td>1.94</td>\n",
       "      <td>337</td>\n",
       "    </tr>\n",
       "    <tr>\n",
       "      <th>2</th>\n",
       "      <td>3</td>\n",
       "      <td>Designer'sApt 1min sta☆Shinjuku 7min☆Shibuya 4min</td>\n",
       "      <td>322521715</td>\n",
       "      <td>Setagaya Ku</td>\n",
       "      <td>35.66193</td>\n",
       "      <td>139.66540</td>\n",
       "      <td>Entire home/apt</td>\n",
       "      <td>1</td>\n",
       "      <td>14</td>\n",
       "      <td>2020-02-12</td>\n",
       "      <td>0.82</td>\n",
       "      <td>240</td>\n",
       "    </tr>\n",
       "  </tbody>\n",
       "</table>\n",
       "</div>"
      ],
      "text/plain": [
       "  id                                               name    host_id  \\\n",
       "0  1    5-minute walk from Akasaka Sta, Superior double  184730720   \n",
       "1  2       7 min Sta.-Center of IKEBUKURO Cozy Room#503   20993205   \n",
       "2  3  Designer'sApt 1min sta☆Shinjuku 7min☆Shibuya 4min  322521715   \n",
       "\n",
       "  neighbourhood  latitude  longitude        room_type  minimum_nights  \\\n",
       "0     Minato Ku  35.67131  139.73285     Private room               1   \n",
       "1    Toshima Ku  35.73014  139.71739  Entire home/apt               2   \n",
       "2   Setagaya Ku  35.66193  139.66540  Entire home/apt               1   \n",
       "\n",
       "   number_of_reviews last_review  reviews_per_month  availability_365  \n",
       "0                  0         NaT                NaN               183  \n",
       "1                 21  2020-04-16               1.94               337  \n",
       "2                 14  2020-02-12               0.82               240  "
      ]
     },
     "execution_count": 6,
     "metadata": {},
     "output_type": "execute_result"
    }
   ],
   "source": [
    "df_test.head(3)"
   ]
  },
  {
   "cell_type": "code",
   "execution_count": 12,
   "id": "e11046b5-c285-44fb-8ea2-d2adedfe0983",
   "metadata": {},
   "outputs": [
    {
     "data": {
      "text/html": [
       "<div>\n",
       "<style scoped>\n",
       "    .dataframe tbody tr th:only-of-type {\n",
       "        vertical-align: middle;\n",
       "    }\n",
       "\n",
       "    .dataframe tbody tr th {\n",
       "        vertical-align: top;\n",
       "    }\n",
       "\n",
       "    .dataframe thead th {\n",
       "        text-align: right;\n",
       "    }\n",
       "</style>\n",
       "<table border=\"1\" class=\"dataframe\">\n",
       "  <thead>\n",
       "    <tr style=\"text-align: right;\">\n",
       "      <th></th>\n",
       "      <th>station_name</th>\n",
       "      <th>longitude</th>\n",
       "      <th>latitude</th>\n",
       "    </tr>\n",
       "  </thead>\n",
       "  <tbody>\n",
       "    <tr>\n",
       "      <th>0</th>\n",
       "      <td>東京</td>\n",
       "      <td>139.766103</td>\n",
       "      <td>35.681391</td>\n",
       "    </tr>\n",
       "    <tr>\n",
       "      <th>1</th>\n",
       "      <td>新橋</td>\n",
       "      <td>139.758587</td>\n",
       "      <td>35.666195</td>\n",
       "    </tr>\n",
       "    <tr>\n",
       "      <th>2</th>\n",
       "      <td>品川</td>\n",
       "      <td>139.738999</td>\n",
       "      <td>35.628760</td>\n",
       "    </tr>\n",
       "  </tbody>\n",
       "</table>\n",
       "</div>"
      ],
      "text/plain": [
       "  station_name   longitude   latitude\n",
       "0           東京  139.766103  35.681391\n",
       "1           新橋  139.758587  35.666195\n",
       "2           品川  139.738999  35.628760"
      ]
     },
     "execution_count": 12,
     "metadata": {},
     "output_type": "execute_result"
    }
   ],
   "source": [
    "df_station_list.head(3)"
   ]
  },
  {
   "cell_type": "markdown",
   "id": "299a8f9c-f263-4891-a5a8-0433a99fd293",
   "metadata": {},
   "source": [
    "##### 欠損値の確認"
   ]
  },
  {
   "cell_type": "code",
   "execution_count": 11,
   "id": "bfa762e0-9fcc-430a-923d-12dffe2ae4d2",
   "metadata": {},
   "outputs": [
    {
     "data": {
      "text/html": [
       "<div>\n",
       "<style scoped>\n",
       "    .dataframe tbody tr th:only-of-type {\n",
       "        vertical-align: middle;\n",
       "    }\n",
       "\n",
       "    .dataframe tbody tr th {\n",
       "        vertical-align: top;\n",
       "    }\n",
       "\n",
       "    .dataframe thead th {\n",
       "        text-align: right;\n",
       "    }\n",
       "</style>\n",
       "<table border=\"1\" class=\"dataframe\">\n",
       "  <thead>\n",
       "    <tr style=\"text-align: right;\">\n",
       "      <th></th>\n",
       "      <th>train</th>\n",
       "      <th>test</th>\n",
       "    </tr>\n",
       "  </thead>\n",
       "  <tbody>\n",
       "    <tr>\n",
       "      <th>id</th>\n",
       "      <td>0</td>\n",
       "      <td>0.0</td>\n",
       "    </tr>\n",
       "    <tr>\n",
       "      <th>name</th>\n",
       "      <td>0</td>\n",
       "      <td>0.0</td>\n",
       "    </tr>\n",
       "    <tr>\n",
       "      <th>host_id</th>\n",
       "      <td>0</td>\n",
       "      <td>0.0</td>\n",
       "    </tr>\n",
       "    <tr>\n",
       "      <th>neighbourhood</th>\n",
       "      <td>0</td>\n",
       "      <td>0.0</td>\n",
       "    </tr>\n",
       "    <tr>\n",
       "      <th>latitude</th>\n",
       "      <td>0</td>\n",
       "      <td>0.0</td>\n",
       "    </tr>\n",
       "    <tr>\n",
       "      <th>longitude</th>\n",
       "      <td>0</td>\n",
       "      <td>0.0</td>\n",
       "    </tr>\n",
       "    <tr>\n",
       "      <th>room_type</th>\n",
       "      <td>0</td>\n",
       "      <td>0.0</td>\n",
       "    </tr>\n",
       "    <tr>\n",
       "      <th>minimum_nights</th>\n",
       "      <td>0</td>\n",
       "      <td>0.0</td>\n",
       "    </tr>\n",
       "    <tr>\n",
       "      <th>number_of_reviews</th>\n",
       "      <td>0</td>\n",
       "      <td>0.0</td>\n",
       "    </tr>\n",
       "    <tr>\n",
       "      <th>last_review</th>\n",
       "      <td>1699</td>\n",
       "      <td>832.0</td>\n",
       "    </tr>\n",
       "    <tr>\n",
       "      <th>reviews_per_month</th>\n",
       "      <td>1699</td>\n",
       "      <td>832.0</td>\n",
       "    </tr>\n",
       "    <tr>\n",
       "      <th>availability_365</th>\n",
       "      <td>0</td>\n",
       "      <td>0.0</td>\n",
       "    </tr>\n",
       "    <tr>\n",
       "      <th>y</th>\n",
       "      <td>0</td>\n",
       "      <td>NaN</td>\n",
       "    </tr>\n",
       "  </tbody>\n",
       "</table>\n",
       "</div>"
      ],
      "text/plain": [
       "                   train   test\n",
       "id                     0    0.0\n",
       "name                   0    0.0\n",
       "host_id                0    0.0\n",
       "neighbourhood          0    0.0\n",
       "latitude               0    0.0\n",
       "longitude              0    0.0\n",
       "room_type              0    0.0\n",
       "minimum_nights         0    0.0\n",
       "number_of_reviews      0    0.0\n",
       "last_review         1699  832.0\n",
       "reviews_per_month   1699  832.0\n",
       "availability_365       0    0.0\n",
       "y                      0    NaN"
      ]
     },
     "execution_count": 11,
     "metadata": {},
     "output_type": "execute_result"
    }
   ],
   "source": [
    "pd.concat([pd.DataFrame(df_train.isnull().sum(), columns=['train']),\n",
    "           pd.DataFrame(df_test.isnull().sum(), columns=['test'])], axis=1)"
   ]
  },
  {
   "cell_type": "markdown",
   "id": "bdededa4-2bf5-435e-9017-7fecef7de8c6",
   "metadata": {},
   "source": [
    "#### NAME\n",
    " - 重複している名前がいくつかある\n",
    " - 名前が同じでも、他の情報が若干異なる(yも異なる)\n",
    " - 正規表現で最寄りの駅と距離を取得できそう"
   ]
  },
  {
   "cell_type": "code",
   "execution_count": 19,
   "id": "842af9fb-973e-43ca-aedf-da1d67948e2b",
   "metadata": {},
   "outputs": [],
   "source": [
    "c = collections.Counter(list(df_train[COL_NAME].values))"
   ]
  },
  {
   "cell_type": "code",
   "execution_count": 22,
   "id": "78e2f867-79c0-4fe7-a803-b60489ab8357",
   "metadata": {},
   "outputs": [
    {
     "data": {
      "text/html": [
       "<div>\n",
       "<style scoped>\n",
       "    .dataframe tbody tr th:only-of-type {\n",
       "        vertical-align: middle;\n",
       "    }\n",
       "\n",
       "    .dataframe tbody tr th {\n",
       "        vertical-align: top;\n",
       "    }\n",
       "\n",
       "    .dataframe thead th {\n",
       "        text-align: right;\n",
       "    }\n",
       "</style>\n",
       "<table border=\"1\" class=\"dataframe\">\n",
       "  <thead>\n",
       "    <tr style=\"text-align: right;\">\n",
       "      <th></th>\n",
       "      <th>id</th>\n",
       "      <th>name</th>\n",
       "      <th>host_id</th>\n",
       "      <th>neighbourhood</th>\n",
       "      <th>latitude</th>\n",
       "      <th>longitude</th>\n",
       "      <th>room_type</th>\n",
       "      <th>minimum_nights</th>\n",
       "      <th>number_of_reviews</th>\n",
       "      <th>last_review</th>\n",
       "      <th>reviews_per_month</th>\n",
       "      <th>availability_365</th>\n",
       "      <th>y</th>\n",
       "    </tr>\n",
       "  </thead>\n",
       "  <tbody>\n",
       "    <tr>\n",
       "      <th>5</th>\n",
       "      <td>6</td>\n",
       "      <td>Quiet residential Shinjuku area,8 min on foot Sta</td>\n",
       "      <td>247956261</td>\n",
       "      <td>Shinjuku Ku</td>\n",
       "      <td>35.71273</td>\n",
       "      <td>139.69687</td>\n",
       "      <td>Entire home/apt</td>\n",
       "      <td>2</td>\n",
       "      <td>30</td>\n",
       "      <td>2020-03-29</td>\n",
       "      <td>5.20</td>\n",
       "      <td>335</td>\n",
       "      <td>8404</td>\n",
       "    </tr>\n",
       "    <tr>\n",
       "      <th>1003</th>\n",
       "      <td>1004</td>\n",
       "      <td>Quiet residential Shinjuku area,8 min on foot Sta</td>\n",
       "      <td>247956261</td>\n",
       "      <td>Shinjuku Ku</td>\n",
       "      <td>35.71260</td>\n",
       "      <td>139.69883</td>\n",
       "      <td>Entire home/apt</td>\n",
       "      <td>2</td>\n",
       "      <td>30</td>\n",
       "      <td>2020-04-05</td>\n",
       "      <td>5.17</td>\n",
       "      <td>325</td>\n",
       "      <td>7651</td>\n",
       "    </tr>\n",
       "    <tr>\n",
       "      <th>1457</th>\n",
       "      <td>1458</td>\n",
       "      <td>Quiet residential Shinjuku area,8 min on foot Sta</td>\n",
       "      <td>247956261</td>\n",
       "      <td>Shinjuku Ku</td>\n",
       "      <td>35.71335</td>\n",
       "      <td>139.69901</td>\n",
       "      <td>Entire home/apt</td>\n",
       "      <td>2</td>\n",
       "      <td>24</td>\n",
       "      <td>2020-04-07</td>\n",
       "      <td>4.77</td>\n",
       "      <td>292</td>\n",
       "      <td>7887</td>\n",
       "    </tr>\n",
       "  </tbody>\n",
       "</table>\n",
       "</div>"
      ],
      "text/plain": [
       "        id                                               name    host_id  \\\n",
       "5        6  Quiet residential Shinjuku area,8 min on foot Sta  247956261   \n",
       "1003  1004  Quiet residential Shinjuku area,8 min on foot Sta  247956261   \n",
       "1457  1458  Quiet residential Shinjuku area,8 min on foot Sta  247956261   \n",
       "\n",
       "     neighbourhood  latitude  longitude        room_type  minimum_nights  \\\n",
       "5      Shinjuku Ku  35.71273  139.69687  Entire home/apt               2   \n",
       "1003   Shinjuku Ku  35.71260  139.69883  Entire home/apt               2   \n",
       "1457   Shinjuku Ku  35.71335  139.69901  Entire home/apt               2   \n",
       "\n",
       "      number_of_reviews last_review  reviews_per_month  availability_365     y  \n",
       "5                    30  2020-03-29               5.20               335  8404  \n",
       "1003                 30  2020-04-05               5.17               325  7651  \n",
       "1457                 24  2020-04-07               4.77               292  7887  "
      ]
     },
     "execution_count": 22,
     "metadata": {},
     "output_type": "execute_result"
    }
   ],
   "source": [
    "df_train.query(f'{COL_NAME} == \"Quiet residential Shinjuku area,8 min on foot Sta\"').head(3)"
   ]
  },
  {
   "cell_type": "markdown",
   "id": "721e9096-d53a-4f21-959a-cfe03b96fdab",
   "metadata": {},
   "source": [
    "#### neighbourhood\n",
    "所在地（東京都の23の特別区のいずれか）  \n",
    " - ラベルエンコードでよい？"
   ]
  },
  {
   "cell_type": "code",
   "execution_count": 26,
   "id": "06048329-6102-4192-95d8-1f0dd4099834",
   "metadata": {},
   "outputs": [
    {
     "data": {
      "image/png": "[encoded data removed]",
      "text/plain": [
       "<Figure size 432x288 with 1 Axes>"
      ]
     },
     "metadata": {
      "needs_background": "light"
     },
     "output_type": "display_data"
    }
   ],
   "source": [
    "sns.countplot(df_train[COL_NEIGHBOURHOOD])\n",
    "plt.xticks(rotation=90)\n",
    "plt.show()"
   ]
  },
  {
   "cell_type": "markdown",
   "id": "377623a3-fd43-4b59-b374-4db05d6845c3",
   "metadata": {},
   "source": [
    "#### 緯度、軽度\n",
    " - 緯度、軽度とstation_listの緯度、軽度から距離を計算して最寄りの駅を特徴量にできそう"
   ]
  },
  {
   "cell_type": "markdown",
   "id": "cdb53cae-bde6-4b9b-8d82-e9b9aae125ba",
   "metadata": {},
   "source": [
    "#### room_type"
   ]
  },
  {
   "cell_type": "code",
   "execution_count": 29,
   "id": "ec06e97c-2190-4e3d-8753-eebc3a6473fa",
   "metadata": {},
   "outputs": [
    {
     "data": {
      "text/html": [
       "<div>\n",
       "<style scoped>\n",
       "    .dataframe tbody tr th:only-of-type {\n",
       "        vertical-align: middle;\n",
       "    }\n",
       "\n",
       "    .dataframe tbody tr th {\n",
       "        vertical-align: top;\n",
       "    }\n",
       "\n",
       "    .dataframe thead tr th {\n",
       "        text-align: left;\n",
       "    }\n",
       "\n",
       "    .dataframe thead tr:last-of-type th {\n",
       "        text-align: right;\n",
       "    }\n",
       "</style>\n",
       "<table border=\"1\" class=\"dataframe\">\n",
       "  <thead>\n",
       "    <tr>\n",
       "      <th></th>\n",
       "      <th colspan=\"3\" halign=\"left\">y</th>\n",
       "    </tr>\n",
       "    <tr>\n",
       "      <th></th>\n",
       "      <th>median</th>\n",
       "      <th>mean</th>\n",
       "      <th>std</th>\n",
       "    </tr>\n",
       "    <tr>\n",
       "      <th>room_type</th>\n",
       "      <th></th>\n",
       "      <th></th>\n",
       "      <th></th>\n",
       "    </tr>\n",
       "  </thead>\n",
       "  <tbody>\n",
       "    <tr>\n",
       "      <th>Entire home/apt</th>\n",
       "      <td>13869.5</td>\n",
       "      <td>29799.554928</td>\n",
       "      <td>73629.915206</td>\n",
       "    </tr>\n",
       "    <tr>\n",
       "      <th>Hotel room</th>\n",
       "      <td>10081.0</td>\n",
       "      <td>30752.153420</td>\n",
       "      <td>101631.140562</td>\n",
       "    </tr>\n",
       "    <tr>\n",
       "      <th>Private room</th>\n",
       "      <td>7547.0</td>\n",
       "      <td>12403.012591</td>\n",
       "      <td>24244.490170</td>\n",
       "    </tr>\n",
       "    <tr>\n",
       "      <th>Shared room</th>\n",
       "      <td>3479.0</td>\n",
       "      <td>6052.311983</td>\n",
       "      <td>8679.716243</td>\n",
       "    </tr>\n",
       "  </tbody>\n",
       "</table>\n",
       "</div>"
      ],
      "text/plain": [
       "                       y                             \n",
       "                  median          mean            std\n",
       "room_type                                            \n",
       "Entire home/apt  13869.5  29799.554928   73629.915206\n",
       "Hotel room       10081.0  30752.153420  101631.140562\n",
       "Private room      7547.0  12403.012591   24244.490170\n",
       "Shared room       3479.0   6052.311983    8679.716243"
      ]
     },
     "execution_count": 29,
     "metadata": {},
     "output_type": "execute_result"
    }
   ],
   "source": [
    "df_train.groupby(COL_ROOM_TYPE).agg({COL_Y: ['median', 'mean', 'std']})"
   ]
  },
  {
   "cell_type": "markdown",
   "id": "bd8569a2-3ed1-46ef-aba9-313869996bf6",
   "metadata": {},
   "source": [
    "#### minimum_night\n",
    "最短宿泊日数"
   ]
  },
  {
   "cell_type": "code",
   "execution_count": 30,
   "id": "6323153b-4532-4c86-b73e-96bbd3967cf3",
   "metadata": {},
   "outputs": [
    {
     "data": {
      "text/html": [
       "<div>\n",
       "<style scoped>\n",
       "    .dataframe tbody tr th:only-of-type {\n",
       "        vertical-align: middle;\n",
       "    }\n",
       "\n",
       "    .dataframe tbody tr th {\n",
       "        vertical-align: top;\n",
       "    }\n",
       "\n",
       "    .dataframe thead th {\n",
       "        text-align: right;\n",
       "    }\n",
       "</style>\n",
       "<table border=\"1\" class=\"dataframe\">\n",
       "  <thead>\n",
       "    <tr style=\"text-align: right;\">\n",
       "      <th></th>\n",
       "      <th>minimum_nights</th>\n",
       "    </tr>\n",
       "  </thead>\n",
       "  <tbody>\n",
       "    <tr>\n",
       "      <th>count</th>\n",
       "      <td>9990.000000</td>\n",
       "    </tr>\n",
       "    <tr>\n",
       "      <th>mean</th>\n",
       "      <td>3.331331</td>\n",
       "    </tr>\n",
       "    <tr>\n",
       "      <th>std</th>\n",
       "      <td>8.504451</td>\n",
       "    </tr>\n",
       "    <tr>\n",
       "      <th>min</th>\n",
       "      <td>1.000000</td>\n",
       "    </tr>\n",
       "    <tr>\n",
       "      <th>25%</th>\n",
       "      <td>1.000000</td>\n",
       "    </tr>\n",
       "    <tr>\n",
       "      <th>50%</th>\n",
       "      <td>1.000000</td>\n",
       "    </tr>\n",
       "    <tr>\n",
       "      <th>75%</th>\n",
       "      <td>2.000000</td>\n",
       "    </tr>\n",
       "    <tr>\n",
       "      <th>max</th>\n",
       "      <td>365.000000</td>\n",
       "    </tr>\n",
       "  </tbody>\n",
       "</table>\n",
       "</div>"
      ],
      "text/plain": [
       "       minimum_nights\n",
       "count     9990.000000\n",
       "mean         3.331331\n",
       "std          8.504451\n",
       "min          1.000000\n",
       "25%          1.000000\n",
       "50%          1.000000\n",
       "75%          2.000000\n",
       "max        365.000000"
      ]
     },
     "execution_count": 30,
     "metadata": {},
     "output_type": "execute_result"
    }
   ],
   "source": [
    "df_train[[COL_MINIMUM_NIGHTS]].describe()"
   ]
  },
  {
   "cell_type": "code",
   "execution_count": 47,
   "id": "a84feb6f-2352-4033-9747-2454404b0fb3",
   "metadata": {},
   "outputs": [
    {
     "data": {
      "image/png": "[encoded data removed]",
      "text/plain": [
       "<Figure size 432x288 with 1 Axes>"
      ]
     },
     "metadata": {
      "needs_background": "light"
     },
     "output_type": "display_data"
    }
   ],
   "source": [
    "plt.hist(df_train[COL_Y], bins=50)\n",
    "plt.show()"
   ]
  },
  {
   "cell_type": "code",
   "execution_count": 48,
   "id": "60174def-46e8-498d-9b6e-a140a54df250",
   "metadata": {},
   "outputs": [
    {
     "data": {
      "image/png": "[encoded data removed]",
      "text/plain": [
       "<Figure size 432x288 with 1 Axes>"
      ]
     },
     "metadata": {
      "needs_background": "light"
     },
     "output_type": "display_data"
    }
   ],
   "source": [
    "plt.hist(df_train['log_y'], bins=50)\n",
    "plt.show()"
   ]
  },
  {
   "cell_type": "code",
   "execution_count": 36,
   "id": "a7db1e27-8a6e-4961-8386-e49b075839df",
   "metadata": {},
   "outputs": [],
   "source": [
    "df_train['log_y'] = np.log(df_train[COL_Y])"
   ]
  },
  {
   "cell_type": "code",
   "execution_count": 37,
   "id": "9eb4ec9b-302d-4d44-bc87-3a4b0349dd77",
   "metadata": {},
   "outputs": [
    {
     "data": {
      "text/html": [
       "<div>\n",
       "<style scoped>\n",
       "    .dataframe tbody tr th:only-of-type {\n",
       "        vertical-align: middle;\n",
       "    }\n",
       "\n",
       "    .dataframe tbody tr th {\n",
       "        vertical-align: top;\n",
       "    }\n",
       "\n",
       "    .dataframe thead th {\n",
       "        text-align: right;\n",
       "    }\n",
       "</style>\n",
       "<table border=\"1\" class=\"dataframe\">\n",
       "  <thead>\n",
       "    <tr style=\"text-align: right;\">\n",
       "      <th></th>\n",
       "      <th>minimum_nights</th>\n",
       "      <th>log_y</th>\n",
       "    </tr>\n",
       "  </thead>\n",
       "  <tbody>\n",
       "    <tr>\n",
       "      <th>minimum_nights</th>\n",
       "      <td>1.000000</td>\n",
       "      <td>-0.123321</td>\n",
       "    </tr>\n",
       "    <tr>\n",
       "      <th>log_y</th>\n",
       "      <td>-0.123321</td>\n",
       "      <td>1.000000</td>\n",
       "    </tr>\n",
       "  </tbody>\n",
       "</table>\n",
       "</div>"
      ],
      "text/plain": [
       "                minimum_nights     log_y\n",
       "minimum_nights        1.000000 -0.123321\n",
       "log_y                -0.123321  1.000000"
      ]
     },
     "execution_count": 37,
     "metadata": {},
     "output_type": "execute_result"
    }
   ],
   "source": [
    "df_train[[COL_MINIMUM_NIGHTS, 'log_y']].corr()"
   ]
  },
  {
   "cell_type": "code",
   "execution_count": 42,
   "id": "d884df13-8ffa-4e17-9725-26b48d0e27ce",
   "metadata": {},
   "outputs": [],
   "source": [
    "tmp_y = np.exp(df_train['log_y'])"
   ]
  },
  {
   "cell_type": "code",
   "execution_count": 43,
   "id": "192f52bd-96d9-4593-b3c7-026119937bfb",
   "metadata": {},
   "outputs": [
    {
     "data": {
      "text/plain": [
       "0        12008.0\n",
       "1         6667.0\n",
       "2         9923.0\n",
       "3         8109.0\n",
       "4       100390.0\n",
       "          ...   \n",
       "9985     13505.0\n",
       "9986      3279.0\n",
       "9987     14898.0\n",
       "9988      3950.0\n",
       "9989     45041.0\n",
       "Name: log_y, Length: 9990, dtype: float64"
      ]
     },
     "execution_count": 43,
     "metadata": {},
     "output_type": "execute_result"
    }
   ],
   "source": [
    "tmp_y"
   ]
  },
  {
   "cell_type": "code",
   "execution_count": 44,
   "id": "cfbe607b-11d8-4ba5-b4af-969b706b0205",
   "metadata": {},
   "outputs": [
    {
     "data": {
      "text/plain": [
       "0        12008\n",
       "1         6667\n",
       "2         9923\n",
       "3         8109\n",
       "4       100390\n",
       "         ...  \n",
       "9985     13505\n",
       "9986      3279\n",
       "9987     14898\n",
       "9988      3950\n",
       "9989     45041\n",
       "Name: y, Length: 9990, dtype: int64"
      ]
     },
     "execution_count": 44,
     "metadata": {},
     "output_type": "execute_result"
    }
   ],
   "source": [
    "df_train[COL_Y]"
   ]
  },
  {
   "cell_type": "markdown",
   "id": "7e0d619b-8e33-4bae-ad54-b4ebb31090fd",
   "metadata": {},
   "source": [
    "#### number_of_reviews"
   ]
  },
  {
   "cell_type": "code",
   "execution_count": 51,
   "id": "113be422-ede1-426e-8367-c7d47e9a8017",
   "metadata": {},
   "outputs": [
    {
     "data": {
      "text/html": [
       "<div>\n",
       "<style scoped>\n",
       "    .dataframe tbody tr th:only-of-type {\n",
       "        vertical-align: middle;\n",
       "    }\n",
       "\n",
       "    .dataframe tbody tr th {\n",
       "        vertical-align: top;\n",
       "    }\n",
       "\n",
       "    .dataframe thead th {\n",
       "        text-align: right;\n",
       "    }\n",
       "</style>\n",
       "<table border=\"1\" class=\"dataframe\">\n",
       "  <thead>\n",
       "    <tr style=\"text-align: right;\">\n",
       "      <th></th>\n",
       "      <th>number_of_reviews</th>\n",
       "    </tr>\n",
       "  </thead>\n",
       "  <tbody>\n",
       "    <tr>\n",
       "      <th>count</th>\n",
       "      <td>9990.000000</td>\n",
       "    </tr>\n",
       "    <tr>\n",
       "      <th>mean</th>\n",
       "      <td>25.943143</td>\n",
       "    </tr>\n",
       "    <tr>\n",
       "      <th>std</th>\n",
       "      <td>40.586283</td>\n",
       "    </tr>\n",
       "    <tr>\n",
       "      <th>min</th>\n",
       "      <td>0.000000</td>\n",
       "    </tr>\n",
       "    <tr>\n",
       "      <th>25%</th>\n",
       "      <td>2.000000</td>\n",
       "    </tr>\n",
       "    <tr>\n",
       "      <th>50%</th>\n",
       "      <td>11.000000</td>\n",
       "    </tr>\n",
       "    <tr>\n",
       "      <th>75%</th>\n",
       "      <td>33.000000</td>\n",
       "    </tr>\n",
       "    <tr>\n",
       "      <th>max</th>\n",
       "      <td>529.000000</td>\n",
       "    </tr>\n",
       "  </tbody>\n",
       "</table>\n",
       "</div>"
      ],
      "text/plain": [
       "       number_of_reviews\n",
       "count        9990.000000\n",
       "mean           25.943143\n",
       "std            40.586283\n",
       "min             0.000000\n",
       "25%             2.000000\n",
       "50%            11.000000\n",
       "75%            33.000000\n",
       "max           529.000000"
      ]
     },
     "execution_count": 51,
     "metadata": {},
     "output_type": "execute_result"
    }
   ],
   "source": [
    "df_train[[COL_NUMBER_OF_REVIEWS]].describe()"
   ]
  },
  {
   "cell_type": "code",
   "execution_count": 53,
   "id": "5872ee1e-f89a-4d96-bfec-9b64b7cdabfa",
   "metadata": {},
   "outputs": [
    {
     "data": {
      "image/png": "[encoded data removed]",
      "text/plain": [
       "<Figure size 432x288 with 1 Axes>"
      ]
     },
     "metadata": {
      "needs_background": "light"
     },
     "output_type": "display_data"
    }
   ],
   "source": [
    "plt.hist(df_train[COL_NUMBER_OF_REVIEWS], bins=30)\n",
    "plt.show()"
   ]
  },
  {
   "cell_type": "markdown",
   "id": "3c1c2b27-adca-43c0-8db0-4232fa89c838",
   "metadata": {},
   "source": [
    "#### 最終評価日\n",
    " - NULL存在する"
   ]
  },
  {
   "cell_type": "code",
   "execution_count": 54,
   "id": "eb950b2f-fdc3-4113-be36-a9094748df7a",
   "metadata": {},
   "outputs": [
    {
     "data": {
      "text/html": [
       "<div>\n",
       "<style scoped>\n",
       "    .dataframe tbody tr th:only-of-type {\n",
       "        vertical-align: middle;\n",
       "    }\n",
       "\n",
       "    .dataframe tbody tr th {\n",
       "        vertical-align: top;\n",
       "    }\n",
       "\n",
       "    .dataframe thead th {\n",
       "        text-align: right;\n",
       "    }\n",
       "</style>\n",
       "<table border=\"1\" class=\"dataframe\">\n",
       "  <thead>\n",
       "    <tr style=\"text-align: right;\">\n",
       "      <th></th>\n",
       "      <th>reviews_per_month</th>\n",
       "    </tr>\n",
       "  </thead>\n",
       "  <tbody>\n",
       "    <tr>\n",
       "      <th>count</th>\n",
       "      <td>8291.000000</td>\n",
       "    </tr>\n",
       "    <tr>\n",
       "      <th>mean</th>\n",
       "      <td>1.700127</td>\n",
       "    </tr>\n",
       "    <tr>\n",
       "      <th>std</th>\n",
       "      <td>1.402640</td>\n",
       "    </tr>\n",
       "    <tr>\n",
       "      <th>min</th>\n",
       "      <td>0.020000</td>\n",
       "    </tr>\n",
       "    <tr>\n",
       "      <th>25%</th>\n",
       "      <td>0.680000</td>\n",
       "    </tr>\n",
       "    <tr>\n",
       "      <th>50%</th>\n",
       "      <td>1.480000</td>\n",
       "    </tr>\n",
       "    <tr>\n",
       "      <th>75%</th>\n",
       "      <td>2.420000</td>\n",
       "    </tr>\n",
       "    <tr>\n",
       "      <th>max</th>\n",
       "      <td>43.600000</td>\n",
       "    </tr>\n",
       "  </tbody>\n",
       "</table>\n",
       "</div>"
      ],
      "text/plain": [
       "       reviews_per_month\n",
       "count        8291.000000\n",
       "mean            1.700127\n",
       "std             1.402640\n",
       "min             0.020000\n",
       "25%             0.680000\n",
       "50%             1.480000\n",
       "75%             2.420000\n",
       "max            43.600000"
      ]
     },
     "execution_count": 54,
     "metadata": {},
     "output_type": "execute_result"
    }
   ],
   "source": [
    "df_train[[COL_REVIEWS_PER_MONTH]].describe()"
   ]
  },
  {
   "cell_type": "code",
   "execution_count": 55,
   "id": "f53900a2-22aa-4dd6-81a7-ae6ed2313e53",
   "metadata": {},
   "outputs": [
    {
     "data": {
      "text/html": [
       "<div>\n",
       "<style scoped>\n",
       "    .dataframe tbody tr th:only-of-type {\n",
       "        vertical-align: middle;\n",
       "    }\n",
       "\n",
       "    .dataframe tbody tr th {\n",
       "        vertical-align: top;\n",
       "    }\n",
       "\n",
       "    .dataframe thead th {\n",
       "        text-align: right;\n",
       "    }\n",
       "</style>\n",
       "<table border=\"1\" class=\"dataframe\">\n",
       "  <thead>\n",
       "    <tr style=\"text-align: right;\">\n",
       "      <th></th>\n",
       "      <th>last_review</th>\n",
       "    </tr>\n",
       "  </thead>\n",
       "  <tbody>\n",
       "    <tr>\n",
       "      <th>count</th>\n",
       "      <td>8291</td>\n",
       "    </tr>\n",
       "    <tr>\n",
       "      <th>unique</th>\n",
       "      <td>546</td>\n",
       "    </tr>\n",
       "    <tr>\n",
       "      <th>top</th>\n",
       "      <td>2020-03-22 00:00:00</td>\n",
       "    </tr>\n",
       "    <tr>\n",
       "      <th>freq</th>\n",
       "      <td>117</td>\n",
       "    </tr>\n",
       "    <tr>\n",
       "      <th>first</th>\n",
       "      <td>2016-11-19 00:00:00</td>\n",
       "    </tr>\n",
       "    <tr>\n",
       "      <th>last</th>\n",
       "      <td>2020-04-29 00:00:00</td>\n",
       "    </tr>\n",
       "  </tbody>\n",
       "</table>\n",
       "</div>"
      ],
      "text/plain": [
       "                last_review\n",
       "count                  8291\n",
       "unique                  546\n",
       "top     2020-03-22 00:00:00\n",
       "freq                    117\n",
       "first   2016-11-19 00:00:00\n",
       "last    2020-04-29 00:00:00"
      ]
     },
     "execution_count": 55,
     "metadata": {},
     "output_type": "execute_result"
    }
   ],
   "source": [
    "df_train[[COL_LAST_REVIEW]].describe()"
   ]
  },
  {
   "cell_type": "markdown",
   "id": "10eb3fce-4b74-4fbb-b6b9-fda678396e65",
   "metadata": {},
   "source": [
    "#### 経過日数を特徴量にする？"
   ]
  },
  {
   "cell_type": "code",
   "execution_count": 58,
   "id": "8773e023-a9ff-4fd4-ba38-7ee22d9c5f79",
   "metadata": {},
   "outputs": [
    {
     "data": {
      "text/html": [
       "<div>\n",
       "<style scoped>\n",
       "    .dataframe tbody tr th:only-of-type {\n",
       "        vertical-align: middle;\n",
       "    }\n",
       "\n",
       "    .dataframe tbody tr th {\n",
       "        vertical-align: top;\n",
       "    }\n",
       "\n",
       "    .dataframe thead th {\n",
       "        text-align: right;\n",
       "    }\n",
       "</style>\n",
       "<table border=\"1\" class=\"dataframe\">\n",
       "  <thead>\n",
       "    <tr style=\"text-align: right;\">\n",
       "      <th></th>\n",
       "      <th>last_review</th>\n",
       "      <th>y</th>\n",
       "    </tr>\n",
       "  </thead>\n",
       "  <tbody>\n",
       "    <tr>\n",
       "      <th>179</th>\n",
       "      <td>2020-04-29</td>\n",
       "      <td>12518</td>\n",
       "    </tr>\n",
       "    <tr>\n",
       "      <th>684</th>\n",
       "      <td>2020-04-29</td>\n",
       "      <td>14990</td>\n",
       "    </tr>\n",
       "    <tr>\n",
       "      <th>2831</th>\n",
       "      <td>2020-04-29</td>\n",
       "      <td>7995</td>\n",
       "    </tr>\n",
       "  </tbody>\n",
       "</table>\n",
       "</div>"
      ],
      "text/plain": [
       "     last_review      y\n",
       "179   2020-04-29  12518\n",
       "684   2020-04-29  14990\n",
       "2831  2020-04-29   7995"
      ]
     },
     "execution_count": 58,
     "metadata": {},
     "output_type": "execute_result"
    }
   ],
   "source": [
    "df_train[[COL_LAST_REVIEW, COL_Y]].sort_values(by=COL_LAST_REVIEW, ascending=False).head(3)"
   ]
  },
  {
   "cell_type": "code",
   "execution_count": 59,
   "id": "adbbccba-4e7d-47ef-a75a-5db47bc80aa7",
   "metadata": {},
   "outputs": [
    {
     "data": {
      "text/html": [
       "<div>\n",
       "<style scoped>\n",
       "    .dataframe tbody tr th:only-of-type {\n",
       "        vertical-align: middle;\n",
       "    }\n",
       "\n",
       "    .dataframe tbody tr th {\n",
       "        vertical-align: top;\n",
       "    }\n",
       "\n",
       "    .dataframe thead th {\n",
       "        text-align: right;\n",
       "    }\n",
       "</style>\n",
       "<table border=\"1\" class=\"dataframe\">\n",
       "  <thead>\n",
       "    <tr style=\"text-align: right;\">\n",
       "      <th></th>\n",
       "      <th>last_review</th>\n",
       "      <th>y</th>\n",
       "    </tr>\n",
       "  </thead>\n",
       "  <tbody>\n",
       "    <tr>\n",
       "      <th>4077</th>\n",
       "      <td>2016-11-19</td>\n",
       "      <td>8069</td>\n",
       "    </tr>\n",
       "    <tr>\n",
       "      <th>8204</th>\n",
       "      <td>2017-04-12</td>\n",
       "      <td>8067</td>\n",
       "    </tr>\n",
       "    <tr>\n",
       "      <th>3277</th>\n",
       "      <td>2017-04-29</td>\n",
       "      <td>7810</td>\n",
       "    </tr>\n",
       "  </tbody>\n",
       "</table>\n",
       "</div>"
      ],
      "text/plain": [
       "     last_review     y\n",
       "4077  2016-11-19  8069\n",
       "8204  2017-04-12  8067\n",
       "3277  2017-04-29  7810"
      ]
     },
     "execution_count": 59,
     "metadata": {},
     "output_type": "execute_result"
    }
   ],
   "source": [
    "df_train[[COL_LAST_REVIEW, COL_Y]].sort_values(by=COL_LAST_REVIEW, ascending=True).head(3)"
   ]
  },
  {
   "cell_type": "code",
   "execution_count": 60,
   "id": "e87ba8de-5e75-4d5a-8b6f-6a346bf29f82",
   "metadata": {},
   "outputs": [
    {
     "data": {
      "text/html": [
       "<div>\n",
       "<style scoped>\n",
       "    .dataframe tbody tr th:only-of-type {\n",
       "        vertical-align: middle;\n",
       "    }\n",
       "\n",
       "    .dataframe tbody tr th {\n",
       "        vertical-align: top;\n",
       "    }\n",
       "\n",
       "    .dataframe thead th {\n",
       "        text-align: right;\n",
       "    }\n",
       "</style>\n",
       "<table border=\"1\" class=\"dataframe\">\n",
       "  <thead>\n",
       "    <tr style=\"text-align: right;\">\n",
       "      <th></th>\n",
       "      <th>availability_365</th>\n",
       "    </tr>\n",
       "  </thead>\n",
       "  <tbody>\n",
       "    <tr>\n",
       "      <th>count</th>\n",
       "      <td>9990.000000</td>\n",
       "    </tr>\n",
       "    <tr>\n",
       "      <th>mean</th>\n",
       "      <td>157.202102</td>\n",
       "    </tr>\n",
       "    <tr>\n",
       "      <th>std</th>\n",
       "      <td>115.780646</td>\n",
       "    </tr>\n",
       "    <tr>\n",
       "      <th>min</th>\n",
       "      <td>0.000000</td>\n",
       "    </tr>\n",
       "    <tr>\n",
       "      <th>25%</th>\n",
       "      <td>63.000000</td>\n",
       "    </tr>\n",
       "    <tr>\n",
       "      <th>50%</th>\n",
       "      <td>154.000000</td>\n",
       "    </tr>\n",
       "    <tr>\n",
       "      <th>75%</th>\n",
       "      <td>248.000000</td>\n",
       "    </tr>\n",
       "    <tr>\n",
       "      <th>max</th>\n",
       "      <td>365.000000</td>\n",
       "    </tr>\n",
       "  </tbody>\n",
       "</table>\n",
       "</div>"
      ],
      "text/plain": [
       "       availability_365\n",
       "count       9990.000000\n",
       "mean         157.202102\n",
       "std          115.780646\n",
       "min            0.000000\n",
       "25%           63.000000\n",
       "50%          154.000000\n",
       "75%          248.000000\n",
       "max          365.000000"
      ]
     },
     "execution_count": 60,
     "metadata": {},
     "output_type": "execute_result"
    }
   ],
   "source": [
    "df_train[[COL_AVAILABILITY_365]].describe()"
   ]
  },
  {
   "cell_type": "code",
   "execution_count": null,
   "id": "6613e796-b45a-4ef2-85cb-42341f007ea4",
   "metadata": {},
   "outputs": [],
   "source": []
  }
 ],
 "metadata": {
  "kernelspec": {
   "display_name": "Python 3 (ipykernel)",
   "language": "python",
   "name": "python3"
  },
  "language_info": {
   "codemirror_mode": {
    "name": "ipython",
    "version": 3
   },
   "file_extension": ".py",
   "mimetype": "text/x-python",
   "name": "python",
   "nbconvert_exporter": "python",
   "pygments_lexer": "ipython3",
   "version": "3.8.12"
  }
 },
 "nbformat": 4,
 "nbformat_minor": 5
}
