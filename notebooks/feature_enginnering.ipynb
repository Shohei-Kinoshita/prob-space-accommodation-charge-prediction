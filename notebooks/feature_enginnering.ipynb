{
 "cells": [
  {
   "cell_type": "markdown",
   "id": "dfd26e08-0abc-4bcb-b023-cd9613c40066",
   "metadata": {},
   "source": [
    "##### 特徴量の作成用"
   ]
  },
  {
   "cell_type": "code",
   "execution_count": 1,
   "id": "71c9cbab-95e4-4b8b-a909-3d196e4d0ae3",
   "metadata": {},
   "outputs": [],
   "source": [
    "import os\n",
    "os.chdir('/Users/kinoshitashouhei/Desktop/competitions/05_Prob_Space/accommodation_charge_prediction/')"
   ]
  },
  {
   "cell_type": "code",
   "execution_count": 10,
   "id": "ae3e51ff-95d5-4921-9f47-938eab027bd7",
   "metadata": {
    "tags": []
   },
   "outputs": [],
   "source": [
    "import numpy as np\n",
    "import pandas as pd\n",
    "import matplotlib.pyplot as plt\n",
    "import seaborn as sns\n",
    "import collections\n",
    "import warnings\n",
    "import lightgbm as lgb\n",
    "from sklearn.model_selection import train_test_split\n",
    "from sklearn.metrics import mean_squared_log_error\n",
    "from sklearn.preprocessing import LabelEncoder\n",
    "from geopy.distance import geodesic\n",
    "\n",
    "from src.config import *\n",
    "import src.preprocessing as pr\n",
    "\n",
    "warnings.filterwarnings('ignore')"
   ]
  },
  {
   "cell_type": "code",
   "execution_count": 3,
   "id": "49e051b3-b7a6-4ee7-861a-0fd84fc4621b",
   "metadata": {},
   "outputs": [],
   "source": [
    "df_train = pd.read_csv('input/train_data.csv', parse_dates=[COL_LAST_REVIEW], dtype=DICT_DTYPES)\n",
    "df_test = pd.read_csv('input/test_data.csv', parse_dates=[COL_LAST_REVIEW], dtype=DICT_DTYPES)\n",
    "df_station_list = pd.read_csv('input/station_list.csv')\n",
    "sample_sub = pd.read_csv('input/submission.csv')"
   ]
  },
  {
   "cell_type": "code",
   "execution_count": 4,
   "id": "16a93671-20ce-4226-ba9e-19baaae12505",
   "metadata": {},
   "outputs": [],
   "source": [
    "LIST_USE_COL = [COL_NEIGHBOURHOOD,\n",
    "                COL_LATITUDE,\n",
    "                COL_LONGITUDE,\n",
    "                COL_ROOM_TYPE,\n",
    "                COL_MINIMUM_NIGHTS,\n",
    "                COL_NUMBER_OF_REVIEWS,\n",
    "                COL_REVIEWS_PER_MONTH,\n",
    "                COL_AVAILABILITY_365]"
   ]
  },
  {
   "cell_type": "code",
   "execution_count": 5,
   "id": "f41d1d29-5094-4761-869e-e48172fd9efd",
   "metadata": {},
   "outputs": [],
   "source": [
    "LIST_LABEL_ENC = [COL_NEIGHBOURHOOD,\n",
    "                  COL_ROOM_TYPE]"
   ]
  },
  {
   "cell_type": "code",
   "execution_count": 6,
   "id": "d73567dd-955c-45db-a1b9-c0614773b0b6",
   "metadata": {},
   "outputs": [],
   "source": [
    "df_all = pd.concat([\n",
    "    df_train[LIST_USE_COL],\n",
    "    df_test[LIST_USE_COL]\n",
    "]).reset_index(drop=True)"
   ]
  },
  {
   "cell_type": "code",
   "execution_count": 7,
   "id": "1ed5333e-c612-4bca-9d1b-6b3b8c7e2a9d",
   "metadata": {},
   "outputs": [],
   "source": [
    "df_all.fillna(0, inplace=True)"
   ]
  },
  {
   "cell_type": "markdown",
   "id": "3f3f0fb9-e9ea-4a10-ada9-7a5c7f3fcc0f",
   "metadata": {},
   "source": [
    "#### 2点間の距離から、最寄りの駅を計算"
   ]
  },
  {
   "cell_type": "code",
   "execution_count": 46,
   "id": "e0e531b3-b705-4bfe-b650-d7e5b29c246b",
   "metadata": {},
   "outputs": [
    {
     "name": "stdout",
     "output_type": "stream",
     "text": [
      "CPU times: user 7min 23s, sys: 776 ms, total: 7min 24s\n",
      "Wall time: 7min 24s\n"
     ]
    }
   ],
   "source": [
    "%%time\n",
    "list_distance = []\n",
    "for i in range(len(df_all)):\n",
    "    list_tmp = []\n",
    "    coordinate = (df_all.loc[i, COL_LATITUDE], df_all.loc[i, COL_LONGITUDE])\n",
    "    for j in range(len(df_station_list)):\n",
    "        compare_coordinate = (df_station_list.loc[j, COL_LATITUDE], df_station_list.loc[j, COL_LONGITUDE])\n",
    "        list_tmp.append(geodesic(coordinate, compare_coordinate).km)\n",
    "    list_distance.append(list_tmp.index(min(list_tmp)))"
   ]
  },
  {
   "cell_type": "code",
   "execution_count": 50,
   "id": "2f3689c6-a964-4152-aa2c-d239e4c2f2da",
   "metadata": {},
   "outputs": [],
   "source": [
    "df_all['nearest_station_index'] = list_distance"
   ]
  },
  {
   "cell_type": "code",
   "execution_count": 51,
   "id": "ece57d12-731a-4f6e-8f96-b9f3fac97dc3",
   "metadata": {},
   "outputs": [
    {
     "data": {
      "text/html": [
       "<div>\n",
       "<style scoped>\n",
       "    .dataframe tbody tr th:only-of-type {\n",
       "        vertical-align: middle;\n",
       "    }\n",
       "\n",
       "    .dataframe tbody tr th {\n",
       "        vertical-align: top;\n",
       "    }\n",
       "\n",
       "    .dataframe thead th {\n",
       "        text-align: right;\n",
       "    }\n",
       "</style>\n",
       "<table border=\"1\" class=\"dataframe\">\n",
       "  <thead>\n",
       "    <tr style=\"text-align: right;\">\n",
       "      <th></th>\n",
       "      <th>neighbourhood</th>\n",
       "      <th>latitude</th>\n",
       "      <th>longitude</th>\n",
       "      <th>room_type</th>\n",
       "      <th>minimum_nights</th>\n",
       "      <th>number_of_reviews</th>\n",
       "      <th>reviews_per_month</th>\n",
       "      <th>availability_365</th>\n",
       "      <th>nearest_station_index</th>\n",
       "    </tr>\n",
       "  </thead>\n",
       "  <tbody>\n",
       "    <tr>\n",
       "      <th>0</th>\n",
       "      <td>Koto Ku</td>\n",
       "      <td>35.68185</td>\n",
       "      <td>139.80310</td>\n",
       "      <td>Entire home/apt</td>\n",
       "      <td>1</td>\n",
       "      <td>55</td>\n",
       "      <td>2.21</td>\n",
       "      <td>173</td>\n",
       "      <td>154</td>\n",
       "    </tr>\n",
       "    <tr>\n",
       "      <th>1</th>\n",
       "      <td>Taito Ku</td>\n",
       "      <td>35.72063</td>\n",
       "      <td>139.78536</td>\n",
       "      <td>Entire home/apt</td>\n",
       "      <td>6</td>\n",
       "      <td>72</td>\n",
       "      <td>2.11</td>\n",
       "      <td>9</td>\n",
       "      <td>21</td>\n",
       "    </tr>\n",
       "    <tr>\n",
       "      <th>2</th>\n",
       "      <td>Katsushika Ku</td>\n",
       "      <td>35.74723</td>\n",
       "      <td>139.82349</td>\n",
       "      <td>Entire home/apt</td>\n",
       "      <td>1</td>\n",
       "      <td>18</td>\n",
       "      <td>3.46</td>\n",
       "      <td>288</td>\n",
       "      <td>91</td>\n",
       "    </tr>\n",
       "    <tr>\n",
       "      <th>3</th>\n",
       "      <td>Shibuya Ku</td>\n",
       "      <td>35.68456</td>\n",
       "      <td>139.68077</td>\n",
       "      <td>Entire home/apt</td>\n",
       "      <td>1</td>\n",
       "      <td>2</td>\n",
       "      <td>1.76</td>\n",
       "      <td>87</td>\n",
       "      <td>110</td>\n",
       "    </tr>\n",
       "    <tr>\n",
       "      <th>4</th>\n",
       "      <td>Shinjuku Ku</td>\n",
       "      <td>35.69840</td>\n",
       "      <td>139.70467</td>\n",
       "      <td>Entire home/apt</td>\n",
       "      <td>1</td>\n",
       "      <td>86</td>\n",
       "      <td>2.00</td>\n",
       "      <td>156</td>\n",
       "      <td>11</td>\n",
       "    </tr>\n",
       "  </tbody>\n",
       "</table>\n",
       "</div>"
      ],
      "text/plain": [
       "   neighbourhood  latitude  longitude        room_type  minimum_nights  \\\n",
       "0        Koto Ku  35.68185  139.80310  Entire home/apt               1   \n",
       "1       Taito Ku  35.72063  139.78536  Entire home/apt               6   \n",
       "2  Katsushika Ku  35.74723  139.82349  Entire home/apt               1   \n",
       "3     Shibuya Ku  35.68456  139.68077  Entire home/apt               1   \n",
       "4    Shinjuku Ku  35.69840  139.70467  Entire home/apt               1   \n",
       "\n",
       "   number_of_reviews  reviews_per_month  availability_365  \\\n",
       "0                 55               2.21               173   \n",
       "1                 72               2.11                 9   \n",
       "2                 18               3.46               288   \n",
       "3                  2               1.76                87   \n",
       "4                 86               2.00               156   \n",
       "\n",
       "   nearest_station_index  \n",
       "0                    154  \n",
       "1                     21  \n",
       "2                     91  \n",
       "3                    110  \n",
       "4                     11  "
      ]
     },
     "execution_count": 51,
     "metadata": {},
     "output_type": "execute_result"
    }
   ],
   "source": [
    "df_all.head()"
   ]
  },
  {
   "cell_type": "code",
   "execution_count": 59,
   "id": "04ea1175-f697-4e22-9b6f-1a479366966d",
   "metadata": {},
   "outputs": [],
   "source": [
    "df_station_list['nearest_station_index'] = df_station_list.index"
   ]
  },
  {
   "cell_type": "code",
   "execution_count": 60,
   "id": "67144db0-a88e-4097-8ac0-24108f1fa5cb",
   "metadata": {},
   "outputs": [
    {
     "data": {
      "text/html": [
       "<div>\n",
       "<style scoped>\n",
       "    .dataframe tbody tr th:only-of-type {\n",
       "        vertical-align: middle;\n",
       "    }\n",
       "\n",
       "    .dataframe tbody tr th {\n",
       "        vertical-align: top;\n",
       "    }\n",
       "\n",
       "    .dataframe thead th {\n",
       "        text-align: right;\n",
       "    }\n",
       "</style>\n",
       "<table border=\"1\" class=\"dataframe\">\n",
       "  <thead>\n",
       "    <tr style=\"text-align: right;\">\n",
       "      <th></th>\n",
       "      <th>station_name</th>\n",
       "      <th>longitude</th>\n",
       "      <th>latitude</th>\n",
       "      <th>No</th>\n",
       "      <th>nearest_station_index</th>\n",
       "    </tr>\n",
       "  </thead>\n",
       "  <tbody>\n",
       "    <tr>\n",
       "      <th>0</th>\n",
       "      <td>東京</td>\n",
       "      <td>139.766103</td>\n",
       "      <td>35.681391</td>\n",
       "      <td>0</td>\n",
       "      <td>0</td>\n",
       "    </tr>\n",
       "    <tr>\n",
       "      <th>1</th>\n",
       "      <td>新橋</td>\n",
       "      <td>139.758587</td>\n",
       "      <td>35.666195</td>\n",
       "      <td>1</td>\n",
       "      <td>1</td>\n",
       "    </tr>\n",
       "    <tr>\n",
       "      <th>2</th>\n",
       "      <td>品川</td>\n",
       "      <td>139.738999</td>\n",
       "      <td>35.628760</td>\n",
       "      <td>2</td>\n",
       "      <td>2</td>\n",
       "    </tr>\n",
       "    <tr>\n",
       "      <th>3</th>\n",
       "      <td>大崎</td>\n",
       "      <td>139.728439</td>\n",
       "      <td>35.619772</td>\n",
       "      <td>3</td>\n",
       "      <td>3</td>\n",
       "    </tr>\n",
       "    <tr>\n",
       "      <th>4</th>\n",
       "      <td>五反田</td>\n",
       "      <td>139.723822</td>\n",
       "      <td>35.625974</td>\n",
       "      <td>4</td>\n",
       "      <td>4</td>\n",
       "    </tr>\n",
       "  </tbody>\n",
       "</table>\n",
       "</div>"
      ],
      "text/plain": [
       "  station_name   longitude   latitude  No  nearest_station_index\n",
       "0           東京  139.766103  35.681391   0                      0\n",
       "1           新橋  139.758587  35.666195   1                      1\n",
       "2           品川  139.738999  35.628760   2                      2\n",
       "3           大崎  139.728439  35.619772   3                      3\n",
       "4          五反田  139.723822  35.625974   4                      4"
      ]
     },
     "execution_count": 60,
     "metadata": {},
     "output_type": "execute_result"
    }
   ],
   "source": [
    "df_station_list.head()"
   ]
  },
  {
   "cell_type": "code",
   "execution_count": 61,
   "id": "545a5077-a97c-4d11-8797-913e2ea12270",
   "metadata": {},
   "outputs": [],
   "source": [
    "df_merge = pd.merge(df_all, df_station_list[[COL_STATION_NAME, 'nearest_station_index']], on='nearest_station_index', how='left')"
   ]
  },
  {
   "cell_type": "code",
   "execution_count": 62,
   "id": "8d49d9d5-1982-4d41-bac7-8a376f372d41",
   "metadata": {},
   "outputs": [
    {
     "data": {
      "text/html": [
       "<div>\n",
       "<style scoped>\n",
       "    .dataframe tbody tr th:only-of-type {\n",
       "        vertical-align: middle;\n",
       "    }\n",
       "\n",
       "    .dataframe tbody tr th {\n",
       "        vertical-align: top;\n",
       "    }\n",
       "\n",
       "    .dataframe thead th {\n",
       "        text-align: right;\n",
       "    }\n",
       "</style>\n",
       "<table border=\"1\" class=\"dataframe\">\n",
       "  <thead>\n",
       "    <tr style=\"text-align: right;\">\n",
       "      <th></th>\n",
       "      <th>neighbourhood</th>\n",
       "      <th>latitude</th>\n",
       "      <th>longitude</th>\n",
       "      <th>room_type</th>\n",
       "      <th>minimum_nights</th>\n",
       "      <th>number_of_reviews</th>\n",
       "      <th>reviews_per_month</th>\n",
       "      <th>availability_365</th>\n",
       "      <th>nearest_station_index</th>\n",
       "      <th>station_name</th>\n",
       "    </tr>\n",
       "  </thead>\n",
       "  <tbody>\n",
       "    <tr>\n",
       "      <th>0</th>\n",
       "      <td>Koto Ku</td>\n",
       "      <td>35.68185</td>\n",
       "      <td>139.80310</td>\n",
       "      <td>Entire home/apt</td>\n",
       "      <td>1</td>\n",
       "      <td>55</td>\n",
       "      <td>2.21</td>\n",
       "      <td>173</td>\n",
       "      <td>154</td>\n",
       "      <td>月島</td>\n",
       "    </tr>\n",
       "    <tr>\n",
       "      <th>1</th>\n",
       "      <td>Taito Ku</td>\n",
       "      <td>35.72063</td>\n",
       "      <td>139.78536</td>\n",
       "      <td>Entire home/apt</td>\n",
       "      <td>6</td>\n",
       "      <td>72</td>\n",
       "      <td>2.11</td>\n",
       "      <td>9</td>\n",
       "      <td>21</td>\n",
       "      <td>鶯谷</td>\n",
       "    </tr>\n",
       "    <tr>\n",
       "      <th>2</th>\n",
       "      <td>Katsushika Ku</td>\n",
       "      <td>35.74723</td>\n",
       "      <td>139.82349</td>\n",
       "      <td>Entire home/apt</td>\n",
       "      <td>1</td>\n",
       "      <td>18</td>\n",
       "      <td>3.46</td>\n",
       "      <td>288</td>\n",
       "      <td>91</td>\n",
       "      <td>鐘ヶ淵</td>\n",
       "    </tr>\n",
       "    <tr>\n",
       "      <th>3</th>\n",
       "      <td>Shibuya Ku</td>\n",
       "      <td>35.68456</td>\n",
       "      <td>139.68077</td>\n",
       "      <td>Entire home/apt</td>\n",
       "      <td>1</td>\n",
       "      <td>2</td>\n",
       "      <td>1.76</td>\n",
       "      <td>87</td>\n",
       "      <td>110</td>\n",
       "      <td>幡ヶ谷</td>\n",
       "    </tr>\n",
       "    <tr>\n",
       "      <th>4</th>\n",
       "      <td>Shinjuku Ku</td>\n",
       "      <td>35.69840</td>\n",
       "      <td>139.70467</td>\n",
       "      <td>Entire home/apt</td>\n",
       "      <td>1</td>\n",
       "      <td>86</td>\n",
       "      <td>2.00</td>\n",
       "      <td>156</td>\n",
       "      <td>11</td>\n",
       "      <td>新大久保</td>\n",
       "    </tr>\n",
       "  </tbody>\n",
       "</table>\n",
       "</div>"
      ],
      "text/plain": [
       "   neighbourhood  latitude  longitude        room_type  minimum_nights  \\\n",
       "0        Koto Ku  35.68185  139.80310  Entire home/apt               1   \n",
       "1       Taito Ku  35.72063  139.78536  Entire home/apt               6   \n",
       "2  Katsushika Ku  35.74723  139.82349  Entire home/apt               1   \n",
       "3     Shibuya Ku  35.68456  139.68077  Entire home/apt               1   \n",
       "4    Shinjuku Ku  35.69840  139.70467  Entire home/apt               1   \n",
       "\n",
       "   number_of_reviews  reviews_per_month  availability_365  \\\n",
       "0                 55               2.21               173   \n",
       "1                 72               2.11                 9   \n",
       "2                 18               3.46               288   \n",
       "3                  2               1.76                87   \n",
       "4                 86               2.00               156   \n",
       "\n",
       "   nearest_station_index station_name  \n",
       "0                    154           月島  \n",
       "1                     21           鶯谷  \n",
       "2                     91          鐘ヶ淵  \n",
       "3                    110          幡ヶ谷  \n",
       "4                     11         新大久保  "
      ]
     },
     "execution_count": 62,
     "metadata": {},
     "output_type": "execute_result"
    }
   ],
   "source": [
    "df_merge.head()"
   ]
  },
  {
   "cell_type": "code",
   "execution_count": 65,
   "id": "b36e365e-08c0-44d4-acbf-c28751b03e33",
   "metadata": {},
   "outputs": [],
   "source": [
    "df_train_join = df_train[[COL_ID, COL_HOST_ID]]\n",
    "df_test_join = df_test[[COL_ID, COL_HOST_ID]]"
   ]
  },
  {
   "cell_type": "code",
   "execution_count": 71,
   "id": "826ec048-ffba-40f9-a123-df3340ced741",
   "metadata": {},
   "outputs": [],
   "source": [
    "df_train_station_info = df_merge[:df_train.shape[0]].reset_index(drop=True)[['nearest_station_index', 'station_name']]\n",
    "df_test_station_info = df_merge[df_train.shape[0]:].reset_index(drop=True)[['nearest_station_index', 'station_name']]"
   ]
  },
  {
   "cell_type": "code",
   "execution_count": 72,
   "id": "cacaf234-61a0-463b-820a-57f6661f7f5f",
   "metadata": {},
   "outputs": [
    {
     "data": {
      "text/html": [
       "<div>\n",
       "<style scoped>\n",
       "    .dataframe tbody tr th:only-of-type {\n",
       "        vertical-align: middle;\n",
       "    }\n",
       "\n",
       "    .dataframe tbody tr th {\n",
       "        vertical-align: top;\n",
       "    }\n",
       "\n",
       "    .dataframe thead th {\n",
       "        text-align: right;\n",
       "    }\n",
       "</style>\n",
       "<table border=\"1\" class=\"dataframe\">\n",
       "  <thead>\n",
       "    <tr style=\"text-align: right;\">\n",
       "      <th></th>\n",
       "      <th>nearest_station_index</th>\n",
       "      <th>station_name</th>\n",
       "    </tr>\n",
       "  </thead>\n",
       "  <tbody>\n",
       "    <tr>\n",
       "      <th>0</th>\n",
       "      <td>154</td>\n",
       "      <td>月島</td>\n",
       "    </tr>\n",
       "    <tr>\n",
       "      <th>1</th>\n",
       "      <td>21</td>\n",
       "      <td>鶯谷</td>\n",
       "    </tr>\n",
       "    <tr>\n",
       "      <th>2</th>\n",
       "      <td>91</td>\n",
       "      <td>鐘ヶ淵</td>\n",
       "    </tr>\n",
       "    <tr>\n",
       "      <th>3</th>\n",
       "      <td>110</td>\n",
       "      <td>幡ヶ谷</td>\n",
       "    </tr>\n",
       "    <tr>\n",
       "      <th>4</th>\n",
       "      <td>11</td>\n",
       "      <td>新大久保</td>\n",
       "    </tr>\n",
       "  </tbody>\n",
       "</table>\n",
       "</div>"
      ],
      "text/plain": [
       "   nearest_station_index station_name\n",
       "0                    154           月島\n",
       "1                     21           鶯谷\n",
       "2                     91          鐘ヶ淵\n",
       "3                    110          幡ヶ谷\n",
       "4                     11         新大久保"
      ]
     },
     "execution_count": 72,
     "metadata": {},
     "output_type": "execute_result"
    }
   ],
   "source": [
    "df_train_station_info.head()"
   ]
  },
  {
   "cell_type": "code",
   "execution_count": 76,
   "id": "cb3bfb78-a173-4966-a643-c0ccca53aa40",
   "metadata": {},
   "outputs": [],
   "source": [
    "df_train_station_info = pd.concat([df_train_join, df_train_station_info], axis=1)"
   ]
  },
  {
   "cell_type": "code",
   "execution_count": 77,
   "id": "4c1da3fa-5a2a-4ce1-a953-3b2046ebdd44",
   "metadata": {},
   "outputs": [
    {
     "data": {
      "text/html": [
       "<div>\n",
       "<style scoped>\n",
       "    .dataframe tbody tr th:only-of-type {\n",
       "        vertical-align: middle;\n",
       "    }\n",
       "\n",
       "    .dataframe tbody tr th {\n",
       "        vertical-align: top;\n",
       "    }\n",
       "\n",
       "    .dataframe thead th {\n",
       "        text-align: right;\n",
       "    }\n",
       "</style>\n",
       "<table border=\"1\" class=\"dataframe\">\n",
       "  <thead>\n",
       "    <tr style=\"text-align: right;\">\n",
       "      <th></th>\n",
       "      <th>id</th>\n",
       "      <th>host_id</th>\n",
       "      <th>nearest_station_index</th>\n",
       "      <th>station_name</th>\n",
       "    </tr>\n",
       "  </thead>\n",
       "  <tbody>\n",
       "    <tr>\n",
       "      <th>0</th>\n",
       "      <td>1</td>\n",
       "      <td>242899459</td>\n",
       "      <td>154</td>\n",
       "      <td>月島</td>\n",
       "    </tr>\n",
       "    <tr>\n",
       "      <th>1</th>\n",
       "      <td>2</td>\n",
       "      <td>308879948</td>\n",
       "      <td>21</td>\n",
       "      <td>鶯谷</td>\n",
       "    </tr>\n",
       "    <tr>\n",
       "      <th>2</th>\n",
       "      <td>3</td>\n",
       "      <td>300877823</td>\n",
       "      <td>91</td>\n",
       "      <td>鐘ヶ淵</td>\n",
       "    </tr>\n",
       "    <tr>\n",
       "      <th>3</th>\n",
       "      <td>4</td>\n",
       "      <td>236935461</td>\n",
       "      <td>110</td>\n",
       "      <td>幡ヶ谷</td>\n",
       "    </tr>\n",
       "    <tr>\n",
       "      <th>4</th>\n",
       "      <td>5</td>\n",
       "      <td>243408889</td>\n",
       "      <td>11</td>\n",
       "      <td>新大久保</td>\n",
       "    </tr>\n",
       "  </tbody>\n",
       "</table>\n",
       "</div>"
      ],
      "text/plain": [
       "  id    host_id  nearest_station_index station_name\n",
       "0  1  242899459                    154           月島\n",
       "1  2  308879948                     21           鶯谷\n",
       "2  3  300877823                     91          鐘ヶ淵\n",
       "3  4  236935461                    110          幡ヶ谷\n",
       "4  5  243408889                     11         新大久保"
      ]
     },
     "execution_count": 77,
     "metadata": {},
     "output_type": "execute_result"
    }
   ],
   "source": [
    "df_train_station_info.head()"
   ]
  },
  {
   "cell_type": "code",
   "execution_count": 79,
   "id": "047ed2eb-c610-4c5f-a370-4786ad033ef5",
   "metadata": {},
   "outputs": [],
   "source": [
    "df_test_station_info = pd.concat([df_test_join, df_test_station_info], axis=1)"
   ]
  },
  {
   "cell_type": "code",
   "execution_count": 81,
   "id": "c3cd4ce8-40d5-4a34-9629-a96cc88a71c5",
   "metadata": {},
   "outputs": [],
   "source": [
    "df_train_station_info.to_csv('input/train_data_station_info.csv', index=False)\n",
    "df_test_station_info.to_csv('input/test_data_station_info.csv', index=False)"
   ]
  },
  {
   "cell_type": "code",
   "execution_count": null,
   "id": "2fc71bbe-2282-44c7-86e0-8d313d8c5d8a",
   "metadata": {},
   "outputs": [],
   "source": []
  }
 ],
 "metadata": {
  "kernelspec": {
   "display_name": "Python 3 (ipykernel)",
   "language": "python",
   "name": "python3"
  },
  "language_info": {
   "codemirror_mode": {
    "name": "ipython",
    "version": 3
   },
   "file_extension": ".py",
   "mimetype": "text/x-python",
   "name": "python",
   "nbconvert_exporter": "python",
   "pygments_lexer": "ipython3",
   "version": "3.8.12"
  }
 },
 "nbformat": 4,
 "nbformat_minor": 5
}
