{
  "nbformat": 4,
  "nbformat_minor": 0,
  "metadata": {
    "colab": {
      "name": "Neural_Network.ipynb",
      "provenance": [],
      "collapsed_sections": [],
      "machine_shape": "hm",
      "authorship_tag": "ABX9TyPZAlSNwu+KgqcvnfunE3fC",
      "include_colab_link": true
    },
    "kernelspec": {
      "name": "python3",
      "display_name": "Python 3"
    },
    "language_info": {
      "name": "python"
    },
    "accelerator": "GPU"
  },
  "cells": [
    {
      "cell_type": "markdown",
      "metadata": {
        "id": "view-in-github",
        "colab_type": "text"
      },
      "source": [
        "<a href=\"https://colab.research.google.com/github/Shohei-Kinoshita/prob-space-accommodation-charge-prediction/blob/main/Neural_Network.ipynb\" target=\"_parent\"><img src=\"https://colab.research.google.com/assets/colab-badge.svg\" alt=\"Open In Colab\"/></a>"
      ]
    },
    {
      "cell_type": "code",
      "execution_count": null,
      "metadata": {
        "colab": {
          "base_uri": "https://localhost:8080/"
        },
        "id": "kZnKgWf6wZR8",
        "outputId": "22a4fec4-35cb-461d-d213-74d05d5aa53f"
      },
      "outputs": [
        {
          "output_type": "stream",
          "name": "stdout",
          "text": [
            "Mounted at /content/drive\n",
            "/content/drive/MyDrive/分析コンペ/05_ProbSpace/accommodation_charge_prediction\n"
          ]
        }
      ],
      "source": [
        "from google.colab import drive\n",
        "drive.mount('/content/drive')\n",
        "# カレントディレクトリの指定\n",
        "%cd /content/drive/MyDrive/分析コンペ/05_ProbSpace/accommodation_charge_prediction"
      ]
    },
    {
      "cell_type": "code",
      "source": [
        "! nvidia-smi"
      ],
      "metadata": {
        "colab": {
          "base_uri": "https://localhost:8080/"
        },
        "id": "DQ2OSb91rYxR",
        "outputId": "7d73a753-1d6b-4dc2-9541-468728daef21"
      },
      "execution_count": null,
      "outputs": [
        {
          "output_type": "stream",
          "name": "stdout",
          "text": [
            "Mon Mar 14 11:20:42 2022       \n",
            "+-----------------------------------------------------------------------------+\n",
            "| NVIDIA-SMI 460.32.03    Driver Version: 460.32.03    CUDA Version: 11.2     |\n",
            "|-------------------------------+----------------------+----------------------+\n",
            "| GPU  Name        Persistence-M| Bus-Id        Disp.A | Volatile Uncorr. ECC |\n",
            "| Fan  Temp  Perf  Pwr:Usage/Cap|         Memory-Usage | GPU-Util  Compute M. |\n",
            "|                               |                      |               MIG M. |\n",
            "|===============================+======================+======================|\n",
            "|   0  Tesla T4            Off  | 00000000:00:04.0 Off |                    0 |\n",
            "| N/A   37C    P8     9W /  70W |      0MiB / 15109MiB |      0%      Default |\n",
            "|                               |                      |                  N/A |\n",
            "+-------------------------------+----------------------+----------------------+\n",
            "                                                                               \n",
            "+-----------------------------------------------------------------------------+\n",
            "| Processes:                                                                  |\n",
            "|  GPU   GI   CI        PID   Type   Process name                  GPU Memory |\n",
            "|        ID   ID                                                   Usage      |\n",
            "|=============================================================================|\n",
            "|  No running processes found                                                 |\n",
            "+-----------------------------------------------------------------------------+\n"
          ]
        }
      ]
    },
    {
      "cell_type": "code",
      "source": [
        "import random\n",
        "import os\n",
        "import datetime\n",
        "import numpy as np\n",
        "import pandas as pd\n",
        "import warnings\n",
        "import gc\n",
        "from tqdm import tqdm\n",
        "\n",
        "import torch\n",
        "import torch.nn as nn\n",
        "import torch.optim as optim\n",
        "import torch.nn.functional as F\n",
        "from torch.utils.data import Dataset, DataLoader\n",
        "\n",
        "from sklearn.model_selection import KFold\n",
        "from sklearn.metrics import mean_squared_error\n",
        "from sklearn.preprocessing import LabelEncoder, StandardScaler\n",
        "from sklearn.decomposition import PCA\n",
        "from sklearn.pipeline import Pipeline\n",
        "\n",
        "from src.config import *\n",
        "import src.preprocessing as pr\n",
        "\n",
        "warnings.filterwarnings('ignore')"
      ],
      "metadata": {
        "id": "n1gdQCYXwood"
      },
      "execution_count": null,
      "outputs": []
    },
    {
      "cell_type": "code",
      "source": [
        "df_train = pd.read_csv('input/train_data.csv', parse_dates=[COL_LAST_REVIEW], dtype=DICT_DTYPES)\n",
        "df_test = pd.read_csv('input/test_data.csv', parse_dates=[COL_LAST_REVIEW], dtype=DICT_DTYPES)\n",
        "df_train_station_info = pd.read_csv('input/train_data_distance_from_station.csv', dtype=DICT_DTYPES)\n",
        "df_test_station_info = pd.read_csv('input/test_data_distance_from_station.csv', dtype=DICT_DTYPES)\n",
        "df_train_svd_name = pd.read_csv('input/train_data_name_features.csv')\n",
        "df_test_svd_name = pd.read_csv('input/test_data_name_features.csv')\n",
        "#df_train_name_emb = pd.read_csv('input/train_data_name_embedding.csv')\n",
        "#df_test_name_emb = pd.read_csv('input/test_data_name_embedding.csv')\n",
        "df_station_list = pd.read_csv('input/station_list.csv')\n",
        "sample_sub = pd.read_csv('input/submission.csv')"
      ],
      "metadata": {
        "id": "RDI76z9Bx-EP"
      },
      "execution_count": null,
      "outputs": []
    },
    {
      "cell_type": "code",
      "source": [
        "# HyperParameters\n",
        "DEVICE = ('cuda' if torch.cuda.is_available() else 'cpu')\n",
        "EPOCHS = 70\n",
        "BATCH_SIZE = 64\n",
        "LEARNING_RATE = 1e-3\n",
        "WEIGHT_DECAY = 1e-5\n",
        "NFOLDS = 5\n",
        "EARLY_STOPPING_STEPS = 11\n",
        "EARLY_STOP = True\n",
        "\n",
        "LIST_USE_COL = [COL_NEIGHBOURHOOD,\n",
        "                COL_LATITUDE,\n",
        "                COL_LONGITUDE,\n",
        "                COL_ROOM_TYPE,\n",
        "                COL_MINIMUM_NIGHTS,\n",
        "                COL_NUMBER_OF_REVIEWS,\n",
        "                'elapsed_days',\n",
        "                COL_REVIEWS_PER_MONTH,\n",
        "                COL_AVAILABILITY_365]\n",
        "\n",
        "LIST_LABEL_ENC = [COL_NEIGHBOURHOOD,\n",
        "                  COL_ROOM_TYPE]"
      ],
      "metadata": {
        "id": "trFBJFo8yA8Z"
      },
      "execution_count": null,
      "outputs": []
    },
    {
      "cell_type": "code",
      "source": [
        "class TrainDataset(Dataset):\n",
        "    def __init__(self, features, target):\n",
        "        super().__init__()\n",
        "        self.features = features.reset_index(drop=True)\n",
        "        self.target = target.reset_index(drop=True)\n",
        "\n",
        "    def __len__(self):\n",
        "        return self.features.shape[0]\n",
        "\n",
        "    def __getitem__(self, idx):\n",
        "        x = torch.tensor(self.features.loc[idx, :].values, dtype=torch.float)\n",
        "        y = torch.tensor(self.target[idx], dtype=torch.float)\n",
        "        return x, y\n",
        "\n",
        "\n",
        "class TestDataset(Dataset):\n",
        "    def __init__(self, features):\n",
        "        super().__init__()\n",
        "        self.features = features.reset_index(drop=True)\n",
        "        \n",
        "    def __len__(self):\n",
        "        return self.features.shape[0]\n",
        "\n",
        "    def __getitem__(self, idx):\n",
        "        x = torch.tensor(self.features.loc[idx, :].values, dtype=torch.float)\n",
        "        return x\n",
        "\n",
        "\n",
        "# class Model(nn.Module):\n",
        "#     def __init__(self, num_features, num_targets, hidden_size_1, hidden_size_2):\n",
        "#         super(Model, self).__init__()\n",
        "#         self.batch_norm1 = nn.BatchNorm1d(num_features)\n",
        "#         self.dropout1 = nn.Dropout(0.2)\n",
        "#         self.dense1 = nn.utils.weight_norm(nn.Linear(num_features, hidden_size_1))\n",
        "        \n",
        "#         self.batch_norm2 = nn.BatchNorm1d(hidden_size_1)\n",
        "#         self.dropout2 = nn.Dropout(0.2)\n",
        "#         self.dense2 = nn.utils.weight_norm(nn.Linear(hidden_size_1, hidden_size_2))\n",
        "        \n",
        "#         self.batch_norm3 = nn.BatchNorm1d(hidden_size_2)\n",
        "#         self.dropout3 = nn.Dropout(0.25)\n",
        "#         self.dense3 = nn.utils.weight_norm(nn.Linear(hidden_size_2, num_targets))\n",
        "    \n",
        "#     def forward(self, x):\n",
        "#         x = self.batch_norm1(x)\n",
        "#         x = self.dropout1(x)\n",
        "#         x = F.relu(self.dense1(x))\n",
        "        \n",
        "#         x = self.batch_norm2(x)\n",
        "#         x = self.dropout2(x)\n",
        "#         x = F.relu(self.dense2(x))\n",
        "        \n",
        "#         x = self.batch_norm3(x)\n",
        "#         x = self.dropout3(x)\n",
        "#         x = self.dense3(x)\n",
        "        \n",
        "#         return x\n",
        "\n",
        "\n",
        "class Model(nn.Module):\n",
        "    def __init__(self, num_features, num_targets, hidden_size_1, hidden_size_2):\n",
        "        super(Model, self).__init__()\n",
        "        self.batch_norm1 = nn.BatchNorm1d(num_features)\n",
        "        self.dropout1 = nn.Dropout(0.2)\n",
        "        self.dense1 = nn.utils.weight_norm(nn.Linear(num_features, hidden_size_1))\n",
        "        \n",
        "        self.batch_norm2 = nn.BatchNorm1d(hidden_size_1)\n",
        "        self.dropout2 = nn.Dropout(0.2)\n",
        "        self.dense2 = nn.utils.weight_norm(nn.Linear(hidden_size_1, hidden_size_2))\n",
        "\n",
        "        self.batch_norm3 = nn.BatchNorm1d(hidden_size_2)\n",
        "        self.dropout3 = nn.Dropout(0.2)\n",
        "        self.dense3 = nn.utils.weight_norm(nn.Linear(hidden_size_2, hidden_size_2))\n",
        "        \n",
        "        self.batch_norm4 = nn.BatchNorm1d(hidden_size_2)\n",
        "        self.dropout4 = nn.Dropout(0.25)\n",
        "        self.dense4 = nn.utils.weight_norm(nn.Linear(hidden_size_2, num_targets))\n",
        "    \n",
        "    def forward(self, x):\n",
        "        x = self.batch_norm1(x)\n",
        "        x = self.dropout1(x)\n",
        "        x = F.relu(self.dense1(x))\n",
        "        \n",
        "        x = self.batch_norm2(x)\n",
        "        x = self.dropout2(x)\n",
        "        x = F.relu(self.dense2(x))\n",
        "\n",
        "        x = self.batch_norm3(x)\n",
        "        x = self.dropout3(x)\n",
        "        x = F.relu(self.dense3(x))\n",
        "        \n",
        "        x = self.batch_norm4(x)\n",
        "        x = self.dropout4(x)\n",
        "        x = self.dense4(x)\n",
        "        \n",
        "        return x"
      ],
      "metadata": {
        "id": "XuSHM_GPkDdd"
      },
      "execution_count": null,
      "outputs": []
    },
    {
      "cell_type": "code",
      "source": [
        "def train_fn(train_loader, model, criterion, optimizer, device):\n",
        "    model.train()\n",
        "    train_loss = 0.0\n",
        "    train_rmsle = 0.0\n",
        "\n",
        "    for features, labels in tqdm(train_loader):\n",
        "        optimizer.zero_grad()  # 勾配情報を初期化\n",
        "        features = features.to(device)  # GPU上に転送\n",
        "        labels = labels.to(device)  # GPU上に転送\n",
        "        outputs = model(features)  # GPU上に転送\n",
        "        outputs = torch.squeeze(outputs)  # 1次元に変換\n",
        "        loss = torch.sqrt(criterion(outputs, labels))  # 損失を計算\n",
        "        preds = outputs.detach().cpu().numpy()  # numpyの配列に変換\n",
        "        labels = labels.detach().cpu().numpy()  # numpyの配列に変換\n",
        "\n",
        "        train_loss += loss.item()  # 値だけ取得\n",
        "        train_rmsle += np.sqrt(mean_squared_error(labels, preds))  # 評価指標の計算\n",
        "        loss.backward()  # 勾配を計算\n",
        "        optimizer.step()  # 勾配を更新\n",
        "\n",
        "    train_loss /= len(train_loader)  # 1epoch分の平均を計算\n",
        "    train_rmsle /= len(train_loader)  # 1epoch分の平均を計算\n",
        "\n",
        "    return train_loss, train_rmsle\n",
        "\n",
        "\n",
        "def valid_fn(valid_loader, model, criterion, device):\n",
        "    model.eval()\n",
        "    valid_loss = 0.0\n",
        "    valid_rmsle = 0.0\n",
        "    valid_preds = []\n",
        "\n",
        "    for features, labels in tqdm(valid_loader):\n",
        "        features = features.to(device)\n",
        "        labels = labels.to(device)\n",
        "        with torch.no_grad():\n",
        "            outputs = model(features)\n",
        "            outputs = torch.squeeze(outputs)\n",
        "            loss = torch.sqrt(criterion(outputs, labels))\n",
        "            preds = outputs.detach().cpu().numpy()\n",
        "            labels = labels.detach().cpu().numpy()\n",
        "\n",
        "        valid_loss += loss.item()\n",
        "        valid_rmsle += np.sqrt(mean_squared_error(labels, preds))\n",
        "        valid_preds.append(preds)\n",
        "\n",
        "    valid_loss /= len(valid_loader)\n",
        "    valid_rmsle /= len(valid_loader)\n",
        "    valid_preds = np.concatenate(valid_preds)\n",
        "\n",
        "    return valid_loss, valid_rmsle, valid_preds\n",
        "\n",
        "\n",
        "def inference_fn(model, dataloader, device):\n",
        "    model.eval()\n",
        "    preds = []\n",
        "    \n",
        "    for features in dataloader:\n",
        "        features = features.to(device)\n",
        "\n",
        "        with torch.no_grad():\n",
        "            outputs = model(features)\n",
        "        \n",
        "        preds.append(outputs.detach().cpu().numpy())\n",
        "        \n",
        "    preds = np.concatenate(preds)\n",
        "    \n",
        "    return preds"
      ],
      "metadata": {
        "id": "a6ijw6JOryn-"
      },
      "execution_count": null,
      "outputs": []
    },
    {
      "cell_type": "code",
      "source": [
        "def seed_everything(seed=42):\n",
        "    random.seed(seed)\n",
        "    os.environ['PYTHONHASHSEED'] = str(seed)\n",
        "    np.random.seed(seed)\n",
        "    torch.manual_seed(seed)\n",
        "    torch.cuda.manual_seed(seed)\n",
        "    torch.backends.cudnn.deterministic = True\n",
        "\n",
        "seed_everything(seed=42)"
      ],
      "metadata": {
        "id": "q5Bbd3MVmuvY"
      },
      "execution_count": null,
      "outputs": []
    },
    {
      "cell_type": "code",
      "source": [
        "df_all = pd.concat([\n",
        "    df_train,\n",
        "    df_test\n",
        "]).reset_index(drop=True)"
      ],
      "metadata": {
        "id": "pD8Eq1eVyDYn"
      },
      "execution_count": null,
      "outputs": []
    },
    {
      "cell_type": "code",
      "source": [
        "# 2020.4.30からの経過日数を特徴量として追加\n",
        "df_all[COL_ELAPSED_DAYS] = (datetime.datetime(2020, 4, 30) - df_all[COL_LAST_REVIEW]).dt.days"
      ],
      "metadata": {
        "id": "ATpF0xgoyDLH"
      },
      "execution_count": null,
      "outputs": []
    },
    {
      "cell_type": "code",
      "source": [
        "df_all.fillna(0, inplace=True)"
      ],
      "metadata": {
        "id": "3nx5y7g4yCz9"
      },
      "execution_count": null,
      "outputs": []
    },
    {
      "cell_type": "code",
      "source": [
        "# for col in LIST_LABEL_ENC:\n",
        "#     le = LabelEncoder()\n",
        "#     df_all[col] = le.fit_transform(df_all[col])"
      ],
      "metadata": {
        "id": "I3NX-KO_yCD0"
      },
      "execution_count": null,
      "outputs": []
    },
    {
      "cell_type": "code",
      "source": [
        "df_all = df_all[LIST_USE_COL]"
      ],
      "metadata": {
        "id": "8k1LFg5_yOJl"
      },
      "execution_count": null,
      "outputs": []
    },
    {
      "cell_type": "code",
      "source": [
        "df_all = pd.get_dummies(df_all, columns=LIST_LABEL_ENC, drop_first=True)"
      ],
      "metadata": {
        "id": "jbNbjYsrLB2b"
      },
      "execution_count": null,
      "outputs": []
    },
    {
      "cell_type": "code",
      "source": [
        "df_all.head()"
      ],
      "metadata": {
        "colab": {
          "base_uri": "https://localhost:8080/",
          "height": 317
        },
        "id": "ge3GUhYzLb4R",
        "outputId": "268df987-3e74-4dc0-d5dc-5df5325b865b"
      },
      "execution_count": null,
      "outputs": [
        {
          "output_type": "execute_result",
          "data": {
            "text/plain": [
              "   latitude  longitude  minimum_nights  number_of_reviews  elapsed_days  \\\n",
              "0  35.68185  139.80310               1                 55           5.0   \n",
              "1  35.72063  139.78536               6                 72          36.0   \n",
              "2  35.74723  139.82349               1                 18          38.0   \n",
              "3  35.68456  139.68077               1                  2          28.0   \n",
              "4  35.69840  139.70467               1                 86          91.0   \n",
              "\n",
              "   reviews_per_month  availability_365  neighbourhood_Arakawa Ku  \\\n",
              "0               2.21               173                         0   \n",
              "1               2.11                 9                         0   \n",
              "2               3.46               288                         0   \n",
              "3               1.76                87                         0   \n",
              "4               2.00               156                         0   \n",
              "\n",
              "   neighbourhood_Bunkyo Ku  neighbourhood_Chiyoda Ku  ...  \\\n",
              "0                        0                         0  ...   \n",
              "1                        0                         0  ...   \n",
              "2                        0                         0  ...   \n",
              "3                        0                         0  ...   \n",
              "4                        0                         0  ...   \n",
              "\n",
              "   neighbourhood_Shibuya Ku  neighbourhood_Shinagawa Ku  \\\n",
              "0                         0                           0   \n",
              "1                         0                           0   \n",
              "2                         0                           0   \n",
              "3                         1                           0   \n",
              "4                         0                           0   \n",
              "\n",
              "   neighbourhood_Shinjuku Ku  neighbourhood_Suginami Ku  \\\n",
              "0                          0                          0   \n",
              "1                          0                          0   \n",
              "2                          0                          0   \n",
              "3                          0                          0   \n",
              "4                          1                          0   \n",
              "\n",
              "   neighbourhood_Sumida Ku  neighbourhood_Taito Ku  neighbourhood_Toshima Ku  \\\n",
              "0                        0                       0                         0   \n",
              "1                        0                       1                         0   \n",
              "2                        0                       0                         0   \n",
              "3                        0                       0                         0   \n",
              "4                        0                       0                         0   \n",
              "\n",
              "   room_type_Hotel room  room_type_Private room  room_type_Shared room  \n",
              "0                     0                       0                      0  \n",
              "1                     0                       0                      0  \n",
              "2                     0                       0                      0  \n",
              "3                     0                       0                      0  \n",
              "4                     0                       0                      0  \n",
              "\n",
              "[5 rows x 32 columns]"
            ],
            "text/html": [
              "\n",
              "  <div id=\"df-09cc9f34-bbf8-4f1d-a6b3-eedcdf7f308b\">\n",
              "    <div class=\"colab-df-container\">\n",
              "      <div>\n",
              "<style scoped>\n",
              "    .dataframe tbody tr th:only-of-type {\n",
              "        vertical-align: middle;\n",
              "    }\n",
              "\n",
              "    .dataframe tbody tr th {\n",
              "        vertical-align: top;\n",
              "    }\n",
              "\n",
              "    .dataframe thead th {\n",
              "        text-align: right;\n",
              "    }\n",
              "</style>\n",
              "<table border=\"1\" class=\"dataframe\">\n",
              "  <thead>\n",
              "    <tr style=\"text-align: right;\">\n",
              "      <th></th>\n",
              "      <th>latitude</th>\n",
              "      <th>longitude</th>\n",
              "      <th>minimum_nights</th>\n",
              "      <th>number_of_reviews</th>\n",
              "      <th>elapsed_days</th>\n",
              "      <th>reviews_per_month</th>\n",
              "      <th>availability_365</th>\n",
              "      <th>neighbourhood_Arakawa Ku</th>\n",
              "      <th>neighbourhood_Bunkyo Ku</th>\n",
              "      <th>neighbourhood_Chiyoda Ku</th>\n",
              "      <th>...</th>\n",
              "      <th>neighbourhood_Shibuya Ku</th>\n",
              "      <th>neighbourhood_Shinagawa Ku</th>\n",
              "      <th>neighbourhood_Shinjuku Ku</th>\n",
              "      <th>neighbourhood_Suginami Ku</th>\n",
              "      <th>neighbourhood_Sumida Ku</th>\n",
              "      <th>neighbourhood_Taito Ku</th>\n",
              "      <th>neighbourhood_Toshima Ku</th>\n",
              "      <th>room_type_Hotel room</th>\n",
              "      <th>room_type_Private room</th>\n",
              "      <th>room_type_Shared room</th>\n",
              "    </tr>\n",
              "  </thead>\n",
              "  <tbody>\n",
              "    <tr>\n",
              "      <th>0</th>\n",
              "      <td>35.68185</td>\n",
              "      <td>139.80310</td>\n",
              "      <td>1</td>\n",
              "      <td>55</td>\n",
              "      <td>5.0</td>\n",
              "      <td>2.21</td>\n",
              "      <td>173</td>\n",
              "      <td>0</td>\n",
              "      <td>0</td>\n",
              "      <td>0</td>\n",
              "      <td>...</td>\n",
              "      <td>0</td>\n",
              "      <td>0</td>\n",
              "      <td>0</td>\n",
              "      <td>0</td>\n",
              "      <td>0</td>\n",
              "      <td>0</td>\n",
              "      <td>0</td>\n",
              "      <td>0</td>\n",
              "      <td>0</td>\n",
              "      <td>0</td>\n",
              "    </tr>\n",
              "    <tr>\n",
              "      <th>1</th>\n",
              "      <td>35.72063</td>\n",
              "      <td>139.78536</td>\n",
              "      <td>6</td>\n",
              "      <td>72</td>\n",
              "      <td>36.0</td>\n",
              "      <td>2.11</td>\n",
              "      <td>9</td>\n",
              "      <td>0</td>\n",
              "      <td>0</td>\n",
              "      <td>0</td>\n",
              "      <td>...</td>\n",
              "      <td>0</td>\n",
              "      <td>0</td>\n",
              "      <td>0</td>\n",
              "      <td>0</td>\n",
              "      <td>0</td>\n",
              "      <td>1</td>\n",
              "      <td>0</td>\n",
              "      <td>0</td>\n",
              "      <td>0</td>\n",
              "      <td>0</td>\n",
              "    </tr>\n",
              "    <tr>\n",
              "      <th>2</th>\n",
              "      <td>35.74723</td>\n",
              "      <td>139.82349</td>\n",
              "      <td>1</td>\n",
              "      <td>18</td>\n",
              "      <td>38.0</td>\n",
              "      <td>3.46</td>\n",
              "      <td>288</td>\n",
              "      <td>0</td>\n",
              "      <td>0</td>\n",
              "      <td>0</td>\n",
              "      <td>...</td>\n",
              "      <td>0</td>\n",
              "      <td>0</td>\n",
              "      <td>0</td>\n",
              "      <td>0</td>\n",
              "      <td>0</td>\n",
              "      <td>0</td>\n",
              "      <td>0</td>\n",
              "      <td>0</td>\n",
              "      <td>0</td>\n",
              "      <td>0</td>\n",
              "    </tr>\n",
              "    <tr>\n",
              "      <th>3</th>\n",
              "      <td>35.68456</td>\n",
              "      <td>139.68077</td>\n",
              "      <td>1</td>\n",
              "      <td>2</td>\n",
              "      <td>28.0</td>\n",
              "      <td>1.76</td>\n",
              "      <td>87</td>\n",
              "      <td>0</td>\n",
              "      <td>0</td>\n",
              "      <td>0</td>\n",
              "      <td>...</td>\n",
              "      <td>1</td>\n",
              "      <td>0</td>\n",
              "      <td>0</td>\n",
              "      <td>0</td>\n",
              "      <td>0</td>\n",
              "      <td>0</td>\n",
              "      <td>0</td>\n",
              "      <td>0</td>\n",
              "      <td>0</td>\n",
              "      <td>0</td>\n",
              "    </tr>\n",
              "    <tr>\n",
              "      <th>4</th>\n",
              "      <td>35.69840</td>\n",
              "      <td>139.70467</td>\n",
              "      <td>1</td>\n",
              "      <td>86</td>\n",
              "      <td>91.0</td>\n",
              "      <td>2.00</td>\n",
              "      <td>156</td>\n",
              "      <td>0</td>\n",
              "      <td>0</td>\n",
              "      <td>0</td>\n",
              "      <td>...</td>\n",
              "      <td>0</td>\n",
              "      <td>0</td>\n",
              "      <td>1</td>\n",
              "      <td>0</td>\n",
              "      <td>0</td>\n",
              "      <td>0</td>\n",
              "      <td>0</td>\n",
              "      <td>0</td>\n",
              "      <td>0</td>\n",
              "      <td>0</td>\n",
              "    </tr>\n",
              "  </tbody>\n",
              "</table>\n",
              "<p>5 rows × 32 columns</p>\n",
              "</div>\n",
              "      <button class=\"colab-df-convert\" onclick=\"convertToInteractive('df-09cc9f34-bbf8-4f1d-a6b3-eedcdf7f308b')\"\n",
              "              title=\"Convert this dataframe to an interactive table.\"\n",
              "              style=\"display:none;\">\n",
              "        \n",
              "  <svg xmlns=\"http://www.w3.org/2000/svg\" height=\"24px\"viewBox=\"0 0 24 24\"\n",
              "       width=\"24px\">\n",
              "    <path d=\"M0 0h24v24H0V0z\" fill=\"none\"/>\n",
              "    <path d=\"M18.56 5.44l.94 2.06.94-2.06 2.06-.94-2.06-.94-.94-2.06-.94 2.06-2.06.94zm-11 1L8.5 8.5l.94-2.06 2.06-.94-2.06-.94L8.5 2.5l-.94 2.06-2.06.94zm10 10l.94 2.06.94-2.06 2.06-.94-2.06-.94-.94-2.06-.94 2.06-2.06.94z\"/><path d=\"M17.41 7.96l-1.37-1.37c-.4-.4-.92-.59-1.43-.59-.52 0-1.04.2-1.43.59L10.3 9.45l-7.72 7.72c-.78.78-.78 2.05 0 2.83L4 21.41c.39.39.9.59 1.41.59.51 0 1.02-.2 1.41-.59l7.78-7.78 2.81-2.81c.8-.78.8-2.07 0-2.86zM5.41 20L4 18.59l7.72-7.72 1.47 1.35L5.41 20z\"/>\n",
              "  </svg>\n",
              "      </button>\n",
              "      \n",
              "  <style>\n",
              "    .colab-df-container {\n",
              "      display:flex;\n",
              "      flex-wrap:wrap;\n",
              "      gap: 12px;\n",
              "    }\n",
              "\n",
              "    .colab-df-convert {\n",
              "      background-color: #E8F0FE;\n",
              "      border: none;\n",
              "      border-radius: 50%;\n",
              "      cursor: pointer;\n",
              "      display: none;\n",
              "      fill: #1967D2;\n",
              "      height: 32px;\n",
              "      padding: 0 0 0 0;\n",
              "      width: 32px;\n",
              "    }\n",
              "\n",
              "    .colab-df-convert:hover {\n",
              "      background-color: #E2EBFA;\n",
              "      box-shadow: 0px 1px 2px rgba(60, 64, 67, 0.3), 0px 1px 3px 1px rgba(60, 64, 67, 0.15);\n",
              "      fill: #174EA6;\n",
              "    }\n",
              "\n",
              "    [theme=dark] .colab-df-convert {\n",
              "      background-color: #3B4455;\n",
              "      fill: #D2E3FC;\n",
              "    }\n",
              "\n",
              "    [theme=dark] .colab-df-convert:hover {\n",
              "      background-color: #434B5C;\n",
              "      box-shadow: 0px 1px 3px 1px rgba(0, 0, 0, 0.15);\n",
              "      filter: drop-shadow(0px 1px 2px rgba(0, 0, 0, 0.3));\n",
              "      fill: #FFFFFF;\n",
              "    }\n",
              "  </style>\n",
              "\n",
              "      <script>\n",
              "        const buttonEl =\n",
              "          document.querySelector('#df-09cc9f34-bbf8-4f1d-a6b3-eedcdf7f308b button.colab-df-convert');\n",
              "        buttonEl.style.display =\n",
              "          google.colab.kernel.accessAllowed ? 'block' : 'none';\n",
              "\n",
              "        async function convertToInteractive(key) {\n",
              "          const element = document.querySelector('#df-09cc9f34-bbf8-4f1d-a6b3-eedcdf7f308b');\n",
              "          const dataTable =\n",
              "            await google.colab.kernel.invokeFunction('convertToInteractive',\n",
              "                                                     [key], {});\n",
              "          if (!dataTable) return;\n",
              "\n",
              "          const docLinkHtml = 'Like what you see? Visit the ' +\n",
              "            '<a target=\"_blank\" href=https://colab.research.google.com/notebooks/data_table.ipynb>data table notebook</a>'\n",
              "            + ' to learn more about interactive tables.';\n",
              "          element.innerHTML = '';\n",
              "          dataTable['output_type'] = 'display_data';\n",
              "          await google.colab.output.renderOutput(dataTable, element);\n",
              "          const docLink = document.createElement('div');\n",
              "          docLink.innerHTML = docLinkHtml;\n",
              "          element.appendChild(docLink);\n",
              "        }\n",
              "      </script>\n",
              "    </div>\n",
              "  </div>\n",
              "  "
            ]
          },
          "metadata": {},
          "execution_count": 17
        }
      ]
    },
    {
      "cell_type": "code",
      "source": [
        "df_all_station_info = pd.concat([df_train_station_info, df_test_station_info], axis=0).reset_index(drop=True)\n",
        "pipe = Pipeline([\n",
        "    ('scale', StandardScaler()),\n",
        "    ('pca', PCA(n_components=10, random_state=0))\n",
        "])\n",
        "\n",
        "features_tmp = pipe.fit_transform(df_all_station_info)\n",
        "df_distance_features = pd.DataFrame(features_tmp, columns=[f'PCA_{i+1}' for i in range(features_tmp.shape[1])])"
      ],
      "metadata": {
        "id": "i_sthkoZyN56"
      },
      "execution_count": null,
      "outputs": []
    },
    {
      "cell_type": "code",
      "source": [
        "df_train_distance_features = df_distance_features[:df_train.shape[0]].reset_index(drop=True)\n",
        "df_test_distance_features = df_distance_features[df_train.shape[0]:].reset_index(drop=True)"
      ],
      "metadata": {
        "id": "w4zjqNhkyNoi"
      },
      "execution_count": null,
      "outputs": []
    },
    {
      "cell_type": "code",
      "source": [
        "X = df_all[:df_train.shape[0]].reset_index(drop=True)\n",
        "X = pd.concat([X, df_train_distance_features, df_train_svd_name], axis=1)\n",
        "y = np.log1p(df_train[COL_Y])\n",
        "\n",
        "X_inference = df_all[df_train.shape[0]:].reset_index(drop=True)\n",
        "X_inference = pd.concat([X_inference, df_test_distance_features, df_test_svd_name], axis=1)"
      ],
      "metadata": {
        "id": "qFi3k8CCye1Q"
      },
      "execution_count": null,
      "outputs": []
    },
    {
      "cell_type": "code",
      "source": [
        "scale = StandardScaler()\n",
        "scale.fit(X)\n",
        "X = pd.DataFrame(data=scale.transform(X), columns=X.columns)\n",
        "X_inference = pd.DataFrame(data=scale.transform(X_inference), columns=X_inference.columns)"
      ],
      "metadata": {
        "id": "rFPl0vy5Lttt"
      },
      "execution_count": null,
      "outputs": []
    },
    {
      "cell_type": "code",
      "source": [
        "X.head()"
      ],
      "metadata": {
        "colab": {
          "base_uri": "https://localhost:8080/",
          "height": 317
        },
        "id": "bi7O1c2FRiEn",
        "outputId": "9941721f-d933-44a4-8be9-47e644ca57d4"
      },
      "execution_count": null,
      "outputs": [
        {
          "output_type": "execute_result",
          "data": {
            "text/plain": [
              "   latitude  longitude  minimum_nights  number_of_reviews  elapsed_days  \\\n",
              "0 -0.452253   1.100902       -0.274144           0.715964     -0.752875   \n",
              "1  0.514113   0.777728        0.313812           1.134846     -0.458280   \n",
              "2  1.176963   1.472351       -0.274144          -0.195720     -0.439274   \n",
              "3 -0.384722  -1.127610       -0.274144          -0.589961     -0.534304   \n",
              "4 -0.039840  -0.692218       -0.274144           1.479807      0.064390   \n",
              "\n",
              "   reviews_per_month  availability_365  neighbourhood_Arakawa Ku  \\\n",
              "0           0.559342          0.136454                 -0.171366   \n",
              "1           0.489338         -1.280089                 -0.171366   \n",
              "2           1.434393          1.129761                 -0.171366   \n",
              "3           0.244324         -0.606367                 -0.171366   \n",
              "4           0.412334         -0.010383                 -0.171366   \n",
              "\n",
              "   neighbourhood_Bunkyo Ku  neighbourhood_Chiyoda Ku  ...  name_nmf_41  \\\n",
              "0                -0.110264                  -0.13584  ...     -0.17204   \n",
              "1                -0.110264                  -0.13584  ...     -0.17204   \n",
              "2                -0.110264                  -0.13584  ...     -0.17204   \n",
              "3                -0.110264                  -0.13584  ...     -0.17204   \n",
              "4                -0.110264                  -0.13584  ...     -0.17204   \n",
              "\n",
              "   name_nmf_42  name_nmf_43  name_nmf_44  name_nmf_45  name_nmf_46  \\\n",
              "0    -0.163183    -0.447489    -0.146665    -0.210688    -0.189127   \n",
              "1    -0.163183    -0.447489    -0.146665    -0.210688    -0.189127   \n",
              "2    -0.163183     2.433680    -0.146665    -0.210688     0.095166   \n",
              "3     0.140256     2.310672    -0.146665    -0.210688     9.413826   \n",
              "4     0.006835    -0.447489    -0.146665     7.724682    -0.189127   \n",
              "\n",
              "   name_nmf_47  name_nmf_48  name_nmf_49  name_nmf_50  \n",
              "0    -0.202038    -0.206581    -0.149963    -0.193944  \n",
              "1    -0.202038    -0.206581    -0.149963    -0.224481  \n",
              "2    -0.202038    -0.206581    -0.149963    -0.309818  \n",
              "3    -0.202038    -0.206581    -0.149963    -0.309818  \n",
              "4    -0.202038    -0.094801    -0.149963    -0.309818  \n",
              "\n",
              "[5 rows x 1422 columns]"
            ],
            "text/html": [
              "\n",
              "  <div id=\"df-0c8b24b1-1286-432d-8528-416fa10d9fe0\">\n",
              "    <div class=\"colab-df-container\">\n",
              "      <div>\n",
              "<style scoped>\n",
              "    .dataframe tbody tr th:only-of-type {\n",
              "        vertical-align: middle;\n",
              "    }\n",
              "\n",
              "    .dataframe tbody tr th {\n",
              "        vertical-align: top;\n",
              "    }\n",
              "\n",
              "    .dataframe thead th {\n",
              "        text-align: right;\n",
              "    }\n",
              "</style>\n",
              "<table border=\"1\" class=\"dataframe\">\n",
              "  <thead>\n",
              "    <tr style=\"text-align: right;\">\n",
              "      <th></th>\n",
              "      <th>latitude</th>\n",
              "      <th>longitude</th>\n",
              "      <th>minimum_nights</th>\n",
              "      <th>number_of_reviews</th>\n",
              "      <th>elapsed_days</th>\n",
              "      <th>reviews_per_month</th>\n",
              "      <th>availability_365</th>\n",
              "      <th>neighbourhood_Arakawa Ku</th>\n",
              "      <th>neighbourhood_Bunkyo Ku</th>\n",
              "      <th>neighbourhood_Chiyoda Ku</th>\n",
              "      <th>...</th>\n",
              "      <th>name_nmf_41</th>\n",
              "      <th>name_nmf_42</th>\n",
              "      <th>name_nmf_43</th>\n",
              "      <th>name_nmf_44</th>\n",
              "      <th>name_nmf_45</th>\n",
              "      <th>name_nmf_46</th>\n",
              "      <th>name_nmf_47</th>\n",
              "      <th>name_nmf_48</th>\n",
              "      <th>name_nmf_49</th>\n",
              "      <th>name_nmf_50</th>\n",
              "    </tr>\n",
              "  </thead>\n",
              "  <tbody>\n",
              "    <tr>\n",
              "      <th>0</th>\n",
              "      <td>-0.452253</td>\n",
              "      <td>1.100902</td>\n",
              "      <td>-0.274144</td>\n",
              "      <td>0.715964</td>\n",
              "      <td>-0.752875</td>\n",
              "      <td>0.559342</td>\n",
              "      <td>0.136454</td>\n",
              "      <td>-0.171366</td>\n",
              "      <td>-0.110264</td>\n",
              "      <td>-0.13584</td>\n",
              "      <td>...</td>\n",
              "      <td>-0.17204</td>\n",
              "      <td>-0.163183</td>\n",
              "      <td>-0.447489</td>\n",
              "      <td>-0.146665</td>\n",
              "      <td>-0.210688</td>\n",
              "      <td>-0.189127</td>\n",
              "      <td>-0.202038</td>\n",
              "      <td>-0.206581</td>\n",
              "      <td>-0.149963</td>\n",
              "      <td>-0.193944</td>\n",
              "    </tr>\n",
              "    <tr>\n",
              "      <th>1</th>\n",
              "      <td>0.514113</td>\n",
              "      <td>0.777728</td>\n",
              "      <td>0.313812</td>\n",
              "      <td>1.134846</td>\n",
              "      <td>-0.458280</td>\n",
              "      <td>0.489338</td>\n",
              "      <td>-1.280089</td>\n",
              "      <td>-0.171366</td>\n",
              "      <td>-0.110264</td>\n",
              "      <td>-0.13584</td>\n",
              "      <td>...</td>\n",
              "      <td>-0.17204</td>\n",
              "      <td>-0.163183</td>\n",
              "      <td>-0.447489</td>\n",
              "      <td>-0.146665</td>\n",
              "      <td>-0.210688</td>\n",
              "      <td>-0.189127</td>\n",
              "      <td>-0.202038</td>\n",
              "      <td>-0.206581</td>\n",
              "      <td>-0.149963</td>\n",
              "      <td>-0.224481</td>\n",
              "    </tr>\n",
              "    <tr>\n",
              "      <th>2</th>\n",
              "      <td>1.176963</td>\n",
              "      <td>1.472351</td>\n",
              "      <td>-0.274144</td>\n",
              "      <td>-0.195720</td>\n",
              "      <td>-0.439274</td>\n",
              "      <td>1.434393</td>\n",
              "      <td>1.129761</td>\n",
              "      <td>-0.171366</td>\n",
              "      <td>-0.110264</td>\n",
              "      <td>-0.13584</td>\n",
              "      <td>...</td>\n",
              "      <td>-0.17204</td>\n",
              "      <td>-0.163183</td>\n",
              "      <td>2.433680</td>\n",
              "      <td>-0.146665</td>\n",
              "      <td>-0.210688</td>\n",
              "      <td>0.095166</td>\n",
              "      <td>-0.202038</td>\n",
              "      <td>-0.206581</td>\n",
              "      <td>-0.149963</td>\n",
              "      <td>-0.309818</td>\n",
              "    </tr>\n",
              "    <tr>\n",
              "      <th>3</th>\n",
              "      <td>-0.384722</td>\n",
              "      <td>-1.127610</td>\n",
              "      <td>-0.274144</td>\n",
              "      <td>-0.589961</td>\n",
              "      <td>-0.534304</td>\n",
              "      <td>0.244324</td>\n",
              "      <td>-0.606367</td>\n",
              "      <td>-0.171366</td>\n",
              "      <td>-0.110264</td>\n",
              "      <td>-0.13584</td>\n",
              "      <td>...</td>\n",
              "      <td>-0.17204</td>\n",
              "      <td>0.140256</td>\n",
              "      <td>2.310672</td>\n",
              "      <td>-0.146665</td>\n",
              "      <td>-0.210688</td>\n",
              "      <td>9.413826</td>\n",
              "      <td>-0.202038</td>\n",
              "      <td>-0.206581</td>\n",
              "      <td>-0.149963</td>\n",
              "      <td>-0.309818</td>\n",
              "    </tr>\n",
              "    <tr>\n",
              "      <th>4</th>\n",
              "      <td>-0.039840</td>\n",
              "      <td>-0.692218</td>\n",
              "      <td>-0.274144</td>\n",
              "      <td>1.479807</td>\n",
              "      <td>0.064390</td>\n",
              "      <td>0.412334</td>\n",
              "      <td>-0.010383</td>\n",
              "      <td>-0.171366</td>\n",
              "      <td>-0.110264</td>\n",
              "      <td>-0.13584</td>\n",
              "      <td>...</td>\n",
              "      <td>-0.17204</td>\n",
              "      <td>0.006835</td>\n",
              "      <td>-0.447489</td>\n",
              "      <td>-0.146665</td>\n",
              "      <td>7.724682</td>\n",
              "      <td>-0.189127</td>\n",
              "      <td>-0.202038</td>\n",
              "      <td>-0.094801</td>\n",
              "      <td>-0.149963</td>\n",
              "      <td>-0.309818</td>\n",
              "    </tr>\n",
              "  </tbody>\n",
              "</table>\n",
              "<p>5 rows × 1422 columns</p>\n",
              "</div>\n",
              "      <button class=\"colab-df-convert\" onclick=\"convertToInteractive('df-0c8b24b1-1286-432d-8528-416fa10d9fe0')\"\n",
              "              title=\"Convert this dataframe to an interactive table.\"\n",
              "              style=\"display:none;\">\n",
              "        \n",
              "  <svg xmlns=\"http://www.w3.org/2000/svg\" height=\"24px\"viewBox=\"0 0 24 24\"\n",
              "       width=\"24px\">\n",
              "    <path d=\"M0 0h24v24H0V0z\" fill=\"none\"/>\n",
              "    <path d=\"M18.56 5.44l.94 2.06.94-2.06 2.06-.94-2.06-.94-.94-2.06-.94 2.06-2.06.94zm-11 1L8.5 8.5l.94-2.06 2.06-.94-2.06-.94L8.5 2.5l-.94 2.06-2.06.94zm10 10l.94 2.06.94-2.06 2.06-.94-2.06-.94-.94-2.06-.94 2.06-2.06.94z\"/><path d=\"M17.41 7.96l-1.37-1.37c-.4-.4-.92-.59-1.43-.59-.52 0-1.04.2-1.43.59L10.3 9.45l-7.72 7.72c-.78.78-.78 2.05 0 2.83L4 21.41c.39.39.9.59 1.41.59.51 0 1.02-.2 1.41-.59l7.78-7.78 2.81-2.81c.8-.78.8-2.07 0-2.86zM5.41 20L4 18.59l7.72-7.72 1.47 1.35L5.41 20z\"/>\n",
              "  </svg>\n",
              "      </button>\n",
              "      \n",
              "  <style>\n",
              "    .colab-df-container {\n",
              "      display:flex;\n",
              "      flex-wrap:wrap;\n",
              "      gap: 12px;\n",
              "    }\n",
              "\n",
              "    .colab-df-convert {\n",
              "      background-color: #E8F0FE;\n",
              "      border: none;\n",
              "      border-radius: 50%;\n",
              "      cursor: pointer;\n",
              "      display: none;\n",
              "      fill: #1967D2;\n",
              "      height: 32px;\n",
              "      padding: 0 0 0 0;\n",
              "      width: 32px;\n",
              "    }\n",
              "\n",
              "    .colab-df-convert:hover {\n",
              "      background-color: #E2EBFA;\n",
              "      box-shadow: 0px 1px 2px rgba(60, 64, 67, 0.3), 0px 1px 3px 1px rgba(60, 64, 67, 0.15);\n",
              "      fill: #174EA6;\n",
              "    }\n",
              "\n",
              "    [theme=dark] .colab-df-convert {\n",
              "      background-color: #3B4455;\n",
              "      fill: #D2E3FC;\n",
              "    }\n",
              "\n",
              "    [theme=dark] .colab-df-convert:hover {\n",
              "      background-color: #434B5C;\n",
              "      box-shadow: 0px 1px 3px 1px rgba(0, 0, 0, 0.15);\n",
              "      filter: drop-shadow(0px 1px 2px rgba(0, 0, 0, 0.3));\n",
              "      fill: #FFFFFF;\n",
              "    }\n",
              "  </style>\n",
              "\n",
              "      <script>\n",
              "        const buttonEl =\n",
              "          document.querySelector('#df-0c8b24b1-1286-432d-8528-416fa10d9fe0 button.colab-df-convert');\n",
              "        buttonEl.style.display =\n",
              "          google.colab.kernel.accessAllowed ? 'block' : 'none';\n",
              "\n",
              "        async function convertToInteractive(key) {\n",
              "          const element = document.querySelector('#df-0c8b24b1-1286-432d-8528-416fa10d9fe0');\n",
              "          const dataTable =\n",
              "            await google.colab.kernel.invokeFunction('convertToInteractive',\n",
              "                                                     [key], {});\n",
              "          if (!dataTable) return;\n",
              "\n",
              "          const docLinkHtml = 'Like what you see? Visit the ' +\n",
              "            '<a target=\"_blank\" href=https://colab.research.google.com/notebooks/data_table.ipynb>data table notebook</a>'\n",
              "            + ' to learn more about interactive tables.';\n",
              "          element.innerHTML = '';\n",
              "          dataTable['output_type'] = 'display_data';\n",
              "          await google.colab.output.renderOutput(dataTable, element);\n",
              "          const docLink = document.createElement('div');\n",
              "          docLink.innerHTML = docLinkHtml;\n",
              "          element.appendChild(docLink);\n",
              "        }\n",
              "      </script>\n",
              "    </div>\n",
              "  </div>\n",
              "  "
            ]
          },
          "metadata": {},
          "execution_count": 39
        }
      ]
    },
    {
      "cell_type": "code",
      "source": [
        "num_features= X.shape[1]\n",
        "num_targets= 1\n",
        "hidden_size_1=512\n",
        "hidden_size_2=256"
      ],
      "metadata": {
        "id": "TCIgzFUqzTPf"
      },
      "execution_count": null,
      "outputs": []
    },
    {
      "cell_type": "code",
      "source": [
        "kf = KFold(n_splits=NFOLDS)\n",
        "preds_oof = np.zeros(X.shape[0])\n",
        "for i, (train_idx, valid_idx) in enumerate(kf.split(X)):\n",
        "    model = Model(num_features, num_targets, hidden_size_1, hidden_size_2)\n",
        "    model.to(DEVICE)\n",
        "    criterion = nn.MSELoss()\n",
        "    optimizer = optim.Adam(params=model.parameters(), lr=0.001)\n",
        "    print(f'fold: {i}')\n",
        "    print('='*50)\n",
        "    X_train, X_valid = X.loc[train_idx, :], X.loc[valid_idx, :]\n",
        "    y_train, y_valid = y.loc[train_idx], y.loc[valid_idx]\n",
        "    train_dataset = TrainDataset(X_train, y_train)\n",
        "    valid_dataset = TrainDataset(X_valid, y_valid)\n",
        "    train_loader = DataLoader(train_dataset, batch_size=BATCH_SIZE, num_workers=4, shuffle=True)\n",
        "    valid_loader = DataLoader(valid_dataset, batch_size=BATCH_SIZE, num_workers=4, shuffle=False)\n",
        "\n",
        "    for epoch in range(EPOCHS):\n",
        "        train_loss, train_rmsle = train_fn(train_loader, model, criterion, optimizer, DEVICE)\n",
        "        valid_loss, valid_rmsle, valid_preds = valid_fn(valid_loader, model, criterion, DEVICE)\n",
        "        print(f'train_loss: {train_loss:.4f}, train_rmsle: {train_rmsle:.4f}')\n",
        "        print(f'valid_loss: {valid_loss:.4f}, valid_rmsle: {valid_rmsle:.4f}')\n",
        "    \n",
        "    print('='*50)\n",
        "    print(f'save model: models/nn_fold{i + 1}_.pth')\n",
        "    print('='*50)\n",
        "    torch.save(model.state_dict(), f\"models/nn_fold{i + 1}_.pth\")\n",
        "\n",
        "    del model, criterion, optimizer\n",
        "    gc.collect()"
      ],
      "metadata": {
        "colab": {
          "base_uri": "https://localhost:8080/"
        },
        "id": "W36PJL0Ewj_Q",
        "outputId": "9f1e5361-438f-4522-a6c6-b14bf0de8cc1"
      },
      "execution_count": null,
      "outputs": [
        {
          "output_type": "stream",
          "name": "stdout",
          "text": [
            "fold: 0\n",
            "==================================================\n"
          ]
        },
        {
          "output_type": "stream",
          "name": "stderr",
          "text": [
            "100%|██████████| 125/125 [00:01<00:00, 73.39it/s]\n",
            "100%|██████████| 32/32 [00:00<00:00, 64.48it/s]\n"
          ]
        },
        {
          "output_type": "stream",
          "name": "stdout",
          "text": [
            "train_loss: 8.7285, train_rmsle: 8.7285\n",
            "valid_loss: 7.7217, valid_rmsle: 7.7217\n"
          ]
        },
        {
          "output_type": "stream",
          "name": "stderr",
          "text": [
            "100%|██████████| 125/125 [00:01<00:00, 80.08it/s] \n",
            "100%|██████████| 32/32 [00:00<00:00, 66.86it/s]\n"
          ]
        },
        {
          "output_type": "stream",
          "name": "stdout",
          "text": [
            "train_loss: 6.4025, train_rmsle: 6.4025\n",
            "valid_loss: 4.9137, valid_rmsle: 4.9137\n"
          ]
        },
        {
          "output_type": "stream",
          "name": "stderr",
          "text": [
            "100%|██████████| 125/125 [00:01<00:00, 80.21it/s] \n",
            "100%|██████████| 32/32 [00:00<00:00, 65.07it/s]\n"
          ]
        },
        {
          "output_type": "stream",
          "name": "stdout",
          "text": [
            "train_loss: 3.2222, train_rmsle: 3.2222\n",
            "valid_loss: 1.3910, valid_rmsle: 1.3910\n"
          ]
        },
        {
          "output_type": "stream",
          "name": "stderr",
          "text": [
            "100%|██████████| 125/125 [00:01<00:00, 80.75it/s]\n",
            "100%|██████████| 32/32 [00:00<00:00, 53.13it/s]\n"
          ]
        },
        {
          "output_type": "stream",
          "name": "stdout",
          "text": [
            "train_loss: 1.2046, train_rmsle: 1.2046\n",
            "valid_loss: 0.7565, valid_rmsle: 0.7565\n"
          ]
        },
        {
          "output_type": "stream",
          "name": "stderr",
          "text": [
            "100%|██████████| 125/125 [00:01<00:00, 66.79it/s]\n",
            "100%|██████████| 32/32 [00:00<00:00, 63.99it/s]\n"
          ]
        },
        {
          "output_type": "stream",
          "name": "stdout",
          "text": [
            "train_loss: 1.0520, train_rmsle: 1.0520\n",
            "valid_loss: 0.7200, valid_rmsle: 0.7200\n"
          ]
        },
        {
          "output_type": "stream",
          "name": "stderr",
          "text": [
            "100%|██████████| 125/125 [00:01<00:00, 70.10it/s]\n",
            "100%|██████████| 32/32 [00:00<00:00, 63.55it/s]\n"
          ]
        },
        {
          "output_type": "stream",
          "name": "stdout",
          "text": [
            "train_loss: 0.9965, train_rmsle: 0.9965\n",
            "valid_loss: 0.7033, valid_rmsle: 0.7033\n"
          ]
        },
        {
          "output_type": "stream",
          "name": "stderr",
          "text": [
            "100%|██████████| 125/125 [00:01<00:00, 75.74it/s]\n",
            "100%|██████████| 32/32 [00:00<00:00, 60.81it/s]\n"
          ]
        },
        {
          "output_type": "stream",
          "name": "stdout",
          "text": [
            "train_loss: 0.9700, train_rmsle: 0.9700\n",
            "valid_loss: 0.6537, valid_rmsle: 0.6537\n"
          ]
        },
        {
          "output_type": "stream",
          "name": "stderr",
          "text": [
            "100%|██████████| 125/125 [00:01<00:00, 95.86it/s] \n",
            "100%|██████████| 32/32 [00:00<00:00, 79.64it/s]\n"
          ]
        },
        {
          "output_type": "stream",
          "name": "stdout",
          "text": [
            "train_loss: 0.9380, train_rmsle: 0.9380\n",
            "valid_loss: 0.6540, valid_rmsle: 0.6540\n"
          ]
        },
        {
          "output_type": "stream",
          "name": "stderr",
          "text": [
            "100%|██████████| 125/125 [00:01<00:00, 95.31it/s] \n",
            "100%|██████████| 32/32 [00:00<00:00, 82.95it/s]\n"
          ]
        },
        {
          "output_type": "stream",
          "name": "stdout",
          "text": [
            "train_loss: 0.8966, train_rmsle: 0.8966\n",
            "valid_loss: 0.6657, valid_rmsle: 0.6657\n"
          ]
        },
        {
          "output_type": "stream",
          "name": "stderr",
          "text": [
            "100%|██████████| 125/125 [00:01<00:00, 98.20it/s] \n",
            "100%|██████████| 32/32 [00:00<00:00, 76.75it/s]\n"
          ]
        },
        {
          "output_type": "stream",
          "name": "stdout",
          "text": [
            "train_loss: 0.8635, train_rmsle: 0.8635\n",
            "valid_loss: 0.6279, valid_rmsle: 0.6279\n"
          ]
        },
        {
          "output_type": "stream",
          "name": "stderr",
          "text": [
            "100%|██████████| 125/125 [00:01<00:00, 97.36it/s] \n",
            "100%|██████████| 32/32 [00:00<00:00, 82.70it/s]\n"
          ]
        },
        {
          "output_type": "stream",
          "name": "stdout",
          "text": [
            "train_loss: 0.8433, train_rmsle: 0.8433\n",
            "valid_loss: 0.6174, valid_rmsle: 0.6174\n"
          ]
        },
        {
          "output_type": "stream",
          "name": "stderr",
          "text": [
            "100%|██████████| 125/125 [00:01<00:00, 97.68it/s] \n",
            "100%|██████████| 32/32 [00:00<00:00, 83.13it/s]\n"
          ]
        },
        {
          "output_type": "stream",
          "name": "stdout",
          "text": [
            "train_loss: 0.8309, train_rmsle: 0.8309\n",
            "valid_loss: 0.6222, valid_rmsle: 0.6222\n"
          ]
        },
        {
          "output_type": "stream",
          "name": "stderr",
          "text": [
            "100%|██████████| 125/125 [00:01<00:00, 96.93it/s] \n",
            "100%|██████████| 32/32 [00:00<00:00, 82.09it/s]\n"
          ]
        },
        {
          "output_type": "stream",
          "name": "stdout",
          "text": [
            "train_loss: 0.8220, train_rmsle: 0.8220\n",
            "valid_loss: 0.6121, valid_rmsle: 0.6121\n"
          ]
        },
        {
          "output_type": "stream",
          "name": "stderr",
          "text": [
            "100%|██████████| 125/125 [00:01<00:00, 94.36it/s] \n",
            "100%|██████████| 32/32 [00:00<00:00, 82.65it/s]\n"
          ]
        },
        {
          "output_type": "stream",
          "name": "stdout",
          "text": [
            "train_loss: 0.7952, train_rmsle: 0.7952\n",
            "valid_loss: 0.6107, valid_rmsle: 0.6107\n"
          ]
        },
        {
          "output_type": "stream",
          "name": "stderr",
          "text": [
            "100%|██████████| 125/125 [00:01<00:00, 96.72it/s] \n",
            "100%|██████████| 32/32 [00:00<00:00, 82.95it/s]\n"
          ]
        },
        {
          "output_type": "stream",
          "name": "stdout",
          "text": [
            "train_loss: 0.7767, train_rmsle: 0.7767\n",
            "valid_loss: 0.5904, valid_rmsle: 0.5904\n"
          ]
        },
        {
          "output_type": "stream",
          "name": "stderr",
          "text": [
            "100%|██████████| 125/125 [00:01<00:00, 82.13it/s] \n",
            "100%|██████████| 32/32 [00:00<00:00, 78.42it/s]\n"
          ]
        },
        {
          "output_type": "stream",
          "name": "stdout",
          "text": [
            "train_loss: 0.7700, train_rmsle: 0.7700\n",
            "valid_loss: 0.5920, valid_rmsle: 0.5920\n"
          ]
        },
        {
          "output_type": "stream",
          "name": "stderr",
          "text": [
            "100%|██████████| 125/125 [00:01<00:00, 96.02it/s] \n",
            "100%|██████████| 32/32 [00:00<00:00, 78.17it/s]\n"
          ]
        },
        {
          "output_type": "stream",
          "name": "stdout",
          "text": [
            "train_loss: 0.7411, train_rmsle: 0.7411\n",
            "valid_loss: 0.5901, valid_rmsle: 0.5901\n"
          ]
        },
        {
          "output_type": "stream",
          "name": "stderr",
          "text": [
            "100%|██████████| 125/125 [00:01<00:00, 95.39it/s] \n",
            "100%|██████████| 32/32 [00:00<00:00, 80.92it/s]\n"
          ]
        },
        {
          "output_type": "stream",
          "name": "stdout",
          "text": [
            "train_loss: 0.7385, train_rmsle: 0.7385\n",
            "valid_loss: 0.5801, valid_rmsle: 0.5801\n"
          ]
        },
        {
          "output_type": "stream",
          "name": "stderr",
          "text": [
            "100%|██████████| 125/125 [00:01<00:00, 94.26it/s] \n",
            "100%|██████████| 32/32 [00:00<00:00, 81.44it/s]\n"
          ]
        },
        {
          "output_type": "stream",
          "name": "stdout",
          "text": [
            "train_loss: 0.7171, train_rmsle: 0.7171\n",
            "valid_loss: 0.5706, valid_rmsle: 0.5706\n"
          ]
        },
        {
          "output_type": "stream",
          "name": "stderr",
          "text": [
            "100%|██████████| 125/125 [00:01<00:00, 94.90it/s] \n",
            "100%|██████████| 32/32 [00:00<00:00, 80.56it/s]\n"
          ]
        },
        {
          "output_type": "stream",
          "name": "stdout",
          "text": [
            "train_loss: 0.7062, train_rmsle: 0.7062\n",
            "valid_loss: 0.5723, valid_rmsle: 0.5723\n"
          ]
        },
        {
          "output_type": "stream",
          "name": "stderr",
          "text": [
            "100%|██████████| 125/125 [00:01<00:00, 94.53it/s] \n",
            "100%|██████████| 32/32 [00:00<00:00, 80.24it/s]\n"
          ]
        },
        {
          "output_type": "stream",
          "name": "stdout",
          "text": [
            "train_loss: 0.6940, train_rmsle: 0.6940\n",
            "valid_loss: 0.5658, valid_rmsle: 0.5658\n"
          ]
        },
        {
          "output_type": "stream",
          "name": "stderr",
          "text": [
            "100%|██████████| 125/125 [00:01<00:00, 94.01it/s] \n",
            "100%|██████████| 32/32 [00:00<00:00, 80.92it/s]\n"
          ]
        },
        {
          "output_type": "stream",
          "name": "stdout",
          "text": [
            "train_loss: 0.6885, train_rmsle: 0.6885\n",
            "valid_loss: 0.5554, valid_rmsle: 0.5554\n"
          ]
        },
        {
          "output_type": "stream",
          "name": "stderr",
          "text": [
            "100%|██████████| 125/125 [00:01<00:00, 94.94it/s] \n",
            "100%|██████████| 32/32 [00:00<00:00, 80.07it/s]\n"
          ]
        },
        {
          "output_type": "stream",
          "name": "stdout",
          "text": [
            "train_loss: 0.6794, train_rmsle: 0.6794\n",
            "valid_loss: 0.5769, valid_rmsle: 0.5769\n"
          ]
        },
        {
          "output_type": "stream",
          "name": "stderr",
          "text": [
            "100%|██████████| 125/125 [00:01<00:00, 95.45it/s] \n",
            "100%|██████████| 32/32 [00:00<00:00, 81.19it/s]\n"
          ]
        },
        {
          "output_type": "stream",
          "name": "stdout",
          "text": [
            "train_loss: 0.6591, train_rmsle: 0.6591\n",
            "valid_loss: 0.5711, valid_rmsle: 0.5711\n"
          ]
        },
        {
          "output_type": "stream",
          "name": "stderr",
          "text": [
            "100%|██████████| 125/125 [00:01<00:00, 93.99it/s] \n",
            "100%|██████████| 32/32 [00:00<00:00, 77.82it/s]\n"
          ]
        },
        {
          "output_type": "stream",
          "name": "stdout",
          "text": [
            "train_loss: 0.6515, train_rmsle: 0.6515\n",
            "valid_loss: 0.5661, valid_rmsle: 0.5661\n"
          ]
        },
        {
          "output_type": "stream",
          "name": "stderr",
          "text": [
            "100%|██████████| 125/125 [00:01<00:00, 94.27it/s] \n",
            "100%|██████████| 32/32 [00:00<00:00, 79.32it/s]\n"
          ]
        },
        {
          "output_type": "stream",
          "name": "stdout",
          "text": [
            "train_loss: 0.6411, train_rmsle: 0.6411\n",
            "valid_loss: 0.5637, valid_rmsle: 0.5637\n"
          ]
        },
        {
          "output_type": "stream",
          "name": "stderr",
          "text": [
            "100%|██████████| 125/125 [00:01<00:00, 95.91it/s] \n",
            "100%|██████████| 32/32 [00:00<00:00, 80.59it/s]\n"
          ]
        },
        {
          "output_type": "stream",
          "name": "stdout",
          "text": [
            "train_loss: 0.6284, train_rmsle: 0.6284\n",
            "valid_loss: 0.5686, valid_rmsle: 0.5686\n"
          ]
        },
        {
          "output_type": "stream",
          "name": "stderr",
          "text": [
            "100%|██████████| 125/125 [00:01<00:00, 95.89it/s] \n",
            "100%|██████████| 32/32 [00:00<00:00, 81.54it/s]\n"
          ]
        },
        {
          "output_type": "stream",
          "name": "stdout",
          "text": [
            "train_loss: 0.6137, train_rmsle: 0.6137\n",
            "valid_loss: 0.5415, valid_rmsle: 0.5415\n"
          ]
        },
        {
          "output_type": "stream",
          "name": "stderr",
          "text": [
            "100%|██████████| 125/125 [00:01<00:00, 93.57it/s] \n",
            "100%|██████████| 32/32 [00:00<00:00, 80.32it/s]\n"
          ]
        },
        {
          "output_type": "stream",
          "name": "stdout",
          "text": [
            "train_loss: 0.6224, train_rmsle: 0.6224\n",
            "valid_loss: 0.5532, valid_rmsle: 0.5532\n"
          ]
        },
        {
          "output_type": "stream",
          "name": "stderr",
          "text": [
            "100%|██████████| 125/125 [00:01<00:00, 93.50it/s] \n",
            "100%|██████████| 32/32 [00:00<00:00, 81.43it/s]\n"
          ]
        },
        {
          "output_type": "stream",
          "name": "stdout",
          "text": [
            "train_loss: 0.6084, train_rmsle: 0.6084\n",
            "valid_loss: 0.5399, valid_rmsle: 0.5399\n"
          ]
        },
        {
          "output_type": "stream",
          "name": "stderr",
          "text": [
            "100%|██████████| 125/125 [00:01<00:00, 93.37it/s] \n",
            "100%|██████████| 32/32 [00:00<00:00, 82.76it/s]\n"
          ]
        },
        {
          "output_type": "stream",
          "name": "stdout",
          "text": [
            "train_loss: 0.6031, train_rmsle: 0.6031\n",
            "valid_loss: 0.5409, valid_rmsle: 0.5409\n"
          ]
        },
        {
          "output_type": "stream",
          "name": "stderr",
          "text": [
            "100%|██████████| 125/125 [00:01<00:00, 95.63it/s] \n",
            "100%|██████████| 32/32 [00:00<00:00, 79.82it/s]\n"
          ]
        },
        {
          "output_type": "stream",
          "name": "stdout",
          "text": [
            "train_loss: 0.5918, train_rmsle: 0.5918\n",
            "valid_loss: 0.5538, valid_rmsle: 0.5538\n"
          ]
        },
        {
          "output_type": "stream",
          "name": "stderr",
          "text": [
            "100%|██████████| 125/125 [00:01<00:00, 94.87it/s] \n",
            "100%|██████████| 32/32 [00:00<00:00, 80.54it/s]\n"
          ]
        },
        {
          "output_type": "stream",
          "name": "stdout",
          "text": [
            "train_loss: 0.5818, train_rmsle: 0.5818\n",
            "valid_loss: 0.5470, valid_rmsle: 0.5470\n"
          ]
        },
        {
          "output_type": "stream",
          "name": "stderr",
          "text": [
            "100%|██████████| 125/125 [00:01<00:00, 94.72it/s] \n",
            "100%|██████████| 32/32 [00:00<00:00, 81.09it/s]\n"
          ]
        },
        {
          "output_type": "stream",
          "name": "stdout",
          "text": [
            "train_loss: 0.5758, train_rmsle: 0.5758\n",
            "valid_loss: 0.5380, valid_rmsle: 0.5380\n"
          ]
        },
        {
          "output_type": "stream",
          "name": "stderr",
          "text": [
            "100%|██████████| 125/125 [00:01<00:00, 96.22it/s] \n",
            "100%|██████████| 32/32 [00:00<00:00, 82.98it/s]\n"
          ]
        },
        {
          "output_type": "stream",
          "name": "stdout",
          "text": [
            "train_loss: 0.5619, train_rmsle: 0.5619\n",
            "valid_loss: 0.5384, valid_rmsle: 0.5384\n"
          ]
        },
        {
          "output_type": "stream",
          "name": "stderr",
          "text": [
            "100%|██████████| 125/125 [00:01<00:00, 94.81it/s] \n",
            "100%|██████████| 32/32 [00:00<00:00, 81.39it/s]\n"
          ]
        },
        {
          "output_type": "stream",
          "name": "stdout",
          "text": [
            "train_loss: 0.5614, train_rmsle: 0.5614\n",
            "valid_loss: 0.5364, valid_rmsle: 0.5364\n"
          ]
        },
        {
          "output_type": "stream",
          "name": "stderr",
          "text": [
            "100%|██████████| 125/125 [00:01<00:00, 95.14it/s] \n",
            "100%|██████████| 32/32 [00:00<00:00, 81.88it/s]\n"
          ]
        },
        {
          "output_type": "stream",
          "name": "stdout",
          "text": [
            "train_loss: 0.5595, train_rmsle: 0.5595\n",
            "valid_loss: 0.5434, valid_rmsle: 0.5434\n"
          ]
        },
        {
          "output_type": "stream",
          "name": "stderr",
          "text": [
            "100%|██████████| 125/125 [00:01<00:00, 90.96it/s] \n",
            "100%|██████████| 32/32 [00:00<00:00, 83.28it/s]\n"
          ]
        },
        {
          "output_type": "stream",
          "name": "stdout",
          "text": [
            "train_loss: 0.5551, train_rmsle: 0.5551\n",
            "valid_loss: 0.5354, valid_rmsle: 0.5354\n"
          ]
        },
        {
          "output_type": "stream",
          "name": "stderr",
          "text": [
            "100%|██████████| 125/125 [00:01<00:00, 95.39it/s] \n",
            "100%|██████████| 32/32 [00:00<00:00, 79.22it/s]\n"
          ]
        },
        {
          "output_type": "stream",
          "name": "stdout",
          "text": [
            "train_loss: 0.5523, train_rmsle: 0.5523\n",
            "valid_loss: 0.5322, valid_rmsle: 0.5322\n"
          ]
        },
        {
          "output_type": "stream",
          "name": "stderr",
          "text": [
            "100%|██████████| 125/125 [00:01<00:00, 95.88it/s] \n",
            "100%|██████████| 32/32 [00:00<00:00, 80.72it/s]\n"
          ]
        },
        {
          "output_type": "stream",
          "name": "stdout",
          "text": [
            "train_loss: 0.5415, train_rmsle: 0.5415\n",
            "valid_loss: 0.5240, valid_rmsle: 0.5240\n"
          ]
        },
        {
          "output_type": "stream",
          "name": "stderr",
          "text": [
            "100%|██████████| 125/125 [00:01<00:00, 94.91it/s] \n",
            "100%|██████████| 32/32 [00:00<00:00, 80.38it/s]\n"
          ]
        },
        {
          "output_type": "stream",
          "name": "stdout",
          "text": [
            "train_loss: 0.5423, train_rmsle: 0.5423\n",
            "valid_loss: 0.5367, valid_rmsle: 0.5367\n"
          ]
        },
        {
          "output_type": "stream",
          "name": "stderr",
          "text": [
            "100%|██████████| 125/125 [00:01<00:00, 92.74it/s] \n",
            "100%|██████████| 32/32 [00:00<00:00, 84.31it/s]\n"
          ]
        },
        {
          "output_type": "stream",
          "name": "stdout",
          "text": [
            "train_loss: 0.5301, train_rmsle: 0.5301\n",
            "valid_loss: 0.5346, valid_rmsle: 0.5346\n"
          ]
        },
        {
          "output_type": "stream",
          "name": "stderr",
          "text": [
            "100%|██████████| 125/125 [00:01<00:00, 94.91it/s] \n",
            "100%|██████████| 32/32 [00:00<00:00, 78.30it/s]\n"
          ]
        },
        {
          "output_type": "stream",
          "name": "stdout",
          "text": [
            "train_loss: 0.5261, train_rmsle: 0.5261\n",
            "valid_loss: 0.5285, valid_rmsle: 0.5285\n"
          ]
        },
        {
          "output_type": "stream",
          "name": "stderr",
          "text": [
            "100%|██████████| 125/125 [00:01<00:00, 96.28it/s] \n",
            "100%|██████████| 32/32 [00:00<00:00, 81.05it/s]\n"
          ]
        },
        {
          "output_type": "stream",
          "name": "stdout",
          "text": [
            "train_loss: 0.5270, train_rmsle: 0.5270\n",
            "valid_loss: 0.5262, valid_rmsle: 0.5262\n"
          ]
        },
        {
          "output_type": "stream",
          "name": "stderr",
          "text": [
            "100%|██████████| 125/125 [00:01<00:00, 95.67it/s] \n",
            "100%|██████████| 32/32 [00:00<00:00, 78.74it/s]\n"
          ]
        },
        {
          "output_type": "stream",
          "name": "stdout",
          "text": [
            "train_loss: 0.5220, train_rmsle: 0.5220\n",
            "valid_loss: 0.5463, valid_rmsle: 0.5463\n"
          ]
        },
        {
          "output_type": "stream",
          "name": "stderr",
          "text": [
            "100%|██████████| 125/125 [00:01<00:00, 94.66it/s] \n",
            "100%|██████████| 32/32 [00:00<00:00, 81.92it/s]\n"
          ]
        },
        {
          "output_type": "stream",
          "name": "stdout",
          "text": [
            "train_loss: 0.5117, train_rmsle: 0.5117\n",
            "valid_loss: 0.5201, valid_rmsle: 0.5201\n"
          ]
        },
        {
          "output_type": "stream",
          "name": "stderr",
          "text": [
            "100%|██████████| 125/125 [00:01<00:00, 95.31it/s] \n",
            "100%|██████████| 32/32 [00:00<00:00, 78.36it/s]\n"
          ]
        },
        {
          "output_type": "stream",
          "name": "stdout",
          "text": [
            "train_loss: 0.5253, train_rmsle: 0.5253\n",
            "valid_loss: 0.5235, valid_rmsle: 0.5235\n"
          ]
        },
        {
          "output_type": "stream",
          "name": "stderr",
          "text": [
            "100%|██████████| 125/125 [00:01<00:00, 92.66it/s] \n",
            "100%|██████████| 32/32 [00:00<00:00, 76.78it/s]\n"
          ]
        },
        {
          "output_type": "stream",
          "name": "stdout",
          "text": [
            "train_loss: 0.5113, train_rmsle: 0.5113\n",
            "valid_loss: 0.5374, valid_rmsle: 0.5374\n"
          ]
        },
        {
          "output_type": "stream",
          "name": "stderr",
          "text": [
            "100%|██████████| 125/125 [00:01<00:00, 95.14it/s] \n",
            "100%|██████████| 32/32 [00:00<00:00, 79.61it/s]\n"
          ]
        },
        {
          "output_type": "stream",
          "name": "stdout",
          "text": [
            "train_loss: 0.5014, train_rmsle: 0.5014\n",
            "valid_loss: 0.5475, valid_rmsle: 0.5475\n"
          ]
        },
        {
          "output_type": "stream",
          "name": "stderr",
          "text": [
            "100%|██████████| 125/125 [00:01<00:00, 97.04it/s] \n",
            "100%|██████████| 32/32 [00:00<00:00, 84.25it/s]\n"
          ]
        },
        {
          "output_type": "stream",
          "name": "stdout",
          "text": [
            "train_loss: 0.4932, train_rmsle: 0.4932\n",
            "valid_loss: 0.5208, valid_rmsle: 0.5208\n"
          ]
        },
        {
          "output_type": "stream",
          "name": "stderr",
          "text": [
            "100%|██████████| 125/125 [00:01<00:00, 95.26it/s] \n",
            "100%|██████████| 32/32 [00:00<00:00, 79.67it/s]\n"
          ]
        },
        {
          "output_type": "stream",
          "name": "stdout",
          "text": [
            "train_loss: 0.4976, train_rmsle: 0.4976\n",
            "valid_loss: 0.5255, valid_rmsle: 0.5255\n"
          ]
        },
        {
          "output_type": "stream",
          "name": "stderr",
          "text": [
            "100%|██████████| 125/125 [00:01<00:00, 95.15it/s] \n",
            "100%|██████████| 32/32 [00:00<00:00, 80.42it/s]\n"
          ]
        },
        {
          "output_type": "stream",
          "name": "stdout",
          "text": [
            "train_loss: 0.4876, train_rmsle: 0.4876\n",
            "valid_loss: 0.5194, valid_rmsle: 0.5194\n"
          ]
        },
        {
          "output_type": "stream",
          "name": "stderr",
          "text": [
            "100%|██████████| 125/125 [00:01<00:00, 95.50it/s] \n",
            "100%|██████████| 32/32 [00:00<00:00, 79.49it/s]\n"
          ]
        },
        {
          "output_type": "stream",
          "name": "stdout",
          "text": [
            "train_loss: 0.4889, train_rmsle: 0.4889\n",
            "valid_loss: 0.5192, valid_rmsle: 0.5192\n"
          ]
        },
        {
          "output_type": "stream",
          "name": "stderr",
          "text": [
            "100%|██████████| 125/125 [00:01<00:00, 95.56it/s] \n",
            "100%|██████████| 32/32 [00:00<00:00, 78.85it/s]\n"
          ]
        },
        {
          "output_type": "stream",
          "name": "stdout",
          "text": [
            "train_loss: 0.4821, train_rmsle: 0.4821\n",
            "valid_loss: 0.5341, valid_rmsle: 0.5341\n"
          ]
        },
        {
          "output_type": "stream",
          "name": "stderr",
          "text": [
            "100%|██████████| 125/125 [00:01<00:00, 96.48it/s] \n",
            "100%|██████████| 32/32 [00:00<00:00, 80.96it/s]\n"
          ]
        },
        {
          "output_type": "stream",
          "name": "stdout",
          "text": [
            "train_loss: 0.4848, train_rmsle: 0.4848\n",
            "valid_loss: 0.5145, valid_rmsle: 0.5145\n"
          ]
        },
        {
          "output_type": "stream",
          "name": "stderr",
          "text": [
            "100%|██████████| 125/125 [00:01<00:00, 96.67it/s] \n",
            "100%|██████████| 32/32 [00:00<00:00, 81.90it/s]\n"
          ]
        },
        {
          "output_type": "stream",
          "name": "stdout",
          "text": [
            "train_loss: 0.4813, train_rmsle: 0.4813\n",
            "valid_loss: 0.5249, valid_rmsle: 0.5249\n"
          ]
        },
        {
          "output_type": "stream",
          "name": "stderr",
          "text": [
            "100%|██████████| 125/125 [00:01<00:00, 95.48it/s] \n",
            "100%|██████████| 32/32 [00:00<00:00, 82.88it/s]\n"
          ]
        },
        {
          "output_type": "stream",
          "name": "stdout",
          "text": [
            "train_loss: 0.4810, train_rmsle: 0.4810\n",
            "valid_loss: 0.5229, valid_rmsle: 0.5229\n"
          ]
        },
        {
          "output_type": "stream",
          "name": "stderr",
          "text": [
            "100%|██████████| 125/125 [00:01<00:00, 97.79it/s] \n",
            "100%|██████████| 32/32 [00:00<00:00, 81.48it/s]\n"
          ]
        },
        {
          "output_type": "stream",
          "name": "stdout",
          "text": [
            "train_loss: 0.4741, train_rmsle: 0.4741\n",
            "valid_loss: 0.5307, valid_rmsle: 0.5307\n"
          ]
        },
        {
          "output_type": "stream",
          "name": "stderr",
          "text": [
            "100%|██████████| 125/125 [00:01<00:00, 96.90it/s] \n",
            "100%|██████████| 32/32 [00:00<00:00, 82.21it/s]\n"
          ]
        },
        {
          "output_type": "stream",
          "name": "stdout",
          "text": [
            "train_loss: 0.4758, train_rmsle: 0.4758\n",
            "valid_loss: 0.5229, valid_rmsle: 0.5229\n"
          ]
        },
        {
          "output_type": "stream",
          "name": "stderr",
          "text": [
            "100%|██████████| 125/125 [00:01<00:00, 97.63it/s] \n",
            "100%|██████████| 32/32 [00:00<00:00, 79.95it/s]\n"
          ]
        },
        {
          "output_type": "stream",
          "name": "stdout",
          "text": [
            "train_loss: 0.4699, train_rmsle: 0.4699\n",
            "valid_loss: 0.5136, valid_rmsle: 0.5136\n"
          ]
        },
        {
          "output_type": "stream",
          "name": "stderr",
          "text": [
            "100%|██████████| 125/125 [00:01<00:00, 96.81it/s] \n",
            "100%|██████████| 32/32 [00:00<00:00, 80.44it/s]\n"
          ]
        },
        {
          "output_type": "stream",
          "name": "stdout",
          "text": [
            "train_loss: 0.4683, train_rmsle: 0.4683\n",
            "valid_loss: 0.5143, valid_rmsle: 0.5143\n"
          ]
        },
        {
          "output_type": "stream",
          "name": "stderr",
          "text": [
            "100%|██████████| 125/125 [00:01<00:00, 95.75it/s] \n",
            "100%|██████████| 32/32 [00:00<00:00, 80.54it/s]\n"
          ]
        },
        {
          "output_type": "stream",
          "name": "stdout",
          "text": [
            "train_loss: 0.4724, train_rmsle: 0.4724\n",
            "valid_loss: 0.5168, valid_rmsle: 0.5168\n"
          ]
        },
        {
          "output_type": "stream",
          "name": "stderr",
          "text": [
            "100%|██████████| 125/125 [00:01<00:00, 97.51it/s] \n",
            "100%|██████████| 32/32 [00:00<00:00, 79.51it/s]\n"
          ]
        },
        {
          "output_type": "stream",
          "name": "stdout",
          "text": [
            "train_loss: 0.4636, train_rmsle: 0.4636\n",
            "valid_loss: 0.5211, valid_rmsle: 0.5211\n"
          ]
        },
        {
          "output_type": "stream",
          "name": "stderr",
          "text": [
            "100%|██████████| 125/125 [00:01<00:00, 96.27it/s] \n",
            "100%|██████████| 32/32 [00:00<00:00, 84.16it/s]\n"
          ]
        },
        {
          "output_type": "stream",
          "name": "stdout",
          "text": [
            "train_loss: 0.4612, train_rmsle: 0.4612\n",
            "valid_loss: 0.5220, valid_rmsle: 0.5220\n"
          ]
        },
        {
          "output_type": "stream",
          "name": "stderr",
          "text": [
            "100%|██████████| 125/125 [00:01<00:00, 94.85it/s] \n",
            "100%|██████████| 32/32 [00:00<00:00, 80.28it/s]\n"
          ]
        },
        {
          "output_type": "stream",
          "name": "stdout",
          "text": [
            "train_loss: 0.4576, train_rmsle: 0.4576\n",
            "valid_loss: 0.5159, valid_rmsle: 0.5159\n"
          ]
        },
        {
          "output_type": "stream",
          "name": "stderr",
          "text": [
            "100%|██████████| 125/125 [00:01<00:00, 97.87it/s] \n",
            "100%|██████████| 32/32 [00:00<00:00, 79.37it/s]\n"
          ]
        },
        {
          "output_type": "stream",
          "name": "stdout",
          "text": [
            "train_loss: 0.4525, train_rmsle: 0.4525\n",
            "valid_loss: 0.5253, valid_rmsle: 0.5253\n"
          ]
        },
        {
          "output_type": "stream",
          "name": "stderr",
          "text": [
            "100%|██████████| 125/125 [00:01<00:00, 95.20it/s] \n",
            "100%|██████████| 32/32 [00:00<00:00, 81.63it/s]\n"
          ]
        },
        {
          "output_type": "stream",
          "name": "stdout",
          "text": [
            "train_loss: 0.4541, train_rmsle: 0.4541\n",
            "valid_loss: 0.5138, valid_rmsle: 0.5138\n"
          ]
        },
        {
          "output_type": "stream",
          "name": "stderr",
          "text": [
            "100%|██████████| 125/125 [00:01<00:00, 94.30it/s] \n",
            "100%|██████████| 32/32 [00:00<00:00, 81.25it/s]\n"
          ]
        },
        {
          "output_type": "stream",
          "name": "stdout",
          "text": [
            "train_loss: 0.4562, train_rmsle: 0.4562\n",
            "valid_loss: 0.5288, valid_rmsle: 0.5288\n"
          ]
        },
        {
          "output_type": "stream",
          "name": "stderr",
          "text": [
            "100%|██████████| 125/125 [00:01<00:00, 84.14it/s] \n",
            "100%|██████████| 32/32 [00:00<00:00, 82.38it/s]\n"
          ]
        },
        {
          "output_type": "stream",
          "name": "stdout",
          "text": [
            "train_loss: 0.4532, train_rmsle: 0.4532\n",
            "valid_loss: 0.5254, valid_rmsle: 0.5254\n"
          ]
        },
        {
          "output_type": "stream",
          "name": "stderr",
          "text": [
            "100%|██████████| 125/125 [00:01<00:00, 97.81it/s] \n",
            "100%|██████████| 32/32 [00:00<00:00, 80.91it/s]\n"
          ]
        },
        {
          "output_type": "stream",
          "name": "stdout",
          "text": [
            "train_loss: 0.4545, train_rmsle: 0.4545\n",
            "valid_loss: 0.5199, valid_rmsle: 0.5199\n",
            "==================================================\n",
            "save model: models/nn_fold1_.pth\n",
            "==================================================\n",
            "fold: 1\n",
            "==================================================\n"
          ]
        },
        {
          "output_type": "stream",
          "name": "stderr",
          "text": [
            "100%|██████████| 125/125 [00:01<00:00, 94.33it/s] \n",
            "100%|██████████| 32/32 [00:00<00:00, 81.10it/s]\n"
          ]
        },
        {
          "output_type": "stream",
          "name": "stdout",
          "text": [
            "train_loss: 8.8214, train_rmsle: 8.8214\n",
            "valid_loss: 7.7552, valid_rmsle: 7.7552\n"
          ]
        },
        {
          "output_type": "stream",
          "name": "stderr",
          "text": [
            "100%|██████████| 125/125 [00:01<00:00, 97.50it/s] \n",
            "100%|██████████| 32/32 [00:00<00:00, 77.90it/s]\n"
          ]
        },
        {
          "output_type": "stream",
          "name": "stdout",
          "text": [
            "train_loss: 6.4960, train_rmsle: 6.4960\n",
            "valid_loss: 4.9636, valid_rmsle: 4.9636\n"
          ]
        },
        {
          "output_type": "stream",
          "name": "stderr",
          "text": [
            "100%|██████████| 125/125 [00:01<00:00, 95.45it/s] \n",
            "100%|██████████| 32/32 [00:00<00:00, 81.22it/s]\n"
          ]
        },
        {
          "output_type": "stream",
          "name": "stdout",
          "text": [
            "train_loss: 3.3113, train_rmsle: 3.3113\n",
            "valid_loss: 1.4514, valid_rmsle: 1.4514\n"
          ]
        },
        {
          "output_type": "stream",
          "name": "stderr",
          "text": [
            "100%|██████████| 125/125 [00:01<00:00, 95.41it/s] \n",
            "100%|██████████| 32/32 [00:00<00:00, 79.47it/s]\n"
          ]
        },
        {
          "output_type": "stream",
          "name": "stdout",
          "text": [
            "train_loss: 1.2004, train_rmsle: 1.2004\n",
            "valid_loss: 0.8090, valid_rmsle: 0.8090\n"
          ]
        },
        {
          "output_type": "stream",
          "name": "stderr",
          "text": [
            "100%|██████████| 125/125 [00:01<00:00, 92.91it/s] \n",
            "100%|██████████| 32/32 [00:00<00:00, 73.88it/s]\n"
          ]
        },
        {
          "output_type": "stream",
          "name": "stdout",
          "text": [
            "train_loss: 1.0456, train_rmsle: 1.0456\n",
            "valid_loss: 0.7230, valid_rmsle: 0.7230\n"
          ]
        },
        {
          "output_type": "stream",
          "name": "stderr",
          "text": [
            "100%|██████████| 125/125 [00:01<00:00, 92.23it/s] \n",
            "100%|██████████| 32/32 [00:00<00:00, 78.42it/s]\n"
          ]
        },
        {
          "output_type": "stream",
          "name": "stdout",
          "text": [
            "train_loss: 1.0027, train_rmsle: 1.0027\n",
            "valid_loss: 0.7169, valid_rmsle: 0.7169\n"
          ]
        },
        {
          "output_type": "stream",
          "name": "stderr",
          "text": [
            "100%|██████████| 125/125 [00:01<00:00, 79.08it/s] \n",
            "100%|██████████| 32/32 [00:00<00:00, 80.43it/s]\n"
          ]
        },
        {
          "output_type": "stream",
          "name": "stdout",
          "text": [
            "train_loss: 0.9570, train_rmsle: 0.9570\n",
            "valid_loss: 0.6666, valid_rmsle: 0.6666\n"
          ]
        },
        {
          "output_type": "stream",
          "name": "stderr",
          "text": [
            "100%|██████████| 125/125 [00:01<00:00, 94.63it/s] \n",
            "100%|██████████| 32/32 [00:00<00:00, 79.00it/s]\n"
          ]
        },
        {
          "output_type": "stream",
          "name": "stdout",
          "text": [
            "train_loss: 0.9295, train_rmsle: 0.9295\n",
            "valid_loss: 0.6683, valid_rmsle: 0.6683\n"
          ]
        },
        {
          "output_type": "stream",
          "name": "stderr",
          "text": [
            "100%|██████████| 125/125 [00:01<00:00, 93.14it/s] \n",
            "100%|██████████| 32/32 [00:00<00:00, 77.89it/s]\n"
          ]
        },
        {
          "output_type": "stream",
          "name": "stdout",
          "text": [
            "train_loss: 0.9006, train_rmsle: 0.9006\n",
            "valid_loss: 0.6297, valid_rmsle: 0.6297\n"
          ]
        },
        {
          "output_type": "stream",
          "name": "stderr",
          "text": [
            "100%|██████████| 125/125 [00:01<00:00, 92.55it/s] \n",
            "100%|██████████| 32/32 [00:00<00:00, 78.57it/s]\n"
          ]
        },
        {
          "output_type": "stream",
          "name": "stdout",
          "text": [
            "train_loss: 0.8656, train_rmsle: 0.8656\n",
            "valid_loss: 0.6242, valid_rmsle: 0.6242\n"
          ]
        },
        {
          "output_type": "stream",
          "name": "stderr",
          "text": [
            "100%|██████████| 125/125 [00:01<00:00, 94.08it/s] \n",
            "100%|██████████| 32/32 [00:00<00:00, 79.34it/s]\n"
          ]
        },
        {
          "output_type": "stream",
          "name": "stdout",
          "text": [
            "train_loss: 0.8468, train_rmsle: 0.8468\n",
            "valid_loss: 0.6214, valid_rmsle: 0.6214\n"
          ]
        },
        {
          "output_type": "stream",
          "name": "stderr",
          "text": [
            "100%|██████████| 125/125 [00:01<00:00, 91.61it/s] \n",
            "100%|██████████| 32/32 [00:00<00:00, 78.88it/s]\n"
          ]
        },
        {
          "output_type": "stream",
          "name": "stdout",
          "text": [
            "train_loss: 0.8322, train_rmsle: 0.8322\n",
            "valid_loss: 0.6137, valid_rmsle: 0.6137\n"
          ]
        },
        {
          "output_type": "stream",
          "name": "stderr",
          "text": [
            "100%|██████████| 125/125 [00:01<00:00, 93.67it/s] \n",
            "100%|██████████| 32/32 [00:00<00:00, 78.09it/s]\n"
          ]
        },
        {
          "output_type": "stream",
          "name": "stdout",
          "text": [
            "train_loss: 0.8134, train_rmsle: 0.8134\n",
            "valid_loss: 0.6229, valid_rmsle: 0.6229\n"
          ]
        },
        {
          "output_type": "stream",
          "name": "stderr",
          "text": [
            "100%|██████████| 125/125 [00:01<00:00, 90.36it/s] \n",
            "100%|██████████| 32/32 [00:00<00:00, 79.33it/s]\n"
          ]
        },
        {
          "output_type": "stream",
          "name": "stdout",
          "text": [
            "train_loss: 0.7937, train_rmsle: 0.7937\n",
            "valid_loss: 0.6045, valid_rmsle: 0.6045\n"
          ]
        },
        {
          "output_type": "stream",
          "name": "stderr",
          "text": [
            "100%|██████████| 125/125 [00:01<00:00, 91.81it/s] \n",
            "100%|██████████| 32/32 [00:00<00:00, 79.49it/s]\n"
          ]
        },
        {
          "output_type": "stream",
          "name": "stdout",
          "text": [
            "train_loss: 0.7900, train_rmsle: 0.7900\n",
            "valid_loss: 0.5891, valid_rmsle: 0.5891\n"
          ]
        },
        {
          "output_type": "stream",
          "name": "stderr",
          "text": [
            "100%|██████████| 125/125 [00:01<00:00, 93.66it/s] \n",
            "100%|██████████| 32/32 [00:00<00:00, 77.41it/s]\n"
          ]
        },
        {
          "output_type": "stream",
          "name": "stdout",
          "text": [
            "train_loss: 0.7624, train_rmsle: 0.7624\n",
            "valid_loss: 0.5981, valid_rmsle: 0.5981\n"
          ]
        },
        {
          "output_type": "stream",
          "name": "stderr",
          "text": [
            "100%|██████████| 125/125 [00:01<00:00, 94.42it/s] \n",
            "100%|██████████| 32/32 [00:00<00:00, 75.24it/s]\n"
          ]
        },
        {
          "output_type": "stream",
          "name": "stdout",
          "text": [
            "train_loss: 0.7438, train_rmsle: 0.7438\n",
            "valid_loss: 0.5849, valid_rmsle: 0.5849\n"
          ]
        },
        {
          "output_type": "stream",
          "name": "stderr",
          "text": [
            "100%|██████████| 125/125 [00:01<00:00, 91.51it/s] \n",
            "100%|██████████| 32/32 [00:00<00:00, 81.60it/s]\n"
          ]
        },
        {
          "output_type": "stream",
          "name": "stdout",
          "text": [
            "train_loss: 0.7272, train_rmsle: 0.7272\n",
            "valid_loss: 0.5907, valid_rmsle: 0.5907\n"
          ]
        },
        {
          "output_type": "stream",
          "name": "stderr",
          "text": [
            "100%|██████████| 125/125 [00:01<00:00, 91.58it/s] \n",
            "100%|██████████| 32/32 [00:00<00:00, 78.39it/s]\n"
          ]
        },
        {
          "output_type": "stream",
          "name": "stdout",
          "text": [
            "train_loss: 0.7112, train_rmsle: 0.7112\n",
            "valid_loss: 0.5834, valid_rmsle: 0.5834\n"
          ]
        },
        {
          "output_type": "stream",
          "name": "stderr",
          "text": [
            "100%|██████████| 125/125 [00:01<00:00, 92.36it/s] \n",
            "100%|██████████| 32/32 [00:00<00:00, 76.66it/s]\n"
          ]
        },
        {
          "output_type": "stream",
          "name": "stdout",
          "text": [
            "train_loss: 0.7211, train_rmsle: 0.7211\n",
            "valid_loss: 0.5827, valid_rmsle: 0.5827\n"
          ]
        },
        {
          "output_type": "stream",
          "name": "stderr",
          "text": [
            "100%|██████████| 125/125 [00:01<00:00, 94.21it/s] \n",
            "100%|██████████| 32/32 [00:00<00:00, 77.11it/s]\n"
          ]
        },
        {
          "output_type": "stream",
          "name": "stdout",
          "text": [
            "train_loss: 0.6865, train_rmsle: 0.6865\n",
            "valid_loss: 0.5899, valid_rmsle: 0.5899\n"
          ]
        },
        {
          "output_type": "stream",
          "name": "stderr",
          "text": [
            "100%|██████████| 125/125 [00:01<00:00, 93.10it/s] \n",
            "100%|██████████| 32/32 [00:00<00:00, 81.03it/s]\n"
          ]
        },
        {
          "output_type": "stream",
          "name": "stdout",
          "text": [
            "train_loss: 0.6917, train_rmsle: 0.6917\n",
            "valid_loss: 0.5773, valid_rmsle: 0.5773\n"
          ]
        },
        {
          "output_type": "stream",
          "name": "stderr",
          "text": [
            "100%|██████████| 125/125 [00:01<00:00, 93.65it/s] \n",
            "100%|██████████| 32/32 [00:00<00:00, 76.03it/s]\n"
          ]
        },
        {
          "output_type": "stream",
          "name": "stdout",
          "text": [
            "train_loss: 0.6712, train_rmsle: 0.6712\n",
            "valid_loss: 0.5867, valid_rmsle: 0.5867\n"
          ]
        },
        {
          "output_type": "stream",
          "name": "stderr",
          "text": [
            "100%|██████████| 125/125 [00:01<00:00, 92.21it/s] \n",
            "100%|██████████| 32/32 [00:00<00:00, 77.85it/s]\n"
          ]
        },
        {
          "output_type": "stream",
          "name": "stdout",
          "text": [
            "train_loss: 0.6681, train_rmsle: 0.6681\n",
            "valid_loss: 0.5743, valid_rmsle: 0.5743\n"
          ]
        },
        {
          "output_type": "stream",
          "name": "stderr",
          "text": [
            "100%|██████████| 125/125 [00:01<00:00, 95.13it/s] \n",
            "100%|██████████| 32/32 [00:00<00:00, 79.97it/s]\n"
          ]
        },
        {
          "output_type": "stream",
          "name": "stdout",
          "text": [
            "train_loss: 0.6547, train_rmsle: 0.6547\n",
            "valid_loss: 0.5634, valid_rmsle: 0.5634\n"
          ]
        },
        {
          "output_type": "stream",
          "name": "stderr",
          "text": [
            "100%|██████████| 125/125 [00:01<00:00, 95.23it/s] \n",
            "100%|██████████| 32/32 [00:00<00:00, 77.09it/s]\n"
          ]
        },
        {
          "output_type": "stream",
          "name": "stdout",
          "text": [
            "train_loss: 0.6350, train_rmsle: 0.6350\n",
            "valid_loss: 0.5595, valid_rmsle: 0.5595\n"
          ]
        },
        {
          "output_type": "stream",
          "name": "stderr",
          "text": [
            "100%|██████████| 125/125 [00:01<00:00, 93.03it/s] \n",
            "100%|██████████| 32/32 [00:00<00:00, 80.93it/s]\n"
          ]
        },
        {
          "output_type": "stream",
          "name": "stdout",
          "text": [
            "train_loss: 0.6313, train_rmsle: 0.6313\n",
            "valid_loss: 0.5818, valid_rmsle: 0.5818\n"
          ]
        },
        {
          "output_type": "stream",
          "name": "stderr",
          "text": [
            "100%|██████████| 125/125 [00:01<00:00, 91.52it/s] \n",
            "100%|██████████| 32/32 [00:00<00:00, 79.97it/s]\n"
          ]
        },
        {
          "output_type": "stream",
          "name": "stdout",
          "text": [
            "train_loss: 0.6245, train_rmsle: 0.6245\n",
            "valid_loss: 0.5635, valid_rmsle: 0.5635\n"
          ]
        },
        {
          "output_type": "stream",
          "name": "stderr",
          "text": [
            "100%|██████████| 125/125 [00:01<00:00, 93.28it/s] \n",
            "100%|██████████| 32/32 [00:00<00:00, 77.67it/s]\n"
          ]
        },
        {
          "output_type": "stream",
          "name": "stdout",
          "text": [
            "train_loss: 0.6194, train_rmsle: 0.6194\n",
            "valid_loss: 0.5704, valid_rmsle: 0.5704\n"
          ]
        },
        {
          "output_type": "stream",
          "name": "stderr",
          "text": [
            "100%|██████████| 125/125 [00:01<00:00, 96.46it/s] \n",
            "100%|██████████| 32/32 [00:00<00:00, 80.38it/s]\n"
          ]
        },
        {
          "output_type": "stream",
          "name": "stdout",
          "text": [
            "train_loss: 0.6051, train_rmsle: 0.6051\n",
            "valid_loss: 0.5615, valid_rmsle: 0.5615\n"
          ]
        },
        {
          "output_type": "stream",
          "name": "stderr",
          "text": [
            "100%|██████████| 125/125 [00:01<00:00, 94.87it/s] \n",
            "100%|██████████| 32/32 [00:00<00:00, 75.43it/s]\n"
          ]
        },
        {
          "output_type": "stream",
          "name": "stdout",
          "text": [
            "train_loss: 0.6012, train_rmsle: 0.6012\n",
            "valid_loss: 0.5588, valid_rmsle: 0.5588\n"
          ]
        },
        {
          "output_type": "stream",
          "name": "stderr",
          "text": [
            "100%|██████████| 125/125 [00:01<00:00, 96.22it/s] \n",
            "100%|██████████| 32/32 [00:00<00:00, 73.50it/s]\n"
          ]
        },
        {
          "output_type": "stream",
          "name": "stdout",
          "text": [
            "train_loss: 0.5959, train_rmsle: 0.5959\n",
            "valid_loss: 0.5566, valid_rmsle: 0.5566\n"
          ]
        },
        {
          "output_type": "stream",
          "name": "stderr",
          "text": [
            "100%|██████████| 125/125 [00:01<00:00, 92.51it/s] \n",
            "100%|██████████| 32/32 [00:00<00:00, 81.99it/s]\n"
          ]
        },
        {
          "output_type": "stream",
          "name": "stdout",
          "text": [
            "train_loss: 0.5757, train_rmsle: 0.5757\n",
            "valid_loss: 0.5423, valid_rmsle: 0.5423\n"
          ]
        },
        {
          "output_type": "stream",
          "name": "stderr",
          "text": [
            "100%|██████████| 125/125 [00:01<00:00, 95.96it/s] \n",
            "100%|██████████| 32/32 [00:00<00:00, 77.72it/s]\n"
          ]
        },
        {
          "output_type": "stream",
          "name": "stdout",
          "text": [
            "train_loss: 0.5729, train_rmsle: 0.5729\n",
            "valid_loss: 0.5510, valid_rmsle: 0.5510\n"
          ]
        },
        {
          "output_type": "stream",
          "name": "stderr",
          "text": [
            "100%|██████████| 125/125 [00:01<00:00, 94.11it/s] \n",
            "100%|██████████| 32/32 [00:00<00:00, 81.16it/s]\n"
          ]
        },
        {
          "output_type": "stream",
          "name": "stdout",
          "text": [
            "train_loss: 0.5779, train_rmsle: 0.5779\n",
            "valid_loss: 0.5574, valid_rmsle: 0.5574\n"
          ]
        },
        {
          "output_type": "stream",
          "name": "stderr",
          "text": [
            "100%|██████████| 125/125 [00:01<00:00, 93.42it/s] \n",
            "100%|██████████| 32/32 [00:00<00:00, 79.31it/s]\n"
          ]
        },
        {
          "output_type": "stream",
          "name": "stdout",
          "text": [
            "train_loss: 0.5776, train_rmsle: 0.5776\n",
            "valid_loss: 0.5514, valid_rmsle: 0.5514\n"
          ]
        },
        {
          "output_type": "stream",
          "name": "stderr",
          "text": [
            "100%|██████████| 125/125 [00:01<00:00, 93.67it/s] \n",
            "100%|██████████| 32/32 [00:00<00:00, 80.53it/s]\n"
          ]
        },
        {
          "output_type": "stream",
          "name": "stdout",
          "text": [
            "train_loss: 0.5669, train_rmsle: 0.5669\n",
            "valid_loss: 0.5379, valid_rmsle: 0.5379\n"
          ]
        },
        {
          "output_type": "stream",
          "name": "stderr",
          "text": [
            "100%|██████████| 125/125 [00:01<00:00, 94.23it/s] \n",
            "100%|██████████| 32/32 [00:00<00:00, 78.83it/s]\n"
          ]
        },
        {
          "output_type": "stream",
          "name": "stdout",
          "text": [
            "train_loss: 0.5603, train_rmsle: 0.5603\n",
            "valid_loss: 0.5548, valid_rmsle: 0.5548\n"
          ]
        },
        {
          "output_type": "stream",
          "name": "stderr",
          "text": [
            "100%|██████████| 125/125 [00:01<00:00, 92.16it/s] \n",
            "100%|██████████| 32/32 [00:00<00:00, 80.55it/s]\n"
          ]
        },
        {
          "output_type": "stream",
          "name": "stdout",
          "text": [
            "train_loss: 0.5543, train_rmsle: 0.5543\n",
            "valid_loss: 0.5326, valid_rmsle: 0.5326\n"
          ]
        },
        {
          "output_type": "stream",
          "name": "stderr",
          "text": [
            "100%|██████████| 125/125 [00:01<00:00, 93.41it/s] \n",
            "100%|██████████| 32/32 [00:00<00:00, 79.70it/s]\n"
          ]
        },
        {
          "output_type": "stream",
          "name": "stdout",
          "text": [
            "train_loss: 0.5576, train_rmsle: 0.5576\n",
            "valid_loss: 0.5501, valid_rmsle: 0.5501\n"
          ]
        },
        {
          "output_type": "stream",
          "name": "stderr",
          "text": [
            "100%|██████████| 125/125 [00:01<00:00, 95.75it/s] \n",
            "100%|██████████| 32/32 [00:00<00:00, 79.87it/s]\n"
          ]
        },
        {
          "output_type": "stream",
          "name": "stdout",
          "text": [
            "train_loss: 0.5353, train_rmsle: 0.5353\n",
            "valid_loss: 0.5409, valid_rmsle: 0.5409\n"
          ]
        },
        {
          "output_type": "stream",
          "name": "stderr",
          "text": [
            "100%|██████████| 125/125 [00:01<00:00, 89.87it/s] \n",
            "100%|██████████| 32/32 [00:00<00:00, 80.07it/s]\n"
          ]
        },
        {
          "output_type": "stream",
          "name": "stdout",
          "text": [
            "train_loss: 0.5389, train_rmsle: 0.5389\n",
            "valid_loss: 0.5528, valid_rmsle: 0.5528\n"
          ]
        },
        {
          "output_type": "stream",
          "name": "stderr",
          "text": [
            "100%|██████████| 125/125 [00:01<00:00, 94.94it/s] \n",
            "100%|██████████| 32/32 [00:00<00:00, 77.97it/s]\n"
          ]
        },
        {
          "output_type": "stream",
          "name": "stdout",
          "text": [
            "train_loss: 0.5317, train_rmsle: 0.5317\n",
            "valid_loss: 0.5501, valid_rmsle: 0.5501\n"
          ]
        },
        {
          "output_type": "stream",
          "name": "stderr",
          "text": [
            "100%|██████████| 125/125 [00:01<00:00, 94.95it/s] \n",
            "100%|██████████| 32/32 [00:00<00:00, 80.21it/s]\n"
          ]
        },
        {
          "output_type": "stream",
          "name": "stdout",
          "text": [
            "train_loss: 0.5243, train_rmsle: 0.5243\n",
            "valid_loss: 0.5375, valid_rmsle: 0.5375\n"
          ]
        },
        {
          "output_type": "stream",
          "name": "stderr",
          "text": [
            "100%|██████████| 125/125 [00:01<00:00, 95.79it/s] \n",
            "100%|██████████| 32/32 [00:00<00:00, 76.55it/s]\n"
          ]
        },
        {
          "output_type": "stream",
          "name": "stdout",
          "text": [
            "train_loss: 0.5167, train_rmsle: 0.5167\n",
            "valid_loss: 0.5472, valid_rmsle: 0.5472\n"
          ]
        },
        {
          "output_type": "stream",
          "name": "stderr",
          "text": [
            "100%|██████████| 125/125 [00:01<00:00, 93.95it/s] \n",
            "100%|██████████| 32/32 [00:00<00:00, 80.39it/s]\n"
          ]
        },
        {
          "output_type": "stream",
          "name": "stdout",
          "text": [
            "train_loss: 0.5176, train_rmsle: 0.5176\n",
            "valid_loss: 0.5355, valid_rmsle: 0.5355\n"
          ]
        },
        {
          "output_type": "stream",
          "name": "stderr",
          "text": [
            "100%|██████████| 125/125 [00:01<00:00, 93.73it/s] \n",
            "100%|██████████| 32/32 [00:00<00:00, 80.75it/s]\n"
          ]
        },
        {
          "output_type": "stream",
          "name": "stdout",
          "text": [
            "train_loss: 0.5190, train_rmsle: 0.5190\n",
            "valid_loss: 0.5264, valid_rmsle: 0.5264\n"
          ]
        },
        {
          "output_type": "stream",
          "name": "stderr",
          "text": [
            "100%|██████████| 125/125 [00:01<00:00, 93.97it/s] \n",
            "100%|██████████| 32/32 [00:00<00:00, 79.87it/s]\n"
          ]
        },
        {
          "output_type": "stream",
          "name": "stdout",
          "text": [
            "train_loss: 0.5046, train_rmsle: 0.5046\n",
            "valid_loss: 0.5365, valid_rmsle: 0.5365\n"
          ]
        },
        {
          "output_type": "stream",
          "name": "stderr",
          "text": [
            "100%|██████████| 125/125 [00:01<00:00, 95.75it/s] \n",
            "100%|██████████| 32/32 [00:00<00:00, 76.94it/s]\n"
          ]
        },
        {
          "output_type": "stream",
          "name": "stdout",
          "text": [
            "train_loss: 0.5086, train_rmsle: 0.5086\n",
            "valid_loss: 0.5445, valid_rmsle: 0.5445\n"
          ]
        },
        {
          "output_type": "stream",
          "name": "stderr",
          "text": [
            "100%|██████████| 125/125 [00:01<00:00, 94.52it/s] \n",
            "100%|██████████| 32/32 [00:00<00:00, 81.09it/s]\n"
          ]
        },
        {
          "output_type": "stream",
          "name": "stdout",
          "text": [
            "train_loss: 0.5087, train_rmsle: 0.5087\n",
            "valid_loss: 0.5358, valid_rmsle: 0.5358\n"
          ]
        },
        {
          "output_type": "stream",
          "name": "stderr",
          "text": [
            "100%|██████████| 125/125 [00:01<00:00, 95.36it/s] \n",
            "100%|██████████| 32/32 [00:00<00:00, 79.31it/s]\n"
          ]
        },
        {
          "output_type": "stream",
          "name": "stdout",
          "text": [
            "train_loss: 0.4968, train_rmsle: 0.4968\n",
            "valid_loss: 0.5333, valid_rmsle: 0.5333\n"
          ]
        },
        {
          "output_type": "stream",
          "name": "stderr",
          "text": [
            "100%|██████████| 125/125 [00:01<00:00, 91.97it/s] \n",
            "100%|██████████| 32/32 [00:00<00:00, 77.82it/s]\n"
          ]
        },
        {
          "output_type": "stream",
          "name": "stdout",
          "text": [
            "train_loss: 0.4901, train_rmsle: 0.4901\n",
            "valid_loss: 0.5362, valid_rmsle: 0.5362\n"
          ]
        },
        {
          "output_type": "stream",
          "name": "stderr",
          "text": [
            "100%|██████████| 125/125 [00:01<00:00, 93.67it/s] \n",
            "100%|██████████| 32/32 [00:00<00:00, 77.47it/s]\n"
          ]
        },
        {
          "output_type": "stream",
          "name": "stdout",
          "text": [
            "train_loss: 0.4910, train_rmsle: 0.4910\n",
            "valid_loss: 0.5349, valid_rmsle: 0.5349\n"
          ]
        },
        {
          "output_type": "stream",
          "name": "stderr",
          "text": [
            "100%|██████████| 125/125 [00:01<00:00, 94.63it/s] \n",
            "100%|██████████| 32/32 [00:00<00:00, 79.35it/s]\n"
          ]
        },
        {
          "output_type": "stream",
          "name": "stdout",
          "text": [
            "train_loss: 0.5007, train_rmsle: 0.5007\n",
            "valid_loss: 0.5338, valid_rmsle: 0.5338\n"
          ]
        },
        {
          "output_type": "stream",
          "name": "stderr",
          "text": [
            "100%|██████████| 125/125 [00:01<00:00, 95.70it/s] \n",
            "100%|██████████| 32/32 [00:00<00:00, 81.16it/s]\n"
          ]
        },
        {
          "output_type": "stream",
          "name": "stdout",
          "text": [
            "train_loss: 0.4826, train_rmsle: 0.4826\n",
            "valid_loss: 0.5345, valid_rmsle: 0.5345\n"
          ]
        },
        {
          "output_type": "stream",
          "name": "stderr",
          "text": [
            "100%|██████████| 125/125 [00:01<00:00, 94.59it/s] \n",
            "100%|██████████| 32/32 [00:00<00:00, 81.88it/s]\n"
          ]
        },
        {
          "output_type": "stream",
          "name": "stdout",
          "text": [
            "train_loss: 0.4734, train_rmsle: 0.4734\n",
            "valid_loss: 0.5352, valid_rmsle: 0.5352\n"
          ]
        },
        {
          "output_type": "stream",
          "name": "stderr",
          "text": [
            "100%|██████████| 125/125 [00:01<00:00, 96.05it/s] \n",
            "100%|██████████| 32/32 [00:00<00:00, 83.00it/s]\n"
          ]
        },
        {
          "output_type": "stream",
          "name": "stdout",
          "text": [
            "train_loss: 0.4852, train_rmsle: 0.4852\n",
            "valid_loss: 0.5336, valid_rmsle: 0.5336\n"
          ]
        },
        {
          "output_type": "stream",
          "name": "stderr",
          "text": [
            "100%|██████████| 125/125 [00:01<00:00, 92.15it/s] \n",
            "100%|██████████| 32/32 [00:00<00:00, 78.36it/s]\n"
          ]
        },
        {
          "output_type": "stream",
          "name": "stdout",
          "text": [
            "train_loss: 0.4789, train_rmsle: 0.4789\n",
            "valid_loss: 0.5446, valid_rmsle: 0.5446\n"
          ]
        },
        {
          "output_type": "stream",
          "name": "stderr",
          "text": [
            "100%|██████████| 125/125 [00:01<00:00, 84.12it/s] \n",
            "100%|██████████| 32/32 [00:00<00:00, 54.97it/s]\n"
          ]
        },
        {
          "output_type": "stream",
          "name": "stdout",
          "text": [
            "train_loss: 0.4743, train_rmsle: 0.4743\n",
            "valid_loss: 0.5383, valid_rmsle: 0.5383\n"
          ]
        },
        {
          "output_type": "stream",
          "name": "stderr",
          "text": [
            "100%|██████████| 125/125 [00:01<00:00, 94.71it/s] \n",
            "100%|██████████| 32/32 [00:00<00:00, 80.78it/s]\n"
          ]
        },
        {
          "output_type": "stream",
          "name": "stdout",
          "text": [
            "train_loss: 0.4723, train_rmsle: 0.4723\n",
            "valid_loss: 0.5225, valid_rmsle: 0.5225\n"
          ]
        },
        {
          "output_type": "stream",
          "name": "stderr",
          "text": [
            "100%|██████████| 125/125 [00:01<00:00, 94.10it/s] \n",
            "100%|██████████| 32/32 [00:00<00:00, 81.59it/s]\n"
          ]
        },
        {
          "output_type": "stream",
          "name": "stdout",
          "text": [
            "train_loss: 0.4668, train_rmsle: 0.4668\n",
            "valid_loss: 0.5220, valid_rmsle: 0.5220\n"
          ]
        },
        {
          "output_type": "stream",
          "name": "stderr",
          "text": [
            "100%|██████████| 125/125 [00:01<00:00, 95.91it/s] \n",
            "100%|██████████| 32/32 [00:00<00:00, 81.85it/s]\n"
          ]
        },
        {
          "output_type": "stream",
          "name": "stdout",
          "text": [
            "train_loss: 0.4697, train_rmsle: 0.4697\n",
            "valid_loss: 0.5262, valid_rmsle: 0.5262\n"
          ]
        },
        {
          "output_type": "stream",
          "name": "stderr",
          "text": [
            "100%|██████████| 125/125 [00:01<00:00, 93.68it/s] \n",
            "100%|██████████| 32/32 [00:00<00:00, 79.85it/s]\n"
          ]
        },
        {
          "output_type": "stream",
          "name": "stdout",
          "text": [
            "train_loss: 0.4643, train_rmsle: 0.4643\n",
            "valid_loss: 0.5352, valid_rmsle: 0.5352\n"
          ]
        },
        {
          "output_type": "stream",
          "name": "stderr",
          "text": [
            "100%|██████████| 125/125 [00:01<00:00, 94.86it/s] \n",
            "100%|██████████| 32/32 [00:00<00:00, 84.11it/s]\n"
          ]
        },
        {
          "output_type": "stream",
          "name": "stdout",
          "text": [
            "train_loss: 0.4625, train_rmsle: 0.4625\n",
            "valid_loss: 0.5295, valid_rmsle: 0.5295\n"
          ]
        },
        {
          "output_type": "stream",
          "name": "stderr",
          "text": [
            "100%|██████████| 125/125 [00:01<00:00, 97.10it/s] \n",
            "100%|██████████| 32/32 [00:00<00:00, 77.83it/s]\n"
          ]
        },
        {
          "output_type": "stream",
          "name": "stdout",
          "text": [
            "train_loss: 0.4627, train_rmsle: 0.4627\n",
            "valid_loss: 0.5196, valid_rmsle: 0.5196\n"
          ]
        },
        {
          "output_type": "stream",
          "name": "stderr",
          "text": [
            "100%|██████████| 125/125 [00:01<00:00, 95.88it/s] \n",
            "100%|██████████| 32/32 [00:00<00:00, 82.68it/s]\n"
          ]
        },
        {
          "output_type": "stream",
          "name": "stdout",
          "text": [
            "train_loss: 0.4587, train_rmsle: 0.4587\n",
            "valid_loss: 0.5235, valid_rmsle: 0.5235\n"
          ]
        },
        {
          "output_type": "stream",
          "name": "stderr",
          "text": [
            "100%|██████████| 125/125 [00:01<00:00, 84.95it/s] \n",
            "100%|██████████| 32/32 [00:00<00:00, 71.40it/s]\n"
          ]
        },
        {
          "output_type": "stream",
          "name": "stdout",
          "text": [
            "train_loss: 0.4567, train_rmsle: 0.4567\n",
            "valid_loss: 0.5290, valid_rmsle: 0.5290\n"
          ]
        },
        {
          "output_type": "stream",
          "name": "stderr",
          "text": [
            "100%|██████████| 125/125 [00:01<00:00, 94.65it/s] \n",
            "100%|██████████| 32/32 [00:00<00:00, 81.00it/s]\n"
          ]
        },
        {
          "output_type": "stream",
          "name": "stdout",
          "text": [
            "train_loss: 0.4548, train_rmsle: 0.4548\n",
            "valid_loss: 0.5230, valid_rmsle: 0.5230\n"
          ]
        },
        {
          "output_type": "stream",
          "name": "stderr",
          "text": [
            "100%|██████████| 125/125 [00:01<00:00, 94.20it/s] \n",
            "100%|██████████| 32/32 [00:00<00:00, 78.64it/s]\n"
          ]
        },
        {
          "output_type": "stream",
          "name": "stdout",
          "text": [
            "train_loss: 0.4509, train_rmsle: 0.4509\n",
            "valid_loss: 0.5305, valid_rmsle: 0.5305\n"
          ]
        },
        {
          "output_type": "stream",
          "name": "stderr",
          "text": [
            "100%|██████████| 125/125 [00:01<00:00, 96.80it/s] \n",
            "100%|██████████| 32/32 [00:00<00:00, 79.80it/s]\n"
          ]
        },
        {
          "output_type": "stream",
          "name": "stdout",
          "text": [
            "train_loss: 0.4625, train_rmsle: 0.4625\n",
            "valid_loss: 0.5402, valid_rmsle: 0.5402\n",
            "==================================================\n",
            "save model: models/nn_fold2_.pth\n",
            "==================================================\n",
            "fold: 2\n",
            "==================================================\n"
          ]
        },
        {
          "output_type": "stream",
          "name": "stderr",
          "text": [
            "100%|██████████| 125/125 [00:01<00:00, 96.61it/s] \n",
            "100%|██████████| 32/32 [00:00<00:00, 77.53it/s]\n"
          ]
        },
        {
          "output_type": "stream",
          "name": "stdout",
          "text": [
            "train_loss: 8.7432, train_rmsle: 8.7432\n",
            "valid_loss: 7.7441, valid_rmsle: 7.7441\n"
          ]
        },
        {
          "output_type": "stream",
          "name": "stderr",
          "text": [
            "100%|██████████| 125/125 [00:01<00:00, 93.69it/s] \n",
            "100%|██████████| 32/32 [00:00<00:00, 80.86it/s]\n"
          ]
        },
        {
          "output_type": "stream",
          "name": "stdout",
          "text": [
            "train_loss: 6.4206, train_rmsle: 6.4206\n",
            "valid_loss: 4.9164, valid_rmsle: 4.9164\n"
          ]
        },
        {
          "output_type": "stream",
          "name": "stderr",
          "text": [
            "100%|██████████| 125/125 [00:01<00:00, 92.76it/s] \n",
            "100%|██████████| 32/32 [00:00<00:00, 76.63it/s]\n"
          ]
        },
        {
          "output_type": "stream",
          "name": "stdout",
          "text": [
            "train_loss: 3.2559, train_rmsle: 3.2559\n",
            "valid_loss: 1.4462, valid_rmsle: 1.4462\n"
          ]
        },
        {
          "output_type": "stream",
          "name": "stderr",
          "text": [
            "100%|██████████| 125/125 [00:01<00:00, 89.62it/s] \n",
            "100%|██████████| 32/32 [00:00<00:00, 78.40it/s]\n"
          ]
        },
        {
          "output_type": "stream",
          "name": "stdout",
          "text": [
            "train_loss: 1.1971, train_rmsle: 1.1971\n",
            "valid_loss: 0.8003, valid_rmsle: 0.8003\n"
          ]
        },
        {
          "output_type": "stream",
          "name": "stderr",
          "text": [
            "100%|██████████| 125/125 [00:01<00:00, 93.73it/s] \n",
            "100%|██████████| 32/32 [00:00<00:00, 74.26it/s]\n"
          ]
        },
        {
          "output_type": "stream",
          "name": "stdout",
          "text": [
            "train_loss: 1.0569, train_rmsle: 1.0569\n",
            "valid_loss: 0.7236, valid_rmsle: 0.7236\n"
          ]
        },
        {
          "output_type": "stream",
          "name": "stderr",
          "text": [
            "100%|██████████| 125/125 [00:01<00:00, 92.78it/s] \n",
            "100%|██████████| 32/32 [00:00<00:00, 79.52it/s]\n"
          ]
        },
        {
          "output_type": "stream",
          "name": "stdout",
          "text": [
            "train_loss: 1.0020, train_rmsle: 1.0020\n",
            "valid_loss: 0.6788, valid_rmsle: 0.6788\n"
          ]
        },
        {
          "output_type": "stream",
          "name": "stderr",
          "text": [
            "100%|██████████| 125/125 [00:01<00:00, 92.46it/s] \n",
            "100%|██████████| 32/32 [00:00<00:00, 80.25it/s]\n"
          ]
        },
        {
          "output_type": "stream",
          "name": "stdout",
          "text": [
            "train_loss: 0.9451, train_rmsle: 0.9451\n",
            "valid_loss: 0.6798, valid_rmsle: 0.6798\n"
          ]
        },
        {
          "output_type": "stream",
          "name": "stderr",
          "text": [
            "100%|██████████| 125/125 [00:01<00:00, 94.32it/s] \n",
            "100%|██████████| 32/32 [00:00<00:00, 74.57it/s]\n"
          ]
        },
        {
          "output_type": "stream",
          "name": "stdout",
          "text": [
            "train_loss: 0.9264, train_rmsle: 0.9264\n",
            "valid_loss: 0.6784, valid_rmsle: 0.6784\n"
          ]
        },
        {
          "output_type": "stream",
          "name": "stderr",
          "text": [
            "100%|██████████| 125/125 [00:01<00:00, 93.80it/s] \n",
            "100%|██████████| 32/32 [00:00<00:00, 75.45it/s]\n"
          ]
        },
        {
          "output_type": "stream",
          "name": "stdout",
          "text": [
            "train_loss: 0.8971, train_rmsle: 0.8971\n",
            "valid_loss: 0.6775, valid_rmsle: 0.6775\n"
          ]
        },
        {
          "output_type": "stream",
          "name": "stderr",
          "text": [
            "100%|██████████| 125/125 [00:01<00:00, 92.99it/s] \n",
            "100%|██████████| 32/32 [00:00<00:00, 78.71it/s]\n"
          ]
        },
        {
          "output_type": "stream",
          "name": "stdout",
          "text": [
            "train_loss: 0.8671, train_rmsle: 0.8671\n",
            "valid_loss: 0.6292, valid_rmsle: 0.6292\n"
          ]
        },
        {
          "output_type": "stream",
          "name": "stderr",
          "text": [
            "100%|██████████| 125/125 [00:01<00:00, 94.29it/s] \n",
            "100%|██████████| 32/32 [00:00<00:00, 80.04it/s]\n"
          ]
        },
        {
          "output_type": "stream",
          "name": "stdout",
          "text": [
            "train_loss: 0.8495, train_rmsle: 0.8495\n",
            "valid_loss: 0.6534, valid_rmsle: 0.6534\n"
          ]
        },
        {
          "output_type": "stream",
          "name": "stderr",
          "text": [
            "100%|██████████| 125/125 [00:01<00:00, 94.48it/s] \n",
            "100%|██████████| 32/32 [00:00<00:00, 77.91it/s]\n"
          ]
        },
        {
          "output_type": "stream",
          "name": "stdout",
          "text": [
            "train_loss: 0.8163, train_rmsle: 0.8163\n",
            "valid_loss: 0.6103, valid_rmsle: 0.6103\n"
          ]
        },
        {
          "output_type": "stream",
          "name": "stderr",
          "text": [
            "100%|██████████| 125/125 [00:01<00:00, 92.55it/s] \n",
            "100%|██████████| 32/32 [00:00<00:00, 80.56it/s]\n"
          ]
        },
        {
          "output_type": "stream",
          "name": "stdout",
          "text": [
            "train_loss: 0.8038, train_rmsle: 0.8038\n",
            "valid_loss: 0.6147, valid_rmsle: 0.6147\n"
          ]
        },
        {
          "output_type": "stream",
          "name": "stderr",
          "text": [
            "100%|██████████| 125/125 [00:01<00:00, 94.27it/s] \n",
            "100%|██████████| 32/32 [00:00<00:00, 76.66it/s]\n"
          ]
        },
        {
          "output_type": "stream",
          "name": "stdout",
          "text": [
            "train_loss: 0.7863, train_rmsle: 0.7863\n",
            "valid_loss: 0.6242, valid_rmsle: 0.6242\n"
          ]
        },
        {
          "output_type": "stream",
          "name": "stderr",
          "text": [
            "100%|██████████| 125/125 [00:01<00:00, 96.23it/s] \n",
            "100%|██████████| 32/32 [00:00<00:00, 80.19it/s]\n"
          ]
        },
        {
          "output_type": "stream",
          "name": "stdout",
          "text": [
            "train_loss: 0.7775, train_rmsle: 0.7775\n",
            "valid_loss: 0.6083, valid_rmsle: 0.6083\n"
          ]
        },
        {
          "output_type": "stream",
          "name": "stderr",
          "text": [
            "100%|██████████| 125/125 [00:01<00:00, 93.49it/s] \n",
            "100%|██████████| 32/32 [00:00<00:00, 78.35it/s]\n"
          ]
        },
        {
          "output_type": "stream",
          "name": "stdout",
          "text": [
            "train_loss: 0.7489, train_rmsle: 0.7489\n",
            "valid_loss: 0.6307, valid_rmsle: 0.6307\n"
          ]
        },
        {
          "output_type": "stream",
          "name": "stderr",
          "text": [
            "100%|██████████| 125/125 [00:01<00:00, 96.06it/s] \n",
            "100%|██████████| 32/32 [00:00<00:00, 78.59it/s]\n"
          ]
        },
        {
          "output_type": "stream",
          "name": "stdout",
          "text": [
            "train_loss: 0.7444, train_rmsle: 0.7444\n",
            "valid_loss: 0.6196, valid_rmsle: 0.6196\n"
          ]
        },
        {
          "output_type": "stream",
          "name": "stderr",
          "text": [
            "100%|██████████| 125/125 [00:01<00:00, 94.88it/s] \n",
            "100%|██████████| 32/32 [00:00<00:00, 79.86it/s]\n"
          ]
        },
        {
          "output_type": "stream",
          "name": "stdout",
          "text": [
            "train_loss: 0.7350, train_rmsle: 0.7350\n",
            "valid_loss: 0.6051, valid_rmsle: 0.6051\n"
          ]
        },
        {
          "output_type": "stream",
          "name": "stderr",
          "text": [
            "100%|██████████| 125/125 [00:01<00:00, 93.65it/s] \n",
            "100%|██████████| 32/32 [00:00<00:00, 77.70it/s]\n"
          ]
        },
        {
          "output_type": "stream",
          "name": "stdout",
          "text": [
            "train_loss: 0.7179, train_rmsle: 0.7179\n",
            "valid_loss: 0.6031, valid_rmsle: 0.6031\n"
          ]
        },
        {
          "output_type": "stream",
          "name": "stderr",
          "text": [
            "100%|██████████| 125/125 [00:01<00:00, 96.05it/s] \n",
            "100%|██████████| 32/32 [00:00<00:00, 80.36it/s]\n"
          ]
        },
        {
          "output_type": "stream",
          "name": "stdout",
          "text": [
            "train_loss: 0.7057, train_rmsle: 0.7057\n",
            "valid_loss: 0.5885, valid_rmsle: 0.5885\n"
          ]
        },
        {
          "output_type": "stream",
          "name": "stderr",
          "text": [
            "100%|██████████| 125/125 [00:01<00:00, 94.82it/s] \n",
            "100%|██████████| 32/32 [00:00<00:00, 78.37it/s]\n"
          ]
        },
        {
          "output_type": "stream",
          "name": "stdout",
          "text": [
            "train_loss: 0.6857, train_rmsle: 0.6857\n",
            "valid_loss: 0.5687, valid_rmsle: 0.5687\n"
          ]
        },
        {
          "output_type": "stream",
          "name": "stderr",
          "text": [
            "100%|██████████| 125/125 [00:01<00:00, 92.85it/s] \n",
            "100%|██████████| 32/32 [00:00<00:00, 77.49it/s]\n"
          ]
        },
        {
          "output_type": "stream",
          "name": "stdout",
          "text": [
            "train_loss: 0.6854, train_rmsle: 0.6854\n",
            "valid_loss: 0.5980, valid_rmsle: 0.5980\n"
          ]
        },
        {
          "output_type": "stream",
          "name": "stderr",
          "text": [
            "100%|██████████| 125/125 [00:01<00:00, 93.83it/s] \n",
            "100%|██████████| 32/32 [00:00<00:00, 76.78it/s]\n"
          ]
        },
        {
          "output_type": "stream",
          "name": "stdout",
          "text": [
            "train_loss: 0.6690, train_rmsle: 0.6690\n",
            "valid_loss: 0.6081, valid_rmsle: 0.6081\n"
          ]
        },
        {
          "output_type": "stream",
          "name": "stderr",
          "text": [
            "100%|██████████| 125/125 [00:01<00:00, 95.23it/s] \n",
            "100%|██████████| 32/32 [00:00<00:00, 78.92it/s]\n"
          ]
        },
        {
          "output_type": "stream",
          "name": "stdout",
          "text": [
            "train_loss: 0.6586, train_rmsle: 0.6586\n",
            "valid_loss: 0.5839, valid_rmsle: 0.5839\n"
          ]
        },
        {
          "output_type": "stream",
          "name": "stderr",
          "text": [
            "100%|██████████| 125/125 [00:01<00:00, 92.58it/s] \n",
            "100%|██████████| 32/32 [00:00<00:00, 80.61it/s]\n"
          ]
        },
        {
          "output_type": "stream",
          "name": "stdout",
          "text": [
            "train_loss: 0.6467, train_rmsle: 0.6467\n",
            "valid_loss: 0.5971, valid_rmsle: 0.5971\n"
          ]
        },
        {
          "output_type": "stream",
          "name": "stderr",
          "text": [
            "100%|██████████| 125/125 [00:01<00:00, 95.99it/s] \n",
            "100%|██████████| 32/32 [00:00<00:00, 71.79it/s]\n"
          ]
        },
        {
          "output_type": "stream",
          "name": "stdout",
          "text": [
            "train_loss: 0.6292, train_rmsle: 0.6292\n",
            "valid_loss: 0.5824, valid_rmsle: 0.5824\n"
          ]
        },
        {
          "output_type": "stream",
          "name": "stderr",
          "text": [
            "100%|██████████| 125/125 [00:01<00:00, 92.47it/s] \n",
            "100%|██████████| 32/32 [00:00<00:00, 75.78it/s]\n"
          ]
        },
        {
          "output_type": "stream",
          "name": "stdout",
          "text": [
            "train_loss: 0.6245, train_rmsle: 0.6245\n",
            "valid_loss: 0.5856, valid_rmsle: 0.5856\n"
          ]
        },
        {
          "output_type": "stream",
          "name": "stderr",
          "text": [
            "100%|██████████| 125/125 [00:01<00:00, 94.04it/s] \n",
            "100%|██████████| 32/32 [00:00<00:00, 81.83it/s]\n"
          ]
        },
        {
          "output_type": "stream",
          "name": "stdout",
          "text": [
            "train_loss: 0.6132, train_rmsle: 0.6132\n",
            "valid_loss: 0.5680, valid_rmsle: 0.5680\n"
          ]
        },
        {
          "output_type": "stream",
          "name": "stderr",
          "text": [
            "100%|██████████| 125/125 [00:01<00:00, 92.49it/s] \n",
            "100%|██████████| 32/32 [00:00<00:00, 81.28it/s]\n"
          ]
        },
        {
          "output_type": "stream",
          "name": "stdout",
          "text": [
            "train_loss: 0.6061, train_rmsle: 0.6061\n",
            "valid_loss: 0.5621, valid_rmsle: 0.5621\n"
          ]
        },
        {
          "output_type": "stream",
          "name": "stderr",
          "text": [
            "100%|██████████| 125/125 [00:01<00:00, 93.32it/s] \n",
            "100%|██████████| 32/32 [00:00<00:00, 78.51it/s]\n"
          ]
        },
        {
          "output_type": "stream",
          "name": "stdout",
          "text": [
            "train_loss: 0.6006, train_rmsle: 0.6006\n",
            "valid_loss: 0.5762, valid_rmsle: 0.5762\n"
          ]
        },
        {
          "output_type": "stream",
          "name": "stderr",
          "text": [
            "100%|██████████| 125/125 [00:01<00:00, 94.20it/s] \n",
            "100%|██████████| 32/32 [00:00<00:00, 81.09it/s]\n"
          ]
        },
        {
          "output_type": "stream",
          "name": "stdout",
          "text": [
            "train_loss: 0.5948, train_rmsle: 0.5948\n",
            "valid_loss: 0.5726, valid_rmsle: 0.5726\n"
          ]
        },
        {
          "output_type": "stream",
          "name": "stderr",
          "text": [
            "100%|██████████| 125/125 [00:01<00:00, 96.06it/s] \n",
            "100%|██████████| 32/32 [00:00<00:00, 77.73it/s]\n"
          ]
        },
        {
          "output_type": "stream",
          "name": "stdout",
          "text": [
            "train_loss: 0.5837, train_rmsle: 0.5837\n",
            "valid_loss: 0.5661, valid_rmsle: 0.5661\n"
          ]
        },
        {
          "output_type": "stream",
          "name": "stderr",
          "text": [
            "100%|██████████| 125/125 [00:01<00:00, 95.17it/s] \n",
            "100%|██████████| 32/32 [00:00<00:00, 78.12it/s]\n"
          ]
        },
        {
          "output_type": "stream",
          "name": "stdout",
          "text": [
            "train_loss: 0.5842, train_rmsle: 0.5842\n",
            "valid_loss: 0.5679, valid_rmsle: 0.5679\n"
          ]
        },
        {
          "output_type": "stream",
          "name": "stderr",
          "text": [
            "100%|██████████| 125/125 [00:01<00:00, 93.67it/s] \n",
            "100%|██████████| 32/32 [00:00<00:00, 78.78it/s]\n"
          ]
        },
        {
          "output_type": "stream",
          "name": "stdout",
          "text": [
            "train_loss: 0.5847, train_rmsle: 0.5847\n",
            "valid_loss: 0.5547, valid_rmsle: 0.5547\n"
          ]
        },
        {
          "output_type": "stream",
          "name": "stderr",
          "text": [
            "100%|██████████| 125/125 [00:01<00:00, 95.49it/s] \n",
            "100%|██████████| 32/32 [00:00<00:00, 76.86it/s]\n"
          ]
        },
        {
          "output_type": "stream",
          "name": "stdout",
          "text": [
            "train_loss: 0.5670, train_rmsle: 0.5670\n",
            "valid_loss: 0.5574, valid_rmsle: 0.5574\n"
          ]
        },
        {
          "output_type": "stream",
          "name": "stderr",
          "text": [
            "100%|██████████| 125/125 [00:01<00:00, 94.45it/s] \n",
            "100%|██████████| 32/32 [00:00<00:00, 78.24it/s]\n"
          ]
        },
        {
          "output_type": "stream",
          "name": "stdout",
          "text": [
            "train_loss: 0.5583, train_rmsle: 0.5583\n",
            "valid_loss: 0.5502, valid_rmsle: 0.5502\n"
          ]
        },
        {
          "output_type": "stream",
          "name": "stderr",
          "text": [
            "100%|██████████| 125/125 [00:01<00:00, 94.66it/s] \n",
            "100%|██████████| 32/32 [00:00<00:00, 78.40it/s]\n"
          ]
        },
        {
          "output_type": "stream",
          "name": "stdout",
          "text": [
            "train_loss: 0.5538, train_rmsle: 0.5538\n",
            "valid_loss: 0.5874, valid_rmsle: 0.5874\n"
          ]
        },
        {
          "output_type": "stream",
          "name": "stderr",
          "text": [
            "100%|██████████| 125/125 [00:01<00:00, 94.13it/s] \n",
            "100%|██████████| 32/32 [00:00<00:00, 77.50it/s]\n"
          ]
        },
        {
          "output_type": "stream",
          "name": "stdout",
          "text": [
            "train_loss: 0.5461, train_rmsle: 0.5461\n",
            "valid_loss: 0.5490, valid_rmsle: 0.5490\n"
          ]
        },
        {
          "output_type": "stream",
          "name": "stderr",
          "text": [
            "100%|██████████| 125/125 [00:01<00:00, 97.25it/s] \n",
            "100%|██████████| 32/32 [00:00<00:00, 78.00it/s]\n"
          ]
        },
        {
          "output_type": "stream",
          "name": "stdout",
          "text": [
            "train_loss: 0.5375, train_rmsle: 0.5375\n",
            "valid_loss: 0.5547, valid_rmsle: 0.5547\n"
          ]
        },
        {
          "output_type": "stream",
          "name": "stderr",
          "text": [
            "100%|██████████| 125/125 [00:01<00:00, 94.36it/s] \n",
            "100%|██████████| 32/32 [00:00<00:00, 79.78it/s]\n"
          ]
        },
        {
          "output_type": "stream",
          "name": "stdout",
          "text": [
            "train_loss: 0.5398, train_rmsle: 0.5398\n",
            "valid_loss: 0.5533, valid_rmsle: 0.5533\n"
          ]
        },
        {
          "output_type": "stream",
          "name": "stderr",
          "text": [
            "100%|██████████| 125/125 [00:01<00:00, 91.41it/s] \n",
            "100%|██████████| 32/32 [00:00<00:00, 73.53it/s]\n"
          ]
        },
        {
          "output_type": "stream",
          "name": "stdout",
          "text": [
            "train_loss: 0.5326, train_rmsle: 0.5326\n",
            "valid_loss: 0.5640, valid_rmsle: 0.5640\n"
          ]
        },
        {
          "output_type": "stream",
          "name": "stderr",
          "text": [
            "100%|██████████| 125/125 [00:01<00:00, 89.93it/s] \n",
            "100%|██████████| 32/32 [00:00<00:00, 76.36it/s]\n"
          ]
        },
        {
          "output_type": "stream",
          "name": "stdout",
          "text": [
            "train_loss: 0.5251, train_rmsle: 0.5251\n",
            "valid_loss: 0.5773, valid_rmsle: 0.5773\n"
          ]
        },
        {
          "output_type": "stream",
          "name": "stderr",
          "text": [
            "100%|██████████| 125/125 [00:01<00:00, 91.18it/s] \n",
            "100%|██████████| 32/32 [00:00<00:00, 77.37it/s]\n"
          ]
        },
        {
          "output_type": "stream",
          "name": "stdout",
          "text": [
            "train_loss: 0.5188, train_rmsle: 0.5188\n",
            "valid_loss: 0.5493, valid_rmsle: 0.5493\n"
          ]
        },
        {
          "output_type": "stream",
          "name": "stderr",
          "text": [
            "100%|██████████| 125/125 [00:01<00:00, 91.41it/s] \n",
            "100%|██████████| 32/32 [00:00<00:00, 76.38it/s]\n"
          ]
        },
        {
          "output_type": "stream",
          "name": "stdout",
          "text": [
            "train_loss: 0.5244, train_rmsle: 0.5244\n",
            "valid_loss: 0.5586, valid_rmsle: 0.5586\n"
          ]
        },
        {
          "output_type": "stream",
          "name": "stderr",
          "text": [
            "100%|██████████| 125/125 [00:01<00:00, 90.13it/s] \n",
            "100%|██████████| 32/32 [00:00<00:00, 73.66it/s]\n"
          ]
        },
        {
          "output_type": "stream",
          "name": "stdout",
          "text": [
            "train_loss: 0.5144, train_rmsle: 0.5144\n",
            "valid_loss: 0.5574, valid_rmsle: 0.5574\n"
          ]
        },
        {
          "output_type": "stream",
          "name": "stderr",
          "text": [
            "100%|██████████| 125/125 [00:01<00:00, 89.35it/s] \n",
            "100%|██████████| 32/32 [00:00<00:00, 77.65it/s]\n"
          ]
        },
        {
          "output_type": "stream",
          "name": "stdout",
          "text": [
            "train_loss: 0.5151, train_rmsle: 0.5151\n",
            "valid_loss: 0.5527, valid_rmsle: 0.5527\n"
          ]
        },
        {
          "output_type": "stream",
          "name": "stderr",
          "text": [
            "100%|██████████| 125/125 [00:01<00:00, 90.39it/s] \n",
            "100%|██████████| 32/32 [00:00<00:00, 75.45it/s]\n"
          ]
        },
        {
          "output_type": "stream",
          "name": "stdout",
          "text": [
            "train_loss: 0.5028, train_rmsle: 0.5028\n",
            "valid_loss: 0.5409, valid_rmsle: 0.5409\n"
          ]
        },
        {
          "output_type": "stream",
          "name": "stderr",
          "text": [
            "100%|██████████| 125/125 [00:01<00:00, 93.24it/s] \n",
            "100%|██████████| 32/32 [00:00<00:00, 76.39it/s]\n"
          ]
        },
        {
          "output_type": "stream",
          "name": "stdout",
          "text": [
            "train_loss: 0.5008, train_rmsle: 0.5008\n",
            "valid_loss: 0.5440, valid_rmsle: 0.5440\n"
          ]
        },
        {
          "output_type": "stream",
          "name": "stderr",
          "text": [
            "100%|██████████| 125/125 [00:01<00:00, 95.00it/s] \n",
            "100%|██████████| 32/32 [00:00<00:00, 79.21it/s]\n"
          ]
        },
        {
          "output_type": "stream",
          "name": "stdout",
          "text": [
            "train_loss: 0.5038, train_rmsle: 0.5038\n",
            "valid_loss: 0.5531, valid_rmsle: 0.5531\n"
          ]
        },
        {
          "output_type": "stream",
          "name": "stderr",
          "text": [
            "100%|██████████| 125/125 [00:01<00:00, 92.36it/s] \n",
            "100%|██████████| 32/32 [00:00<00:00, 79.24it/s]\n"
          ]
        },
        {
          "output_type": "stream",
          "name": "stdout",
          "text": [
            "train_loss: 0.5007, train_rmsle: 0.5007\n",
            "valid_loss: 0.5440, valid_rmsle: 0.5440\n"
          ]
        },
        {
          "output_type": "stream",
          "name": "stderr",
          "text": [
            "100%|██████████| 125/125 [00:01<00:00, 96.24it/s] \n",
            "100%|██████████| 32/32 [00:00<00:00, 78.04it/s]\n"
          ]
        },
        {
          "output_type": "stream",
          "name": "stdout",
          "text": [
            "train_loss: 0.4947, train_rmsle: 0.4947\n",
            "valid_loss: 0.5411, valid_rmsle: 0.5411\n"
          ]
        },
        {
          "output_type": "stream",
          "name": "stderr",
          "text": [
            "100%|██████████| 125/125 [00:01<00:00, 97.61it/s] \n",
            "100%|██████████| 32/32 [00:00<00:00, 81.00it/s]\n"
          ]
        },
        {
          "output_type": "stream",
          "name": "stdout",
          "text": [
            "train_loss: 0.4791, train_rmsle: 0.4791\n",
            "valid_loss: 0.5469, valid_rmsle: 0.5469\n"
          ]
        },
        {
          "output_type": "stream",
          "name": "stderr",
          "text": [
            "100%|██████████| 125/125 [00:01<00:00, 95.74it/s] \n",
            "100%|██████████| 32/32 [00:00<00:00, 81.81it/s]\n"
          ]
        },
        {
          "output_type": "stream",
          "name": "stdout",
          "text": [
            "train_loss: 0.4908, train_rmsle: 0.4908\n",
            "valid_loss: 0.5502, valid_rmsle: 0.5502\n"
          ]
        },
        {
          "output_type": "stream",
          "name": "stderr",
          "text": [
            "100%|██████████| 125/125 [00:01<00:00, 95.73it/s] \n",
            "100%|██████████| 32/32 [00:00<00:00, 81.38it/s]\n"
          ]
        },
        {
          "output_type": "stream",
          "name": "stdout",
          "text": [
            "train_loss: 0.4848, train_rmsle: 0.4848\n",
            "valid_loss: 0.5654, valid_rmsle: 0.5654\n"
          ]
        },
        {
          "output_type": "stream",
          "name": "stderr",
          "text": [
            "100%|██████████| 125/125 [00:01<00:00, 94.16it/s] \n",
            "100%|██████████| 32/32 [00:00<00:00, 81.26it/s]\n"
          ]
        },
        {
          "output_type": "stream",
          "name": "stdout",
          "text": [
            "train_loss: 0.4824, train_rmsle: 0.4824\n",
            "valid_loss: 0.5540, valid_rmsle: 0.5540\n"
          ]
        },
        {
          "output_type": "stream",
          "name": "stderr",
          "text": [
            "100%|██████████| 125/125 [00:01<00:00, 93.91it/s] \n",
            "100%|██████████| 32/32 [00:00<00:00, 81.32it/s]\n"
          ]
        },
        {
          "output_type": "stream",
          "name": "stdout",
          "text": [
            "train_loss: 0.4822, train_rmsle: 0.4822\n",
            "valid_loss: 0.5399, valid_rmsle: 0.5399\n"
          ]
        },
        {
          "output_type": "stream",
          "name": "stderr",
          "text": [
            "100%|██████████| 125/125 [00:01<00:00, 95.78it/s] \n",
            "100%|██████████| 32/32 [00:00<00:00, 77.26it/s]\n"
          ]
        },
        {
          "output_type": "stream",
          "name": "stdout",
          "text": [
            "train_loss: 0.4793, train_rmsle: 0.4793\n",
            "valid_loss: 0.5388, valid_rmsle: 0.5388\n"
          ]
        },
        {
          "output_type": "stream",
          "name": "stderr",
          "text": [
            "100%|██████████| 125/125 [00:01<00:00, 95.41it/s] \n",
            "100%|██████████| 32/32 [00:00<00:00, 80.83it/s]\n"
          ]
        },
        {
          "output_type": "stream",
          "name": "stdout",
          "text": [
            "train_loss: 0.4626, train_rmsle: 0.4626\n",
            "valid_loss: 0.5367, valid_rmsle: 0.5367\n"
          ]
        },
        {
          "output_type": "stream",
          "name": "stderr",
          "text": [
            "100%|██████████| 125/125 [00:01<00:00, 93.47it/s] \n",
            "100%|██████████| 32/32 [00:00<00:00, 80.81it/s]\n"
          ]
        },
        {
          "output_type": "stream",
          "name": "stdout",
          "text": [
            "train_loss: 0.4744, train_rmsle: 0.4744\n",
            "valid_loss: 0.5459, valid_rmsle: 0.5459\n"
          ]
        },
        {
          "output_type": "stream",
          "name": "stderr",
          "text": [
            "100%|██████████| 125/125 [00:01<00:00, 96.72it/s] \n",
            "100%|██████████| 32/32 [00:00<00:00, 79.53it/s]\n"
          ]
        },
        {
          "output_type": "stream",
          "name": "stdout",
          "text": [
            "train_loss: 0.4633, train_rmsle: 0.4633\n",
            "valid_loss: 0.5365, valid_rmsle: 0.5365\n"
          ]
        },
        {
          "output_type": "stream",
          "name": "stderr",
          "text": [
            "100%|██████████| 125/125 [00:01<00:00, 93.14it/s] \n",
            "100%|██████████| 32/32 [00:00<00:00, 78.81it/s]\n"
          ]
        },
        {
          "output_type": "stream",
          "name": "stdout",
          "text": [
            "train_loss: 0.4628, train_rmsle: 0.4628\n",
            "valid_loss: 0.5418, valid_rmsle: 0.5418\n"
          ]
        },
        {
          "output_type": "stream",
          "name": "stderr",
          "text": [
            "100%|██████████| 125/125 [00:01<00:00, 96.12it/s] \n",
            "100%|██████████| 32/32 [00:00<00:00, 78.43it/s]\n"
          ]
        },
        {
          "output_type": "stream",
          "name": "stdout",
          "text": [
            "train_loss: 0.4666, train_rmsle: 0.4666\n",
            "valid_loss: 0.5427, valid_rmsle: 0.5427\n"
          ]
        },
        {
          "output_type": "stream",
          "name": "stderr",
          "text": [
            "100%|██████████| 125/125 [00:01<00:00, 94.51it/s] \n",
            "100%|██████████| 32/32 [00:00<00:00, 78.60it/s]\n"
          ]
        },
        {
          "output_type": "stream",
          "name": "stdout",
          "text": [
            "train_loss: 0.4590, train_rmsle: 0.4590\n",
            "valid_loss: 0.5347, valid_rmsle: 0.5347\n"
          ]
        },
        {
          "output_type": "stream",
          "name": "stderr",
          "text": [
            "100%|██████████| 125/125 [00:01<00:00, 92.68it/s] \n",
            "100%|██████████| 32/32 [00:00<00:00, 80.54it/s]\n"
          ]
        },
        {
          "output_type": "stream",
          "name": "stdout",
          "text": [
            "train_loss: 0.4621, train_rmsle: 0.4621\n",
            "valid_loss: 0.5346, valid_rmsle: 0.5346\n"
          ]
        },
        {
          "output_type": "stream",
          "name": "stderr",
          "text": [
            "100%|██████████| 125/125 [00:01<00:00, 91.40it/s] \n",
            "100%|██████████| 32/32 [00:00<00:00, 77.20it/s]\n"
          ]
        },
        {
          "output_type": "stream",
          "name": "stdout",
          "text": [
            "train_loss: 0.4568, train_rmsle: 0.4568\n",
            "valid_loss: 0.5453, valid_rmsle: 0.5453\n"
          ]
        },
        {
          "output_type": "stream",
          "name": "stderr",
          "text": [
            "100%|██████████| 125/125 [00:01<00:00, 97.36it/s] \n",
            "100%|██████████| 32/32 [00:00<00:00, 79.62it/s]\n"
          ]
        },
        {
          "output_type": "stream",
          "name": "stdout",
          "text": [
            "train_loss: 0.4550, train_rmsle: 0.4550\n",
            "valid_loss: 0.5316, valid_rmsle: 0.5316\n"
          ]
        },
        {
          "output_type": "stream",
          "name": "stderr",
          "text": [
            "100%|██████████| 125/125 [00:01<00:00, 94.81it/s] \n",
            "100%|██████████| 32/32 [00:00<00:00, 78.63it/s]\n"
          ]
        },
        {
          "output_type": "stream",
          "name": "stdout",
          "text": [
            "train_loss: 0.4596, train_rmsle: 0.4596\n",
            "valid_loss: 0.5429, valid_rmsle: 0.5429\n"
          ]
        },
        {
          "output_type": "stream",
          "name": "stderr",
          "text": [
            "100%|██████████| 125/125 [00:01<00:00, 94.87it/s] \n",
            "100%|██████████| 32/32 [00:00<00:00, 79.16it/s]\n"
          ]
        },
        {
          "output_type": "stream",
          "name": "stdout",
          "text": [
            "train_loss: 0.4488, train_rmsle: 0.4488\n",
            "valid_loss: 0.5360, valid_rmsle: 0.5360\n"
          ]
        },
        {
          "output_type": "stream",
          "name": "stderr",
          "text": [
            "100%|██████████| 125/125 [00:01<00:00, 92.97it/s] \n",
            "100%|██████████| 32/32 [00:00<00:00, 76.12it/s]\n"
          ]
        },
        {
          "output_type": "stream",
          "name": "stdout",
          "text": [
            "train_loss: 0.4382, train_rmsle: 0.4382\n",
            "valid_loss: 0.5323, valid_rmsle: 0.5323\n"
          ]
        },
        {
          "output_type": "stream",
          "name": "stderr",
          "text": [
            "100%|██████████| 125/125 [00:01<00:00, 95.80it/s] \n",
            "100%|██████████| 32/32 [00:00<00:00, 79.22it/s]\n"
          ]
        },
        {
          "output_type": "stream",
          "name": "stdout",
          "text": [
            "train_loss: 0.4511, train_rmsle: 0.4511\n",
            "valid_loss: 0.5415, valid_rmsle: 0.5415\n",
            "==================================================\n",
            "save model: models/nn_fold3_.pth\n",
            "==================================================\n",
            "fold: 3\n",
            "==================================================\n"
          ]
        },
        {
          "output_type": "stream",
          "name": "stderr",
          "text": [
            "100%|██████████| 125/125 [00:01<00:00, 93.13it/s] \n",
            "100%|██████████| 32/32 [00:00<00:00, 79.89it/s]\n"
          ]
        },
        {
          "output_type": "stream",
          "name": "stdout",
          "text": [
            "train_loss: 8.7801, train_rmsle: 8.7801\n",
            "valid_loss: 7.6791, valid_rmsle: 7.6791\n"
          ]
        },
        {
          "output_type": "stream",
          "name": "stderr",
          "text": [
            "100%|██████████| 125/125 [00:01<00:00, 95.82it/s] \n",
            "100%|██████████| 32/32 [00:00<00:00, 76.21it/s]\n"
          ]
        },
        {
          "output_type": "stream",
          "name": "stdout",
          "text": [
            "train_loss: 6.4005, train_rmsle: 6.4005\n",
            "valid_loss: 4.8365, valid_rmsle: 4.8365\n"
          ]
        },
        {
          "output_type": "stream",
          "name": "stderr",
          "text": [
            "100%|██████████| 125/125 [00:01<00:00, 92.39it/s] \n",
            "100%|██████████| 32/32 [00:00<00:00, 75.59it/s]\n"
          ]
        },
        {
          "output_type": "stream",
          "name": "stdout",
          "text": [
            "train_loss: 3.1963, train_rmsle: 3.1963\n",
            "valid_loss: 1.3741, valid_rmsle: 1.3741\n"
          ]
        },
        {
          "output_type": "stream",
          "name": "stderr",
          "text": [
            "100%|██████████| 125/125 [00:01<00:00, 93.68it/s] \n",
            "100%|██████████| 32/32 [00:00<00:00, 75.78it/s]\n"
          ]
        },
        {
          "output_type": "stream",
          "name": "stdout",
          "text": [
            "train_loss: 1.2038, train_rmsle: 1.2038\n",
            "valid_loss: 0.8630, valid_rmsle: 0.8630\n"
          ]
        },
        {
          "output_type": "stream",
          "name": "stderr",
          "text": [
            "100%|██████████| 125/125 [00:01<00:00, 92.40it/s] \n",
            "100%|██████████| 32/32 [00:00<00:00, 75.49it/s]\n"
          ]
        },
        {
          "output_type": "stream",
          "name": "stdout",
          "text": [
            "train_loss: 1.0410, train_rmsle: 1.0410\n",
            "valid_loss: 0.7220, valid_rmsle: 0.7220\n"
          ]
        },
        {
          "output_type": "stream",
          "name": "stderr",
          "text": [
            "100%|██████████| 125/125 [00:01<00:00, 95.88it/s] \n",
            "100%|██████████| 32/32 [00:00<00:00, 75.30it/s]\n"
          ]
        },
        {
          "output_type": "stream",
          "name": "stdout",
          "text": [
            "train_loss: 1.0012, train_rmsle: 1.0012\n",
            "valid_loss: 0.6875, valid_rmsle: 0.6875\n"
          ]
        },
        {
          "output_type": "stream",
          "name": "stderr",
          "text": [
            "100%|██████████| 125/125 [00:01<00:00, 95.25it/s] \n",
            "100%|██████████| 32/32 [00:00<00:00, 78.92it/s]\n"
          ]
        },
        {
          "output_type": "stream",
          "name": "stdout",
          "text": [
            "train_loss: 0.9677, train_rmsle: 0.9677\n",
            "valid_loss: 0.6679, valid_rmsle: 0.6679\n"
          ]
        },
        {
          "output_type": "stream",
          "name": "stderr",
          "text": [
            "100%|██████████| 125/125 [00:01<00:00, 88.93it/s] \n",
            "100%|██████████| 32/32 [00:00<00:00, 77.11it/s]\n"
          ]
        },
        {
          "output_type": "stream",
          "name": "stdout",
          "text": [
            "train_loss: 0.9449, train_rmsle: 0.9449\n",
            "valid_loss: 0.6728, valid_rmsle: 0.6728\n"
          ]
        },
        {
          "output_type": "stream",
          "name": "stderr",
          "text": [
            "100%|██████████| 125/125 [00:01<00:00, 92.35it/s] \n",
            "100%|██████████| 32/32 [00:00<00:00, 78.66it/s]\n"
          ]
        },
        {
          "output_type": "stream",
          "name": "stdout",
          "text": [
            "train_loss: 0.9002, train_rmsle: 0.9002\n",
            "valid_loss: 0.6312, valid_rmsle: 0.6312\n"
          ]
        },
        {
          "output_type": "stream",
          "name": "stderr",
          "text": [
            "100%|██████████| 125/125 [00:01<00:00, 91.68it/s] \n",
            "100%|██████████| 32/32 [00:00<00:00, 81.76it/s]\n"
          ]
        },
        {
          "output_type": "stream",
          "name": "stdout",
          "text": [
            "train_loss: 0.8919, train_rmsle: 0.8919\n",
            "valid_loss: 0.6570, valid_rmsle: 0.6570\n"
          ]
        },
        {
          "output_type": "stream",
          "name": "stderr",
          "text": [
            "100%|██████████| 125/125 [00:01<00:00, 90.98it/s] \n",
            "100%|██████████| 32/32 [00:00<00:00, 76.43it/s]\n"
          ]
        },
        {
          "output_type": "stream",
          "name": "stdout",
          "text": [
            "train_loss: 0.8520, train_rmsle: 0.8520\n",
            "valid_loss: 0.6192, valid_rmsle: 0.6192\n"
          ]
        },
        {
          "output_type": "stream",
          "name": "stderr",
          "text": [
            "100%|██████████| 125/125 [00:01<00:00, 94.09it/s] \n",
            "100%|██████████| 32/32 [00:00<00:00, 73.13it/s]\n"
          ]
        },
        {
          "output_type": "stream",
          "name": "stdout",
          "text": [
            "train_loss: 0.8389, train_rmsle: 0.8389\n",
            "valid_loss: 0.6062, valid_rmsle: 0.6062\n"
          ]
        },
        {
          "output_type": "stream",
          "name": "stderr",
          "text": [
            "100%|██████████| 125/125 [00:01<00:00, 94.99it/s] \n",
            "100%|██████████| 32/32 [00:00<00:00, 75.31it/s]\n"
          ]
        },
        {
          "output_type": "stream",
          "name": "stdout",
          "text": [
            "train_loss: 0.8228, train_rmsle: 0.8228\n",
            "valid_loss: 0.6279, valid_rmsle: 0.6279\n"
          ]
        },
        {
          "output_type": "stream",
          "name": "stderr",
          "text": [
            "100%|██████████| 125/125 [00:01<00:00, 92.46it/s] \n",
            "100%|██████████| 32/32 [00:00<00:00, 75.30it/s]\n"
          ]
        },
        {
          "output_type": "stream",
          "name": "stdout",
          "text": [
            "train_loss: 0.7955, train_rmsle: 0.7955\n",
            "valid_loss: 0.6258, valid_rmsle: 0.6258\n"
          ]
        },
        {
          "output_type": "stream",
          "name": "stderr",
          "text": [
            "100%|██████████| 125/125 [00:01<00:00, 93.18it/s] \n",
            "100%|██████████| 32/32 [00:00<00:00, 79.70it/s]\n"
          ]
        },
        {
          "output_type": "stream",
          "name": "stdout",
          "text": [
            "train_loss: 0.7786, train_rmsle: 0.7786\n",
            "valid_loss: 0.5940, valid_rmsle: 0.5940\n"
          ]
        },
        {
          "output_type": "stream",
          "name": "stderr",
          "text": [
            "100%|██████████| 125/125 [00:01<00:00, 95.96it/s] \n",
            "100%|██████████| 32/32 [00:00<00:00, 76.55it/s]\n"
          ]
        },
        {
          "output_type": "stream",
          "name": "stdout",
          "text": [
            "train_loss: 0.7698, train_rmsle: 0.7698\n",
            "valid_loss: 0.5916, valid_rmsle: 0.5916\n"
          ]
        },
        {
          "output_type": "stream",
          "name": "stderr",
          "text": [
            "100%|██████████| 125/125 [00:01<00:00, 93.97it/s] \n",
            "100%|██████████| 32/32 [00:00<00:00, 80.85it/s]\n"
          ]
        },
        {
          "output_type": "stream",
          "name": "stdout",
          "text": [
            "train_loss: 0.7512, train_rmsle: 0.7512\n",
            "valid_loss: 0.5857, valid_rmsle: 0.5857\n"
          ]
        },
        {
          "output_type": "stream",
          "name": "stderr",
          "text": [
            "100%|██████████| 125/125 [00:01<00:00, 92.59it/s] \n",
            "100%|██████████| 32/32 [00:00<00:00, 78.99it/s]\n"
          ]
        },
        {
          "output_type": "stream",
          "name": "stdout",
          "text": [
            "train_loss: 0.7359, train_rmsle: 0.7359\n",
            "valid_loss: 0.5813, valid_rmsle: 0.5813\n"
          ]
        },
        {
          "output_type": "stream",
          "name": "stderr",
          "text": [
            "100%|██████████| 125/125 [00:01<00:00, 92.55it/s] \n",
            "100%|██████████| 32/32 [00:00<00:00, 80.36it/s]\n"
          ]
        },
        {
          "output_type": "stream",
          "name": "stdout",
          "text": [
            "train_loss: 0.7085, train_rmsle: 0.7085\n",
            "valid_loss: 0.6080, valid_rmsle: 0.6080\n"
          ]
        },
        {
          "output_type": "stream",
          "name": "stderr",
          "text": [
            "100%|██████████| 125/125 [00:01<00:00, 92.04it/s] \n",
            "100%|██████████| 32/32 [00:00<00:00, 78.69it/s]\n"
          ]
        },
        {
          "output_type": "stream",
          "name": "stdout",
          "text": [
            "train_loss: 0.7183, train_rmsle: 0.7183\n",
            "valid_loss: 0.5850, valid_rmsle: 0.5850\n"
          ]
        },
        {
          "output_type": "stream",
          "name": "stderr",
          "text": [
            "100%|██████████| 125/125 [00:01<00:00, 93.63it/s] \n",
            "100%|██████████| 32/32 [00:00<00:00, 74.88it/s]\n"
          ]
        },
        {
          "output_type": "stream",
          "name": "stdout",
          "text": [
            "train_loss: 0.6919, train_rmsle: 0.6919\n",
            "valid_loss: 0.5676, valid_rmsle: 0.5676\n"
          ]
        },
        {
          "output_type": "stream",
          "name": "stderr",
          "text": [
            "100%|██████████| 125/125 [00:01<00:00, 94.65it/s] \n",
            "100%|██████████| 32/32 [00:00<00:00, 73.39it/s]\n"
          ]
        },
        {
          "output_type": "stream",
          "name": "stdout",
          "text": [
            "train_loss: 0.6903, train_rmsle: 0.6903\n",
            "valid_loss: 0.5977, valid_rmsle: 0.5977\n"
          ]
        },
        {
          "output_type": "stream",
          "name": "stderr",
          "text": [
            "100%|██████████| 125/125 [00:01<00:00, 93.16it/s] \n",
            "100%|██████████| 32/32 [00:00<00:00, 77.61it/s]\n"
          ]
        },
        {
          "output_type": "stream",
          "name": "stdout",
          "text": [
            "train_loss: 0.6682, train_rmsle: 0.6682\n",
            "valid_loss: 0.6041, valid_rmsle: 0.6041\n"
          ]
        },
        {
          "output_type": "stream",
          "name": "stderr",
          "text": [
            "100%|██████████| 125/125 [00:01<00:00, 94.34it/s] \n",
            "100%|██████████| 32/32 [00:00<00:00, 75.88it/s]\n"
          ]
        },
        {
          "output_type": "stream",
          "name": "stdout",
          "text": [
            "train_loss: 0.6711, train_rmsle: 0.6711\n",
            "valid_loss: 0.5567, valid_rmsle: 0.5567\n"
          ]
        },
        {
          "output_type": "stream",
          "name": "stderr",
          "text": [
            "100%|██████████| 125/125 [00:01<00:00, 91.09it/s] \n",
            "100%|██████████| 32/32 [00:00<00:00, 76.16it/s]\n"
          ]
        },
        {
          "output_type": "stream",
          "name": "stdout",
          "text": [
            "train_loss: 0.6576, train_rmsle: 0.6576\n",
            "valid_loss: 0.5716, valid_rmsle: 0.5716\n"
          ]
        },
        {
          "output_type": "stream",
          "name": "stderr",
          "text": [
            "100%|██████████| 125/125 [00:01<00:00, 90.94it/s] \n",
            "100%|██████████| 32/32 [00:00<00:00, 77.73it/s]\n"
          ]
        },
        {
          "output_type": "stream",
          "name": "stdout",
          "text": [
            "train_loss: 0.6372, train_rmsle: 0.6372\n",
            "valid_loss: 0.5545, valid_rmsle: 0.5545\n"
          ]
        },
        {
          "output_type": "stream",
          "name": "stderr",
          "text": [
            "100%|██████████| 125/125 [00:01<00:00, 92.25it/s] \n",
            "100%|██████████| 32/32 [00:00<00:00, 78.87it/s]\n"
          ]
        },
        {
          "output_type": "stream",
          "name": "stdout",
          "text": [
            "train_loss: 0.6351, train_rmsle: 0.6351\n",
            "valid_loss: 0.5507, valid_rmsle: 0.5507\n"
          ]
        },
        {
          "output_type": "stream",
          "name": "stderr",
          "text": [
            "100%|██████████| 125/125 [00:01<00:00, 93.33it/s] \n",
            "100%|██████████| 32/32 [00:00<00:00, 77.56it/s]\n"
          ]
        },
        {
          "output_type": "stream",
          "name": "stdout",
          "text": [
            "train_loss: 0.6319, train_rmsle: 0.6319\n",
            "valid_loss: 0.5639, valid_rmsle: 0.5639\n"
          ]
        },
        {
          "output_type": "stream",
          "name": "stderr",
          "text": [
            "100%|██████████| 125/125 [00:01<00:00, 92.13it/s] \n",
            "100%|██████████| 32/32 [00:00<00:00, 77.61it/s]\n"
          ]
        },
        {
          "output_type": "stream",
          "name": "stdout",
          "text": [
            "train_loss: 0.6035, train_rmsle: 0.6035\n",
            "valid_loss: 0.5485, valid_rmsle: 0.5485\n"
          ]
        },
        {
          "output_type": "stream",
          "name": "stderr",
          "text": [
            "100%|██████████| 125/125 [00:01<00:00, 91.31it/s] \n",
            "100%|██████████| 32/32 [00:00<00:00, 74.74it/s]\n"
          ]
        },
        {
          "output_type": "stream",
          "name": "stdout",
          "text": [
            "train_loss: 0.5982, train_rmsle: 0.5982\n",
            "valid_loss: 0.5609, valid_rmsle: 0.5609\n"
          ]
        },
        {
          "output_type": "stream",
          "name": "stderr",
          "text": [
            "100%|██████████| 125/125 [00:01<00:00, 93.73it/s] \n",
            "100%|██████████| 32/32 [00:00<00:00, 76.42it/s]\n"
          ]
        },
        {
          "output_type": "stream",
          "name": "stdout",
          "text": [
            "train_loss: 0.6035, train_rmsle: 0.6035\n",
            "valid_loss: 0.5529, valid_rmsle: 0.5529\n"
          ]
        },
        {
          "output_type": "stream",
          "name": "stderr",
          "text": [
            "100%|██████████| 125/125 [00:01<00:00, 94.16it/s] \n",
            "100%|██████████| 32/32 [00:00<00:00, 78.79it/s]\n"
          ]
        },
        {
          "output_type": "stream",
          "name": "stdout",
          "text": [
            "train_loss: 0.5958, train_rmsle: 0.5958\n",
            "valid_loss: 0.5511, valid_rmsle: 0.5511\n"
          ]
        },
        {
          "output_type": "stream",
          "name": "stderr",
          "text": [
            "100%|██████████| 125/125 [00:01<00:00, 93.17it/s] \n",
            "100%|██████████| 32/32 [00:00<00:00, 76.99it/s]\n"
          ]
        },
        {
          "output_type": "stream",
          "name": "stdout",
          "text": [
            "train_loss: 0.5806, train_rmsle: 0.5806\n",
            "valid_loss: 0.5551, valid_rmsle: 0.5551\n"
          ]
        },
        {
          "output_type": "stream",
          "name": "stderr",
          "text": [
            "100%|██████████| 125/125 [00:01<00:00, 93.49it/s] \n",
            "100%|██████████| 32/32 [00:00<00:00, 79.85it/s]\n"
          ]
        },
        {
          "output_type": "stream",
          "name": "stdout",
          "text": [
            "train_loss: 0.5727, train_rmsle: 0.5727\n",
            "valid_loss: 0.5470, valid_rmsle: 0.5470\n"
          ]
        },
        {
          "output_type": "stream",
          "name": "stderr",
          "text": [
            "100%|██████████| 125/125 [00:01<00:00, 92.74it/s] \n",
            "100%|██████████| 32/32 [00:00<00:00, 77.48it/s]\n"
          ]
        },
        {
          "output_type": "stream",
          "name": "stdout",
          "text": [
            "train_loss: 0.5739, train_rmsle: 0.5739\n",
            "valid_loss: 0.5504, valid_rmsle: 0.5504\n"
          ]
        },
        {
          "output_type": "stream",
          "name": "stderr",
          "text": [
            "100%|██████████| 125/125 [00:01<00:00, 92.44it/s] \n",
            "100%|██████████| 32/32 [00:00<00:00, 76.15it/s]\n"
          ]
        },
        {
          "output_type": "stream",
          "name": "stdout",
          "text": [
            "train_loss: 0.5562, train_rmsle: 0.5562\n",
            "valid_loss: 0.5451, valid_rmsle: 0.5451\n"
          ]
        },
        {
          "output_type": "stream",
          "name": "stderr",
          "text": [
            "100%|██████████| 125/125 [00:01<00:00, 94.35it/s] \n",
            "100%|██████████| 32/32 [00:00<00:00, 76.76it/s]\n"
          ]
        },
        {
          "output_type": "stream",
          "name": "stdout",
          "text": [
            "train_loss: 0.5518, train_rmsle: 0.5518\n",
            "valid_loss: 0.5471, valid_rmsle: 0.5471\n"
          ]
        },
        {
          "output_type": "stream",
          "name": "stderr",
          "text": [
            "100%|██████████| 125/125 [00:01<00:00, 90.58it/s] \n",
            "100%|██████████| 32/32 [00:00<00:00, 77.38it/s]\n"
          ]
        },
        {
          "output_type": "stream",
          "name": "stdout",
          "text": [
            "train_loss: 0.5525, train_rmsle: 0.5525\n",
            "valid_loss: 0.5523, valid_rmsle: 0.5523\n"
          ]
        },
        {
          "output_type": "stream",
          "name": "stderr",
          "text": [
            "100%|██████████| 125/125 [00:01<00:00, 94.08it/s] \n",
            "100%|██████████| 32/32 [00:00<00:00, 74.69it/s]\n"
          ]
        },
        {
          "output_type": "stream",
          "name": "stdout",
          "text": [
            "train_loss: 0.5530, train_rmsle: 0.5530\n",
            "valid_loss: 0.5530, valid_rmsle: 0.5530\n"
          ]
        },
        {
          "output_type": "stream",
          "name": "stderr",
          "text": [
            "100%|██████████| 125/125 [00:01<00:00, 91.99it/s] \n",
            "100%|██████████| 32/32 [00:00<00:00, 75.46it/s]\n"
          ]
        },
        {
          "output_type": "stream",
          "name": "stdout",
          "text": [
            "train_loss: 0.5446, train_rmsle: 0.5446\n",
            "valid_loss: 0.5502, valid_rmsle: 0.5502\n"
          ]
        },
        {
          "output_type": "stream",
          "name": "stderr",
          "text": [
            "100%|██████████| 125/125 [00:01<00:00, 94.87it/s] \n",
            "100%|██████████| 32/32 [00:00<00:00, 75.48it/s]\n"
          ]
        },
        {
          "output_type": "stream",
          "name": "stdout",
          "text": [
            "train_loss: 0.5332, train_rmsle: 0.5332\n",
            "valid_loss: 0.5448, valid_rmsle: 0.5448\n"
          ]
        },
        {
          "output_type": "stream",
          "name": "stderr",
          "text": [
            "100%|██████████| 125/125 [00:01<00:00, 93.12it/s] \n",
            "100%|██████████| 32/32 [00:00<00:00, 77.10it/s]\n"
          ]
        },
        {
          "output_type": "stream",
          "name": "stdout",
          "text": [
            "train_loss: 0.5299, train_rmsle: 0.5299\n",
            "valid_loss: 0.5362, valid_rmsle: 0.5362\n"
          ]
        },
        {
          "output_type": "stream",
          "name": "stderr",
          "text": [
            "100%|██████████| 125/125 [00:01<00:00, 96.47it/s] \n",
            "100%|██████████| 32/32 [00:00<00:00, 76.02it/s]\n"
          ]
        },
        {
          "output_type": "stream",
          "name": "stdout",
          "text": [
            "train_loss: 0.5252, train_rmsle: 0.5252\n",
            "valid_loss: 0.5396, valid_rmsle: 0.5396\n"
          ]
        },
        {
          "output_type": "stream",
          "name": "stderr",
          "text": [
            "100%|██████████| 125/125 [00:01<00:00, 95.92it/s] \n",
            "100%|██████████| 32/32 [00:00<00:00, 77.96it/s]\n"
          ]
        },
        {
          "output_type": "stream",
          "name": "stdout",
          "text": [
            "train_loss: 0.5236, train_rmsle: 0.5236\n",
            "valid_loss: 0.5552, valid_rmsle: 0.5552\n"
          ]
        },
        {
          "output_type": "stream",
          "name": "stderr",
          "text": [
            "100%|██████████| 125/125 [00:01<00:00, 95.18it/s] \n",
            "100%|██████████| 32/32 [00:00<00:00, 76.59it/s]\n"
          ]
        },
        {
          "output_type": "stream",
          "name": "stdout",
          "text": [
            "train_loss: 0.5224, train_rmsle: 0.5224\n",
            "valid_loss: 0.5307, valid_rmsle: 0.5307\n"
          ]
        },
        {
          "output_type": "stream",
          "name": "stderr",
          "text": [
            "100%|██████████| 125/125 [00:01<00:00, 96.95it/s] \n",
            "100%|██████████| 32/32 [00:00<00:00, 77.16it/s]\n"
          ]
        },
        {
          "output_type": "stream",
          "name": "stdout",
          "text": [
            "train_loss: 0.5220, train_rmsle: 0.5220\n",
            "valid_loss: 0.5338, valid_rmsle: 0.5338\n"
          ]
        },
        {
          "output_type": "stream",
          "name": "stderr",
          "text": [
            "100%|██████████| 125/125 [00:01<00:00, 95.13it/s] \n",
            "100%|██████████| 32/32 [00:00<00:00, 72.54it/s]\n"
          ]
        },
        {
          "output_type": "stream",
          "name": "stdout",
          "text": [
            "train_loss: 0.5154, train_rmsle: 0.5154\n",
            "valid_loss: 0.5370, valid_rmsle: 0.5370\n"
          ]
        },
        {
          "output_type": "stream",
          "name": "stderr",
          "text": [
            "100%|██████████| 125/125 [00:01<00:00, 96.95it/s] \n",
            "100%|██████████| 32/32 [00:00<00:00, 79.98it/s]\n"
          ]
        },
        {
          "output_type": "stream",
          "name": "stdout",
          "text": [
            "train_loss: 0.5167, train_rmsle: 0.5167\n",
            "valid_loss: 0.5413, valid_rmsle: 0.5413\n"
          ]
        },
        {
          "output_type": "stream",
          "name": "stderr",
          "text": [
            "100%|██████████| 125/125 [00:01<00:00, 92.04it/s] \n",
            "100%|██████████| 32/32 [00:00<00:00, 78.37it/s]\n"
          ]
        },
        {
          "output_type": "stream",
          "name": "stdout",
          "text": [
            "train_loss: 0.5121, train_rmsle: 0.5121\n",
            "valid_loss: 0.5287, valid_rmsle: 0.5287\n"
          ]
        },
        {
          "output_type": "stream",
          "name": "stderr",
          "text": [
            "100%|██████████| 125/125 [00:01<00:00, 92.36it/s] \n",
            "100%|██████████| 32/32 [00:00<00:00, 78.38it/s]\n"
          ]
        },
        {
          "output_type": "stream",
          "name": "stdout",
          "text": [
            "train_loss: 0.4983, train_rmsle: 0.4983\n",
            "valid_loss: 0.5351, valid_rmsle: 0.5351\n"
          ]
        },
        {
          "output_type": "stream",
          "name": "stderr",
          "text": [
            "100%|██████████| 125/125 [00:01<00:00, 94.45it/s] \n",
            "100%|██████████| 32/32 [00:00<00:00, 75.95it/s]\n"
          ]
        },
        {
          "output_type": "stream",
          "name": "stdout",
          "text": [
            "train_loss: 0.5004, train_rmsle: 0.5004\n",
            "valid_loss: 0.5406, valid_rmsle: 0.5406\n"
          ]
        },
        {
          "output_type": "stream",
          "name": "stderr",
          "text": [
            "100%|██████████| 125/125 [00:01<00:00, 93.05it/s] \n",
            "100%|██████████| 32/32 [00:00<00:00, 78.25it/s]\n"
          ]
        },
        {
          "output_type": "stream",
          "name": "stdout",
          "text": [
            "train_loss: 0.4939, train_rmsle: 0.4939\n",
            "valid_loss: 0.5370, valid_rmsle: 0.5370\n"
          ]
        },
        {
          "output_type": "stream",
          "name": "stderr",
          "text": [
            "100%|██████████| 125/125 [00:01<00:00, 95.68it/s] \n",
            "100%|██████████| 32/32 [00:00<00:00, 77.35it/s]\n"
          ]
        },
        {
          "output_type": "stream",
          "name": "stdout",
          "text": [
            "train_loss: 0.4982, train_rmsle: 0.4982\n",
            "valid_loss: 0.5349, valid_rmsle: 0.5349\n"
          ]
        },
        {
          "output_type": "stream",
          "name": "stderr",
          "text": [
            "100%|██████████| 125/125 [00:01<00:00, 90.68it/s] \n",
            "100%|██████████| 32/32 [00:00<00:00, 79.08it/s]\n"
          ]
        },
        {
          "output_type": "stream",
          "name": "stdout",
          "text": [
            "train_loss: 0.4853, train_rmsle: 0.4853\n",
            "valid_loss: 0.5279, valid_rmsle: 0.5279\n"
          ]
        },
        {
          "output_type": "stream",
          "name": "stderr",
          "text": [
            "100%|██████████| 125/125 [00:01<00:00, 94.89it/s] \n",
            "100%|██████████| 32/32 [00:00<00:00, 73.81it/s]\n"
          ]
        },
        {
          "output_type": "stream",
          "name": "stdout",
          "text": [
            "train_loss: 0.4789, train_rmsle: 0.4789\n",
            "valid_loss: 0.5365, valid_rmsle: 0.5365\n"
          ]
        },
        {
          "output_type": "stream",
          "name": "stderr",
          "text": [
            "100%|██████████| 125/125 [00:01<00:00, 93.69it/s] \n",
            "100%|██████████| 32/32 [00:00<00:00, 78.51it/s]\n"
          ]
        },
        {
          "output_type": "stream",
          "name": "stdout",
          "text": [
            "train_loss: 0.4979, train_rmsle: 0.4979\n",
            "valid_loss: 0.5406, valid_rmsle: 0.5406\n"
          ]
        },
        {
          "output_type": "stream",
          "name": "stderr",
          "text": [
            "100%|██████████| 125/125 [00:01<00:00, 93.17it/s] \n",
            "100%|██████████| 32/32 [00:00<00:00, 73.85it/s]\n"
          ]
        },
        {
          "output_type": "stream",
          "name": "stdout",
          "text": [
            "train_loss: 0.4822, train_rmsle: 0.4822\n",
            "valid_loss: 0.5279, valid_rmsle: 0.5279\n"
          ]
        },
        {
          "output_type": "stream",
          "name": "stderr",
          "text": [
            "100%|██████████| 125/125 [00:01<00:00, 90.98it/s] \n",
            "100%|██████████| 32/32 [00:00<00:00, 77.21it/s]\n"
          ]
        },
        {
          "output_type": "stream",
          "name": "stdout",
          "text": [
            "train_loss: 0.4745, train_rmsle: 0.4745\n",
            "valid_loss: 0.5222, valid_rmsle: 0.5222\n"
          ]
        },
        {
          "output_type": "stream",
          "name": "stderr",
          "text": [
            "100%|██████████| 125/125 [00:01<00:00, 93.35it/s] \n",
            "100%|██████████| 32/32 [00:00<00:00, 75.28it/s]\n"
          ]
        },
        {
          "output_type": "stream",
          "name": "stdout",
          "text": [
            "train_loss: 0.4786, train_rmsle: 0.4786\n",
            "valid_loss: 0.5326, valid_rmsle: 0.5326\n"
          ]
        },
        {
          "output_type": "stream",
          "name": "stderr",
          "text": [
            "100%|██████████| 125/125 [00:01<00:00, 95.45it/s] \n",
            "100%|██████████| 32/32 [00:00<00:00, 75.69it/s]\n"
          ]
        },
        {
          "output_type": "stream",
          "name": "stdout",
          "text": [
            "train_loss: 0.4767, train_rmsle: 0.4767\n",
            "valid_loss: 0.5294, valid_rmsle: 0.5294\n"
          ]
        },
        {
          "output_type": "stream",
          "name": "stderr",
          "text": [
            "100%|██████████| 125/125 [00:01<00:00, 93.07it/s] \n",
            "100%|██████████| 32/32 [00:00<00:00, 77.34it/s]\n"
          ]
        },
        {
          "output_type": "stream",
          "name": "stdout",
          "text": [
            "train_loss: 0.4606, train_rmsle: 0.4606\n",
            "valid_loss: 0.5312, valid_rmsle: 0.5312\n"
          ]
        },
        {
          "output_type": "stream",
          "name": "stderr",
          "text": [
            "100%|██████████| 125/125 [00:01<00:00, 92.28it/s] \n",
            "100%|██████████| 32/32 [00:00<00:00, 77.64it/s]\n"
          ]
        },
        {
          "output_type": "stream",
          "name": "stdout",
          "text": [
            "train_loss: 0.4754, train_rmsle: 0.4754\n",
            "valid_loss: 0.5291, valid_rmsle: 0.5291\n"
          ]
        },
        {
          "output_type": "stream",
          "name": "stderr",
          "text": [
            "100%|██████████| 125/125 [00:01<00:00, 94.61it/s] \n",
            "100%|██████████| 32/32 [00:00<00:00, 75.53it/s]\n"
          ]
        },
        {
          "output_type": "stream",
          "name": "stdout",
          "text": [
            "train_loss: 0.4690, train_rmsle: 0.4690\n",
            "valid_loss: 0.5342, valid_rmsle: 0.5342\n"
          ]
        },
        {
          "output_type": "stream",
          "name": "stderr",
          "text": [
            "100%|██████████| 125/125 [00:01<00:00, 93.53it/s] \n",
            "100%|██████████| 32/32 [00:00<00:00, 76.54it/s]\n"
          ]
        },
        {
          "output_type": "stream",
          "name": "stdout",
          "text": [
            "train_loss: 0.4641, train_rmsle: 0.4641\n",
            "valid_loss: 0.5157, valid_rmsle: 0.5157\n"
          ]
        },
        {
          "output_type": "stream",
          "name": "stderr",
          "text": [
            "100%|██████████| 125/125 [00:01<00:00, 91.34it/s] \n",
            "100%|██████████| 32/32 [00:00<00:00, 77.61it/s]\n"
          ]
        },
        {
          "output_type": "stream",
          "name": "stdout",
          "text": [
            "train_loss: 0.4677, train_rmsle: 0.4677\n",
            "valid_loss: 0.5265, valid_rmsle: 0.5265\n"
          ]
        },
        {
          "output_type": "stream",
          "name": "stderr",
          "text": [
            "100%|██████████| 125/125 [00:01<00:00, 92.17it/s] \n",
            "100%|██████████| 32/32 [00:00<00:00, 73.72it/s]\n"
          ]
        },
        {
          "output_type": "stream",
          "name": "stdout",
          "text": [
            "train_loss: 0.4568, train_rmsle: 0.4568\n",
            "valid_loss: 0.5226, valid_rmsle: 0.5226\n"
          ]
        },
        {
          "output_type": "stream",
          "name": "stderr",
          "text": [
            "100%|██████████| 125/125 [00:01<00:00, 90.56it/s] \n",
            "100%|██████████| 32/32 [00:00<00:00, 75.23it/s]\n"
          ]
        },
        {
          "output_type": "stream",
          "name": "stdout",
          "text": [
            "train_loss: 0.4548, train_rmsle: 0.4548\n",
            "valid_loss: 0.5194, valid_rmsle: 0.5194\n"
          ]
        },
        {
          "output_type": "stream",
          "name": "stderr",
          "text": [
            "100%|██████████| 125/125 [00:01<00:00, 92.17it/s] \n",
            "100%|██████████| 32/32 [00:00<00:00, 76.99it/s]\n"
          ]
        },
        {
          "output_type": "stream",
          "name": "stdout",
          "text": [
            "train_loss: 0.4624, train_rmsle: 0.4624\n",
            "valid_loss: 0.5217, valid_rmsle: 0.5217\n"
          ]
        },
        {
          "output_type": "stream",
          "name": "stderr",
          "text": [
            "100%|██████████| 125/125 [00:01<00:00, 93.51it/s] \n",
            "100%|██████████| 32/32 [00:00<00:00, 78.02it/s]\n"
          ]
        },
        {
          "output_type": "stream",
          "name": "stdout",
          "text": [
            "train_loss: 0.4545, train_rmsle: 0.4545\n",
            "valid_loss: 0.5146, valid_rmsle: 0.5146\n"
          ]
        },
        {
          "output_type": "stream",
          "name": "stderr",
          "text": [
            "100%|██████████| 125/125 [00:01<00:00, 94.27it/s] \n",
            "100%|██████████| 32/32 [00:00<00:00, 76.02it/s]\n"
          ]
        },
        {
          "output_type": "stream",
          "name": "stdout",
          "text": [
            "train_loss: 0.4493, train_rmsle: 0.4493\n",
            "valid_loss: 0.5249, valid_rmsle: 0.5249\n",
            "==================================================\n",
            "save model: models/nn_fold4_.pth\n",
            "==================================================\n",
            "fold: 4\n",
            "==================================================\n"
          ]
        },
        {
          "output_type": "stream",
          "name": "stderr",
          "text": [
            "100%|██████████| 125/125 [00:01<00:00, 95.09it/s] \n",
            "100%|██████████| 32/32 [00:00<00:00, 77.61it/s]\n"
          ]
        },
        {
          "output_type": "stream",
          "name": "stdout",
          "text": [
            "train_loss: 8.8435, train_rmsle: 8.8435\n",
            "valid_loss: 7.8112, valid_rmsle: 7.8112\n"
          ]
        },
        {
          "output_type": "stream",
          "name": "stderr",
          "text": [
            "100%|██████████| 125/125 [00:01<00:00, 93.02it/s] \n",
            "100%|██████████| 32/32 [00:00<00:00, 76.35it/s]\n"
          ]
        },
        {
          "output_type": "stream",
          "name": "stdout",
          "text": [
            "train_loss: 6.4883, train_rmsle: 6.4883\n",
            "valid_loss: 4.9968, valid_rmsle: 4.9968\n"
          ]
        },
        {
          "output_type": "stream",
          "name": "stderr",
          "text": [
            "100%|██████████| 125/125 [00:01<00:00, 93.09it/s] \n",
            "100%|██████████| 32/32 [00:00<00:00, 75.85it/s]\n"
          ]
        },
        {
          "output_type": "stream",
          "name": "stdout",
          "text": [
            "train_loss: 3.2820, train_rmsle: 3.2820\n",
            "valid_loss: 1.4866, valid_rmsle: 1.4866\n"
          ]
        },
        {
          "output_type": "stream",
          "name": "stderr",
          "text": [
            "100%|██████████| 125/125 [00:01<00:00, 93.03it/s] \n",
            "100%|██████████| 32/32 [00:00<00:00, 76.32it/s]\n"
          ]
        },
        {
          "output_type": "stream",
          "name": "stdout",
          "text": [
            "train_loss: 1.1981, train_rmsle: 1.1981\n",
            "valid_loss: 0.8341, valid_rmsle: 0.8341\n"
          ]
        },
        {
          "output_type": "stream",
          "name": "stderr",
          "text": [
            "100%|██████████| 125/125 [00:01<00:00, 92.17it/s] \n",
            "100%|██████████| 32/32 [00:00<00:00, 73.12it/s]\n"
          ]
        },
        {
          "output_type": "stream",
          "name": "stdout",
          "text": [
            "train_loss: 1.0674, train_rmsle: 1.0674\n",
            "valid_loss: 0.7437, valid_rmsle: 0.7437\n"
          ]
        },
        {
          "output_type": "stream",
          "name": "stderr",
          "text": [
            "100%|██████████| 125/125 [00:01<00:00, 95.09it/s] \n",
            "100%|██████████| 32/32 [00:00<00:00, 79.08it/s]\n"
          ]
        },
        {
          "output_type": "stream",
          "name": "stdout",
          "text": [
            "train_loss: 0.9775, train_rmsle: 0.9775\n",
            "valid_loss: 0.6867, valid_rmsle: 0.6867\n"
          ]
        },
        {
          "output_type": "stream",
          "name": "stderr",
          "text": [
            "100%|██████████| 125/125 [00:01<00:00, 93.09it/s] \n",
            "100%|██████████| 32/32 [00:00<00:00, 75.86it/s]\n"
          ]
        },
        {
          "output_type": "stream",
          "name": "stdout",
          "text": [
            "train_loss: 0.9553, train_rmsle: 0.9553\n",
            "valid_loss: 0.7351, valid_rmsle: 0.7351\n"
          ]
        },
        {
          "output_type": "stream",
          "name": "stderr",
          "text": [
            "100%|██████████| 125/125 [00:01<00:00, 92.87it/s] \n",
            "100%|██████████| 32/32 [00:00<00:00, 77.86it/s]\n"
          ]
        },
        {
          "output_type": "stream",
          "name": "stdout",
          "text": [
            "train_loss: 0.9246, train_rmsle: 0.9246\n",
            "valid_loss: 0.6793, valid_rmsle: 0.6793\n"
          ]
        },
        {
          "output_type": "stream",
          "name": "stderr",
          "text": [
            "100%|██████████| 125/125 [00:01<00:00, 94.19it/s] \n",
            "100%|██████████| 32/32 [00:00<00:00, 74.96it/s]\n"
          ]
        },
        {
          "output_type": "stream",
          "name": "stdout",
          "text": [
            "train_loss: 0.9064, train_rmsle: 0.9064\n",
            "valid_loss: 0.6676, valid_rmsle: 0.6676\n"
          ]
        },
        {
          "output_type": "stream",
          "name": "stderr",
          "text": [
            "100%|██████████| 125/125 [00:01<00:00, 93.51it/s] \n",
            "100%|██████████| 32/32 [00:00<00:00, 76.03it/s]\n"
          ]
        },
        {
          "output_type": "stream",
          "name": "stdout",
          "text": [
            "train_loss: 0.8858, train_rmsle: 0.8858\n",
            "valid_loss: 0.6419, valid_rmsle: 0.6419\n"
          ]
        },
        {
          "output_type": "stream",
          "name": "stderr",
          "text": [
            "100%|██████████| 125/125 [00:01<00:00, 91.53it/s] \n",
            "100%|██████████| 32/32 [00:00<00:00, 78.93it/s]\n"
          ]
        },
        {
          "output_type": "stream",
          "name": "stdout",
          "text": [
            "train_loss: 0.8644, train_rmsle: 0.8644\n",
            "valid_loss: 0.6448, valid_rmsle: 0.6448\n"
          ]
        },
        {
          "output_type": "stream",
          "name": "stderr",
          "text": [
            "100%|██████████| 125/125 [00:01<00:00, 92.59it/s] \n",
            "100%|██████████| 32/32 [00:00<00:00, 80.42it/s]\n"
          ]
        },
        {
          "output_type": "stream",
          "name": "stdout",
          "text": [
            "train_loss: 0.8363, train_rmsle: 0.8363\n",
            "valid_loss: 0.6503, valid_rmsle: 0.6503\n"
          ]
        },
        {
          "output_type": "stream",
          "name": "stderr",
          "text": [
            "100%|██████████| 125/125 [00:01<00:00, 94.69it/s] \n",
            "100%|██████████| 32/32 [00:00<00:00, 76.44it/s]\n"
          ]
        },
        {
          "output_type": "stream",
          "name": "stdout",
          "text": [
            "train_loss: 0.8224, train_rmsle: 0.8224\n",
            "valid_loss: 0.6375, valid_rmsle: 0.6375\n"
          ]
        },
        {
          "output_type": "stream",
          "name": "stderr",
          "text": [
            "100%|██████████| 125/125 [00:01<00:00, 92.71it/s] \n",
            "100%|██████████| 32/32 [00:00<00:00, 78.70it/s]\n"
          ]
        },
        {
          "output_type": "stream",
          "name": "stdout",
          "text": [
            "train_loss: 0.8055, train_rmsle: 0.8055\n",
            "valid_loss: 0.6231, valid_rmsle: 0.6231\n"
          ]
        },
        {
          "output_type": "stream",
          "name": "stderr",
          "text": [
            "100%|██████████| 125/125 [00:01<00:00, 93.84it/s] \n",
            "100%|██████████| 32/32 [00:00<00:00, 77.27it/s]\n"
          ]
        },
        {
          "output_type": "stream",
          "name": "stdout",
          "text": [
            "train_loss: 0.7823, train_rmsle: 0.7823\n",
            "valid_loss: 0.6190, valid_rmsle: 0.6190\n"
          ]
        },
        {
          "output_type": "stream",
          "name": "stderr",
          "text": [
            "100%|██████████| 125/125 [00:01<00:00, 95.01it/s] \n",
            "100%|██████████| 32/32 [00:00<00:00, 75.61it/s]\n"
          ]
        },
        {
          "output_type": "stream",
          "name": "stdout",
          "text": [
            "train_loss: 0.7596, train_rmsle: 0.7596\n",
            "valid_loss: 0.6266, valid_rmsle: 0.6266\n"
          ]
        },
        {
          "output_type": "stream",
          "name": "stderr",
          "text": [
            "100%|██████████| 125/125 [00:01<00:00, 94.03it/s] \n",
            "100%|██████████| 32/32 [00:00<00:00, 75.63it/s]\n"
          ]
        },
        {
          "output_type": "stream",
          "name": "stdout",
          "text": [
            "train_loss: 0.7470, train_rmsle: 0.7470\n",
            "valid_loss: 0.6085, valid_rmsle: 0.6085\n"
          ]
        },
        {
          "output_type": "stream",
          "name": "stderr",
          "text": [
            "100%|██████████| 125/125 [00:01<00:00, 91.54it/s] \n",
            "100%|██████████| 32/32 [00:00<00:00, 78.43it/s]\n"
          ]
        },
        {
          "output_type": "stream",
          "name": "stdout",
          "text": [
            "train_loss: 0.7329, train_rmsle: 0.7329\n",
            "valid_loss: 0.6423, valid_rmsle: 0.6423\n"
          ]
        },
        {
          "output_type": "stream",
          "name": "stderr",
          "text": [
            "100%|██████████| 125/125 [00:01<00:00, 94.38it/s] \n",
            "100%|██████████| 32/32 [00:00<00:00, 73.95it/s]\n"
          ]
        },
        {
          "output_type": "stream",
          "name": "stdout",
          "text": [
            "train_loss: 0.7227, train_rmsle: 0.7227\n",
            "valid_loss: 0.5970, valid_rmsle: 0.5970\n"
          ]
        },
        {
          "output_type": "stream",
          "name": "stderr",
          "text": [
            "100%|██████████| 125/125 [00:01<00:00, 92.25it/s] \n",
            "100%|██████████| 32/32 [00:00<00:00, 78.13it/s]\n"
          ]
        },
        {
          "output_type": "stream",
          "name": "stdout",
          "text": [
            "train_loss: 0.7167, train_rmsle: 0.7167\n",
            "valid_loss: 0.5969, valid_rmsle: 0.5969\n"
          ]
        },
        {
          "output_type": "stream",
          "name": "stderr",
          "text": [
            "100%|██████████| 125/125 [00:01<00:00, 93.34it/s] \n",
            "100%|██████████| 32/32 [00:00<00:00, 73.52it/s]\n"
          ]
        },
        {
          "output_type": "stream",
          "name": "stdout",
          "text": [
            "train_loss: 0.6988, train_rmsle: 0.6988\n",
            "valid_loss: 0.5951, valid_rmsle: 0.5951\n"
          ]
        },
        {
          "output_type": "stream",
          "name": "stderr",
          "text": [
            "100%|██████████| 125/125 [00:01<00:00, 91.37it/s] \n",
            "100%|██████████| 32/32 [00:00<00:00, 74.95it/s]\n"
          ]
        },
        {
          "output_type": "stream",
          "name": "stdout",
          "text": [
            "train_loss: 0.6698, train_rmsle: 0.6698\n",
            "valid_loss: 0.6236, valid_rmsle: 0.6236\n"
          ]
        },
        {
          "output_type": "stream",
          "name": "stderr",
          "text": [
            "100%|██████████| 125/125 [00:01<00:00, 95.42it/s] \n",
            "100%|██████████| 32/32 [00:00<00:00, 76.92it/s]\n"
          ]
        },
        {
          "output_type": "stream",
          "name": "stdout",
          "text": [
            "train_loss: 0.6764, train_rmsle: 0.6764\n",
            "valid_loss: 0.5973, valid_rmsle: 0.5973\n"
          ]
        },
        {
          "output_type": "stream",
          "name": "stderr",
          "text": [
            "100%|██████████| 125/125 [00:01<00:00, 91.00it/s] \n",
            "100%|██████████| 32/32 [00:00<00:00, 74.30it/s]\n"
          ]
        },
        {
          "output_type": "stream",
          "name": "stdout",
          "text": [
            "train_loss: 0.6654, train_rmsle: 0.6654\n",
            "valid_loss: 0.5852, valid_rmsle: 0.5852\n"
          ]
        },
        {
          "output_type": "stream",
          "name": "stderr",
          "text": [
            "100%|██████████| 125/125 [00:01<00:00, 91.40it/s] \n",
            "100%|██████████| 32/32 [00:00<00:00, 74.24it/s]\n"
          ]
        },
        {
          "output_type": "stream",
          "name": "stdout",
          "text": [
            "train_loss: 0.6413, train_rmsle: 0.6413\n",
            "valid_loss: 0.5649, valid_rmsle: 0.5649\n"
          ]
        },
        {
          "output_type": "stream",
          "name": "stderr",
          "text": [
            "100%|██████████| 125/125 [00:01<00:00, 92.47it/s] \n",
            "100%|██████████| 32/32 [00:00<00:00, 73.96it/s]\n"
          ]
        },
        {
          "output_type": "stream",
          "name": "stdout",
          "text": [
            "train_loss: 0.6456, train_rmsle: 0.6456\n",
            "valid_loss: 0.5994, valid_rmsle: 0.5994\n"
          ]
        },
        {
          "output_type": "stream",
          "name": "stderr",
          "text": [
            "100%|██████████| 125/125 [00:01<00:00, 92.26it/s] \n",
            "100%|██████████| 32/32 [00:00<00:00, 76.79it/s]\n"
          ]
        },
        {
          "output_type": "stream",
          "name": "stdout",
          "text": [
            "train_loss: 0.6368, train_rmsle: 0.6368\n",
            "valid_loss: 0.5785, valid_rmsle: 0.5785\n"
          ]
        },
        {
          "output_type": "stream",
          "name": "stderr",
          "text": [
            "100%|██████████| 125/125 [00:01<00:00, 91.98it/s] \n",
            "100%|██████████| 32/32 [00:00<00:00, 75.70it/s]\n"
          ]
        },
        {
          "output_type": "stream",
          "name": "stdout",
          "text": [
            "train_loss: 0.6271, train_rmsle: 0.6271\n",
            "valid_loss: 0.5979, valid_rmsle: 0.5979\n"
          ]
        },
        {
          "output_type": "stream",
          "name": "stderr",
          "text": [
            "100%|██████████| 125/125 [00:01<00:00, 95.47it/s] \n",
            "100%|██████████| 32/32 [00:00<00:00, 81.36it/s]\n"
          ]
        },
        {
          "output_type": "stream",
          "name": "stdout",
          "text": [
            "train_loss: 0.6167, train_rmsle: 0.6167\n",
            "valid_loss: 0.5858, valid_rmsle: 0.5858\n"
          ]
        },
        {
          "output_type": "stream",
          "name": "stderr",
          "text": [
            "100%|██████████| 125/125 [00:01<00:00, 95.78it/s] \n",
            "100%|██████████| 32/32 [00:00<00:00, 77.01it/s]\n"
          ]
        },
        {
          "output_type": "stream",
          "name": "stdout",
          "text": [
            "train_loss: 0.6113, train_rmsle: 0.6113\n",
            "valid_loss: 0.5767, valid_rmsle: 0.5767\n"
          ]
        },
        {
          "output_type": "stream",
          "name": "stderr",
          "text": [
            "100%|██████████| 125/125 [00:01<00:00, 93.57it/s] \n",
            "100%|██████████| 32/32 [00:00<00:00, 75.22it/s]\n"
          ]
        },
        {
          "output_type": "stream",
          "name": "stdout",
          "text": [
            "train_loss: 0.6009, train_rmsle: 0.6009\n",
            "valid_loss: 0.5743, valid_rmsle: 0.5743\n"
          ]
        },
        {
          "output_type": "stream",
          "name": "stderr",
          "text": [
            "100%|██████████| 125/125 [00:01<00:00, 94.75it/s] \n",
            "100%|██████████| 32/32 [00:00<00:00, 80.98it/s]\n"
          ]
        },
        {
          "output_type": "stream",
          "name": "stdout",
          "text": [
            "train_loss: 0.5948, train_rmsle: 0.5948\n",
            "valid_loss: 0.5691, valid_rmsle: 0.5691\n"
          ]
        },
        {
          "output_type": "stream",
          "name": "stderr",
          "text": [
            "100%|██████████| 125/125 [00:01<00:00, 93.96it/s] \n",
            "100%|██████████| 32/32 [00:00<00:00, 77.27it/s]\n"
          ]
        },
        {
          "output_type": "stream",
          "name": "stdout",
          "text": [
            "train_loss: 0.5763, train_rmsle: 0.5763\n",
            "valid_loss: 0.5757, valid_rmsle: 0.5757\n"
          ]
        },
        {
          "output_type": "stream",
          "name": "stderr",
          "text": [
            "100%|██████████| 125/125 [00:01<00:00, 93.33it/s] \n",
            "100%|██████████| 32/32 [00:00<00:00, 76.18it/s]\n"
          ]
        },
        {
          "output_type": "stream",
          "name": "stdout",
          "text": [
            "train_loss: 0.5740, train_rmsle: 0.5740\n",
            "valid_loss: 0.5714, valid_rmsle: 0.5714\n"
          ]
        },
        {
          "output_type": "stream",
          "name": "stderr",
          "text": [
            "100%|██████████| 125/125 [00:01<00:00, 94.93it/s] \n",
            "100%|██████████| 32/32 [00:00<00:00, 75.75it/s]\n"
          ]
        },
        {
          "output_type": "stream",
          "name": "stdout",
          "text": [
            "train_loss: 0.5693, train_rmsle: 0.5693\n",
            "valid_loss: 0.5865, valid_rmsle: 0.5865\n"
          ]
        },
        {
          "output_type": "stream",
          "name": "stderr",
          "text": [
            "100%|██████████| 125/125 [00:01<00:00, 92.96it/s] \n",
            "100%|██████████| 32/32 [00:00<00:00, 77.95it/s]\n"
          ]
        },
        {
          "output_type": "stream",
          "name": "stdout",
          "text": [
            "train_loss: 0.5747, train_rmsle: 0.5747\n",
            "valid_loss: 0.5692, valid_rmsle: 0.5692\n"
          ]
        },
        {
          "output_type": "stream",
          "name": "stderr",
          "text": [
            "100%|██████████| 125/125 [00:01<00:00, 93.26it/s] \n",
            "100%|██████████| 32/32 [00:00<00:00, 77.08it/s]\n"
          ]
        },
        {
          "output_type": "stream",
          "name": "stdout",
          "text": [
            "train_loss: 0.5588, train_rmsle: 0.5588\n",
            "valid_loss: 0.5670, valid_rmsle: 0.5670\n"
          ]
        },
        {
          "output_type": "stream",
          "name": "stderr",
          "text": [
            "100%|██████████| 125/125 [00:01<00:00, 93.47it/s] \n",
            "100%|██████████| 32/32 [00:00<00:00, 75.35it/s]\n"
          ]
        },
        {
          "output_type": "stream",
          "name": "stdout",
          "text": [
            "train_loss: 0.5528, train_rmsle: 0.5528\n",
            "valid_loss: 0.5637, valid_rmsle: 0.5637\n"
          ]
        },
        {
          "output_type": "stream",
          "name": "stderr",
          "text": [
            "100%|██████████| 125/125 [00:01<00:00, 91.11it/s] \n",
            "100%|██████████| 32/32 [00:00<00:00, 74.51it/s]\n"
          ]
        },
        {
          "output_type": "stream",
          "name": "stdout",
          "text": [
            "train_loss: 0.5546, train_rmsle: 0.5546\n",
            "valid_loss: 0.5715, valid_rmsle: 0.5715\n"
          ]
        },
        {
          "output_type": "stream",
          "name": "stderr",
          "text": [
            "100%|██████████| 125/125 [00:01<00:00, 91.13it/s] \n",
            "100%|██████████| 32/32 [00:00<00:00, 74.58it/s]\n"
          ]
        },
        {
          "output_type": "stream",
          "name": "stdout",
          "text": [
            "train_loss: 0.5458, train_rmsle: 0.5458\n",
            "valid_loss: 0.5611, valid_rmsle: 0.5611\n"
          ]
        },
        {
          "output_type": "stream",
          "name": "stderr",
          "text": [
            "100%|██████████| 125/125 [00:01<00:00, 91.91it/s] \n",
            "100%|██████████| 32/32 [00:00<00:00, 75.89it/s]\n"
          ]
        },
        {
          "output_type": "stream",
          "name": "stdout",
          "text": [
            "train_loss: 0.5377, train_rmsle: 0.5377\n",
            "valid_loss: 0.5638, valid_rmsle: 0.5638\n"
          ]
        },
        {
          "output_type": "stream",
          "name": "stderr",
          "text": [
            "100%|██████████| 125/125 [00:01<00:00, 91.21it/s] \n",
            "100%|██████████| 32/32 [00:00<00:00, 71.81it/s]\n"
          ]
        },
        {
          "output_type": "stream",
          "name": "stdout",
          "text": [
            "train_loss: 0.5342, train_rmsle: 0.5342\n",
            "valid_loss: 0.5624, valid_rmsle: 0.5624\n"
          ]
        },
        {
          "output_type": "stream",
          "name": "stderr",
          "text": [
            "100%|██████████| 125/125 [00:01<00:00, 91.66it/s] \n",
            "100%|██████████| 32/32 [00:00<00:00, 74.66it/s]\n"
          ]
        },
        {
          "output_type": "stream",
          "name": "stdout",
          "text": [
            "train_loss: 0.5272, train_rmsle: 0.5272\n",
            "valid_loss: 0.5568, valid_rmsle: 0.5568\n"
          ]
        },
        {
          "output_type": "stream",
          "name": "stderr",
          "text": [
            "100%|██████████| 125/125 [00:01<00:00, 90.80it/s] \n",
            "100%|██████████| 32/32 [00:00<00:00, 76.29it/s]\n"
          ]
        },
        {
          "output_type": "stream",
          "name": "stdout",
          "text": [
            "train_loss: 0.5225, train_rmsle: 0.5225\n",
            "valid_loss: 0.5566, valid_rmsle: 0.5566\n"
          ]
        },
        {
          "output_type": "stream",
          "name": "stderr",
          "text": [
            "100%|██████████| 125/125 [00:01<00:00, 91.87it/s] \n",
            "100%|██████████| 32/32 [00:00<00:00, 74.00it/s]\n"
          ]
        },
        {
          "output_type": "stream",
          "name": "stdout",
          "text": [
            "train_loss: 0.5166, train_rmsle: 0.5166\n",
            "valid_loss: 0.5611, valid_rmsle: 0.5611\n"
          ]
        },
        {
          "output_type": "stream",
          "name": "stderr",
          "text": [
            "100%|██████████| 125/125 [00:01<00:00, 91.32it/s] \n",
            "100%|██████████| 32/32 [00:00<00:00, 75.83it/s]\n"
          ]
        },
        {
          "output_type": "stream",
          "name": "stdout",
          "text": [
            "train_loss: 0.5128, train_rmsle: 0.5128\n",
            "valid_loss: 0.5628, valid_rmsle: 0.5628\n"
          ]
        },
        {
          "output_type": "stream",
          "name": "stderr",
          "text": [
            "100%|██████████| 125/125 [00:01<00:00, 93.86it/s] \n",
            "100%|██████████| 32/32 [00:00<00:00, 76.28it/s]\n"
          ]
        },
        {
          "output_type": "stream",
          "name": "stdout",
          "text": [
            "train_loss: 0.5141, train_rmsle: 0.5141\n",
            "valid_loss: 0.5622, valid_rmsle: 0.5622\n"
          ]
        },
        {
          "output_type": "stream",
          "name": "stderr",
          "text": [
            "100%|██████████| 125/125 [00:01<00:00, 92.87it/s] \n",
            "100%|██████████| 32/32 [00:00<00:00, 76.73it/s]\n"
          ]
        },
        {
          "output_type": "stream",
          "name": "stdout",
          "text": [
            "train_loss: 0.5044, train_rmsle: 0.5044\n",
            "valid_loss: 0.5721, valid_rmsle: 0.5721\n"
          ]
        },
        {
          "output_type": "stream",
          "name": "stderr",
          "text": [
            "100%|██████████| 125/125 [00:01<00:00, 92.70it/s] \n",
            "100%|██████████| 32/32 [00:00<00:00, 75.26it/s]\n"
          ]
        },
        {
          "output_type": "stream",
          "name": "stdout",
          "text": [
            "train_loss: 0.5055, train_rmsle: 0.5055\n",
            "valid_loss: 0.5712, valid_rmsle: 0.5712\n"
          ]
        },
        {
          "output_type": "stream",
          "name": "stderr",
          "text": [
            "100%|██████████| 125/125 [00:01<00:00, 91.87it/s] \n",
            "100%|██████████| 32/32 [00:00<00:00, 78.98it/s]\n"
          ]
        },
        {
          "output_type": "stream",
          "name": "stdout",
          "text": [
            "train_loss: 0.5046, train_rmsle: 0.5046\n",
            "valid_loss: 0.5574, valid_rmsle: 0.5574\n"
          ]
        },
        {
          "output_type": "stream",
          "name": "stderr",
          "text": [
            "100%|██████████| 125/125 [00:01<00:00, 93.75it/s] \n",
            "100%|██████████| 32/32 [00:00<00:00, 73.88it/s]\n"
          ]
        },
        {
          "output_type": "stream",
          "name": "stdout",
          "text": [
            "train_loss: 0.5027, train_rmsle: 0.5027\n",
            "valid_loss: 0.5698, valid_rmsle: 0.5698\n"
          ]
        },
        {
          "output_type": "stream",
          "name": "stderr",
          "text": [
            "100%|██████████| 125/125 [00:01<00:00, 91.49it/s] \n",
            "100%|██████████| 32/32 [00:00<00:00, 74.34it/s]\n"
          ]
        },
        {
          "output_type": "stream",
          "name": "stdout",
          "text": [
            "train_loss: 0.4980, train_rmsle: 0.4980\n",
            "valid_loss: 0.5539, valid_rmsle: 0.5539\n"
          ]
        },
        {
          "output_type": "stream",
          "name": "stderr",
          "text": [
            "100%|██████████| 125/125 [00:01<00:00, 91.47it/s] \n",
            "100%|██████████| 32/32 [00:00<00:00, 74.51it/s]\n"
          ]
        },
        {
          "output_type": "stream",
          "name": "stdout",
          "text": [
            "train_loss: 0.4901, train_rmsle: 0.4901\n",
            "valid_loss: 0.5563, valid_rmsle: 0.5563\n"
          ]
        },
        {
          "output_type": "stream",
          "name": "stderr",
          "text": [
            "100%|██████████| 125/125 [00:01<00:00, 93.57it/s] \n",
            "100%|██████████| 32/32 [00:00<00:00, 76.62it/s]\n"
          ]
        },
        {
          "output_type": "stream",
          "name": "stdout",
          "text": [
            "train_loss: 0.4909, train_rmsle: 0.4909\n",
            "valid_loss: 0.5523, valid_rmsle: 0.5523\n"
          ]
        },
        {
          "output_type": "stream",
          "name": "stderr",
          "text": [
            "100%|██████████| 125/125 [00:01<00:00, 92.55it/s] \n",
            "100%|██████████| 32/32 [00:00<00:00, 73.44it/s]\n"
          ]
        },
        {
          "output_type": "stream",
          "name": "stdout",
          "text": [
            "train_loss: 0.5013, train_rmsle: 0.5013\n",
            "valid_loss: 0.5600, valid_rmsle: 0.5600\n"
          ]
        },
        {
          "output_type": "stream",
          "name": "stderr",
          "text": [
            "100%|██████████| 125/125 [00:01<00:00, 89.42it/s] \n",
            "100%|██████████| 32/32 [00:00<00:00, 76.23it/s]\n"
          ]
        },
        {
          "output_type": "stream",
          "name": "stdout",
          "text": [
            "train_loss: 0.4784, train_rmsle: 0.4784\n",
            "valid_loss: 0.5717, valid_rmsle: 0.5717\n"
          ]
        },
        {
          "output_type": "stream",
          "name": "stderr",
          "text": [
            "100%|██████████| 125/125 [00:01<00:00, 93.52it/s] \n",
            "100%|██████████| 32/32 [00:00<00:00, 77.44it/s]\n"
          ]
        },
        {
          "output_type": "stream",
          "name": "stdout",
          "text": [
            "train_loss: 0.4791, train_rmsle: 0.4791\n",
            "valid_loss: 0.5705, valid_rmsle: 0.5705\n"
          ]
        },
        {
          "output_type": "stream",
          "name": "stderr",
          "text": [
            "100%|██████████| 125/125 [00:01<00:00, 93.42it/s] \n",
            "100%|██████████| 32/32 [00:00<00:00, 77.49it/s]\n"
          ]
        },
        {
          "output_type": "stream",
          "name": "stdout",
          "text": [
            "train_loss: 0.4708, train_rmsle: 0.4708\n",
            "valid_loss: 0.5562, valid_rmsle: 0.5562\n"
          ]
        },
        {
          "output_type": "stream",
          "name": "stderr",
          "text": [
            "100%|██████████| 125/125 [00:01<00:00, 92.73it/s] \n",
            "100%|██████████| 32/32 [00:00<00:00, 74.74it/s]\n"
          ]
        },
        {
          "output_type": "stream",
          "name": "stdout",
          "text": [
            "train_loss: 0.4686, train_rmsle: 0.4686\n",
            "valid_loss: 0.5491, valid_rmsle: 0.5491\n"
          ]
        },
        {
          "output_type": "stream",
          "name": "stderr",
          "text": [
            "100%|██████████| 125/125 [00:01<00:00, 91.32it/s] \n",
            "100%|██████████| 32/32 [00:00<00:00, 77.33it/s]\n"
          ]
        },
        {
          "output_type": "stream",
          "name": "stdout",
          "text": [
            "train_loss: 0.4727, train_rmsle: 0.4727\n",
            "valid_loss: 0.5519, valid_rmsle: 0.5519\n"
          ]
        },
        {
          "output_type": "stream",
          "name": "stderr",
          "text": [
            "100%|██████████| 125/125 [00:01<00:00, 93.28it/s] \n",
            "100%|██████████| 32/32 [00:00<00:00, 77.59it/s]\n"
          ]
        },
        {
          "output_type": "stream",
          "name": "stdout",
          "text": [
            "train_loss: 0.4644, train_rmsle: 0.4644\n",
            "valid_loss: 0.5473, valid_rmsle: 0.5473\n"
          ]
        },
        {
          "output_type": "stream",
          "name": "stderr",
          "text": [
            "100%|██████████| 125/125 [00:01<00:00, 94.52it/s] \n",
            "100%|██████████| 32/32 [00:00<00:00, 75.88it/s]\n"
          ]
        },
        {
          "output_type": "stream",
          "name": "stdout",
          "text": [
            "train_loss: 0.4702, train_rmsle: 0.4702\n",
            "valid_loss: 0.5559, valid_rmsle: 0.5559\n"
          ]
        },
        {
          "output_type": "stream",
          "name": "stderr",
          "text": [
            "100%|██████████| 125/125 [00:01<00:00, 92.65it/s] \n",
            "100%|██████████| 32/32 [00:00<00:00, 76.24it/s]\n"
          ]
        },
        {
          "output_type": "stream",
          "name": "stdout",
          "text": [
            "train_loss: 0.4640, train_rmsle: 0.4640\n",
            "valid_loss: 0.5533, valid_rmsle: 0.5533\n"
          ]
        },
        {
          "output_type": "stream",
          "name": "stderr",
          "text": [
            "100%|██████████| 125/125 [00:01<00:00, 92.92it/s] \n",
            "100%|██████████| 32/32 [00:00<00:00, 73.37it/s]\n"
          ]
        },
        {
          "output_type": "stream",
          "name": "stdout",
          "text": [
            "train_loss: 0.4607, train_rmsle: 0.4607\n",
            "valid_loss: 0.5441, valid_rmsle: 0.5441\n"
          ]
        },
        {
          "output_type": "stream",
          "name": "stderr",
          "text": [
            "100%|██████████| 125/125 [00:01<00:00, 92.29it/s] \n",
            "100%|██████████| 32/32 [00:00<00:00, 79.44it/s]\n"
          ]
        },
        {
          "output_type": "stream",
          "name": "stdout",
          "text": [
            "train_loss: 0.4663, train_rmsle: 0.4663\n",
            "valid_loss: 0.5549, valid_rmsle: 0.5549\n"
          ]
        },
        {
          "output_type": "stream",
          "name": "stderr",
          "text": [
            "100%|██████████| 125/125 [00:01<00:00, 90.96it/s] \n",
            "100%|██████████| 32/32 [00:00<00:00, 78.24it/s]\n"
          ]
        },
        {
          "output_type": "stream",
          "name": "stdout",
          "text": [
            "train_loss: 0.4663, train_rmsle: 0.4663\n",
            "valid_loss: 0.5391, valid_rmsle: 0.5391\n"
          ]
        },
        {
          "output_type": "stream",
          "name": "stderr",
          "text": [
            "100%|██████████| 125/125 [00:01<00:00, 93.02it/s] \n",
            "100%|██████████| 32/32 [00:00<00:00, 76.15it/s]\n"
          ]
        },
        {
          "output_type": "stream",
          "name": "stdout",
          "text": [
            "train_loss: 0.4530, train_rmsle: 0.4530\n",
            "valid_loss: 0.5472, valid_rmsle: 0.5472\n"
          ]
        },
        {
          "output_type": "stream",
          "name": "stderr",
          "text": [
            "100%|██████████| 125/125 [00:01<00:00, 92.30it/s] \n",
            "100%|██████████| 32/32 [00:00<00:00, 73.84it/s]\n"
          ]
        },
        {
          "output_type": "stream",
          "name": "stdout",
          "text": [
            "train_loss: 0.4602, train_rmsle: 0.4602\n",
            "valid_loss: 0.5544, valid_rmsle: 0.5544\n"
          ]
        },
        {
          "output_type": "stream",
          "name": "stderr",
          "text": [
            "100%|██████████| 125/125 [00:01<00:00, 94.18it/s] \n",
            "100%|██████████| 32/32 [00:00<00:00, 70.79it/s]\n"
          ]
        },
        {
          "output_type": "stream",
          "name": "stdout",
          "text": [
            "train_loss: 0.4529, train_rmsle: 0.4529\n",
            "valid_loss: 0.5514, valid_rmsle: 0.5514\n"
          ]
        },
        {
          "output_type": "stream",
          "name": "stderr",
          "text": [
            "100%|██████████| 125/125 [00:01<00:00, 93.29it/s] \n",
            "100%|██████████| 32/32 [00:00<00:00, 74.04it/s]\n"
          ]
        },
        {
          "output_type": "stream",
          "name": "stdout",
          "text": [
            "train_loss: 0.4497, train_rmsle: 0.4497\n",
            "valid_loss: 0.5587, valid_rmsle: 0.5587\n",
            "==================================================\n",
            "save model: models/nn_fold5_.pth\n",
            "==================================================\n"
          ]
        }
      ]
    },
    {
      "cell_type": "code",
      "source": [
        "list_preds_tmp = []\n",
        "inference_dataset = TestDataset(X_inference)\n",
        "inference_loader = DataLoader(inference_dataset, batch_size=BATCH_SIZE, shuffle=False)\n",
        "for i in range(1, 6):\n",
        "    model = Model(num_features, num_targets, hidden_size_1, hidden_size_2)\n",
        "    model.load_state_dict(torch.load(f\"models/nn_fold{i}_.pth\"))\n",
        "    model.to(DEVICE)\n",
        "    predictions = inference_fn(model, inference_loader, DEVICE)\n",
        "    list_preds_tmp.append(predictions)"
      ],
      "metadata": {
        "id": "sB08Z2N1x3K4"
      },
      "execution_count": null,
      "outputs": []
    },
    {
      "cell_type": "code",
      "source": [
        "df_preds = pd.DataFrame({'model_1': np.squeeze(list_preds_tmp[0]),\n",
        "                         'model_2': np.squeeze(list_preds_tmp[1]),\n",
        "                         'model_3': np.squeeze(list_preds_tmp[2]),\n",
        "                         'model_4': np.squeeze(list_preds_tmp[3]),\n",
        "                         'model_5': np.squeeze(list_preds_tmp[4])})\n",
        "\n",
        "df_preds['pred_avg'] = df_preds.mean(axis=1)"
      ],
      "metadata": {
        "id": "0FL0r-3ACeW-"
      },
      "execution_count": null,
      "outputs": []
    },
    {
      "cell_type": "code",
      "source": [
        "df_preds.head()"
      ],
      "metadata": {
        "colab": {
          "base_uri": "https://localhost:8080/",
          "height": 206
        },
        "id": "cSOdYDERiYjA",
        "outputId": "72056407-2e11-4488-feb6-bcb952d20436"
      },
      "execution_count": null,
      "outputs": [
        {
          "output_type": "execute_result",
          "data": {
            "text/plain": [
              "     model_1    model_2    model_3    model_4    model_5   pred_avg\n",
              "0   9.213768   9.007358   9.304264   9.436165   8.983576   9.189026\n",
              "1  11.294427  11.266968  11.477156  10.573009  10.399199  11.002152\n",
              "2   9.353668   9.358343   9.315969   9.422636   9.161180   9.322359\n",
              "3   9.089067   9.378057   9.110122   8.970131   9.039038   9.117284\n",
              "4   9.546414   9.110770   8.972805   9.207201   8.939746   9.155387"
            ],
            "text/html": [
              "\n",
              "  <div id=\"df-64032fd6-64fd-4021-9db2-d63e09a03b45\">\n",
              "    <div class=\"colab-df-container\">\n",
              "      <div>\n",
              "<style scoped>\n",
              "    .dataframe tbody tr th:only-of-type {\n",
              "        vertical-align: middle;\n",
              "    }\n",
              "\n",
              "    .dataframe tbody tr th {\n",
              "        vertical-align: top;\n",
              "    }\n",
              "\n",
              "    .dataframe thead th {\n",
              "        text-align: right;\n",
              "    }\n",
              "</style>\n",
              "<table border=\"1\" class=\"dataframe\">\n",
              "  <thead>\n",
              "    <tr style=\"text-align: right;\">\n",
              "      <th></th>\n",
              "      <th>model_1</th>\n",
              "      <th>model_2</th>\n",
              "      <th>model_3</th>\n",
              "      <th>model_4</th>\n",
              "      <th>model_5</th>\n",
              "      <th>pred_avg</th>\n",
              "    </tr>\n",
              "  </thead>\n",
              "  <tbody>\n",
              "    <tr>\n",
              "      <th>0</th>\n",
              "      <td>9.213768</td>\n",
              "      <td>9.007358</td>\n",
              "      <td>9.304264</td>\n",
              "      <td>9.436165</td>\n",
              "      <td>8.983576</td>\n",
              "      <td>9.189026</td>\n",
              "    </tr>\n",
              "    <tr>\n",
              "      <th>1</th>\n",
              "      <td>11.294427</td>\n",
              "      <td>11.266968</td>\n",
              "      <td>11.477156</td>\n",
              "      <td>10.573009</td>\n",
              "      <td>10.399199</td>\n",
              "      <td>11.002152</td>\n",
              "    </tr>\n",
              "    <tr>\n",
              "      <th>2</th>\n",
              "      <td>9.353668</td>\n",
              "      <td>9.358343</td>\n",
              "      <td>9.315969</td>\n",
              "      <td>9.422636</td>\n",
              "      <td>9.161180</td>\n",
              "      <td>9.322359</td>\n",
              "    </tr>\n",
              "    <tr>\n",
              "      <th>3</th>\n",
              "      <td>9.089067</td>\n",
              "      <td>9.378057</td>\n",
              "      <td>9.110122</td>\n",
              "      <td>8.970131</td>\n",
              "      <td>9.039038</td>\n",
              "      <td>9.117284</td>\n",
              "    </tr>\n",
              "    <tr>\n",
              "      <th>4</th>\n",
              "      <td>9.546414</td>\n",
              "      <td>9.110770</td>\n",
              "      <td>8.972805</td>\n",
              "      <td>9.207201</td>\n",
              "      <td>8.939746</td>\n",
              "      <td>9.155387</td>\n",
              "    </tr>\n",
              "  </tbody>\n",
              "</table>\n",
              "</div>\n",
              "      <button class=\"colab-df-convert\" onclick=\"convertToInteractive('df-64032fd6-64fd-4021-9db2-d63e09a03b45')\"\n",
              "              title=\"Convert this dataframe to an interactive table.\"\n",
              "              style=\"display:none;\">\n",
              "        \n",
              "  <svg xmlns=\"http://www.w3.org/2000/svg\" height=\"24px\"viewBox=\"0 0 24 24\"\n",
              "       width=\"24px\">\n",
              "    <path d=\"M0 0h24v24H0V0z\" fill=\"none\"/>\n",
              "    <path d=\"M18.56 5.44l.94 2.06.94-2.06 2.06-.94-2.06-.94-.94-2.06-.94 2.06-2.06.94zm-11 1L8.5 8.5l.94-2.06 2.06-.94-2.06-.94L8.5 2.5l-.94 2.06-2.06.94zm10 10l.94 2.06.94-2.06 2.06-.94-2.06-.94-.94-2.06-.94 2.06-2.06.94z\"/><path d=\"M17.41 7.96l-1.37-1.37c-.4-.4-.92-.59-1.43-.59-.52 0-1.04.2-1.43.59L10.3 9.45l-7.72 7.72c-.78.78-.78 2.05 0 2.83L4 21.41c.39.39.9.59 1.41.59.51 0 1.02-.2 1.41-.59l7.78-7.78 2.81-2.81c.8-.78.8-2.07 0-2.86zM5.41 20L4 18.59l7.72-7.72 1.47 1.35L5.41 20z\"/>\n",
              "  </svg>\n",
              "      </button>\n",
              "      \n",
              "  <style>\n",
              "    .colab-df-container {\n",
              "      display:flex;\n",
              "      flex-wrap:wrap;\n",
              "      gap: 12px;\n",
              "    }\n",
              "\n",
              "    .colab-df-convert {\n",
              "      background-color: #E8F0FE;\n",
              "      border: none;\n",
              "      border-radius: 50%;\n",
              "      cursor: pointer;\n",
              "      display: none;\n",
              "      fill: #1967D2;\n",
              "      height: 32px;\n",
              "      padding: 0 0 0 0;\n",
              "      width: 32px;\n",
              "    }\n",
              "\n",
              "    .colab-df-convert:hover {\n",
              "      background-color: #E2EBFA;\n",
              "      box-shadow: 0px 1px 2px rgba(60, 64, 67, 0.3), 0px 1px 3px 1px rgba(60, 64, 67, 0.15);\n",
              "      fill: #174EA6;\n",
              "    }\n",
              "\n",
              "    [theme=dark] .colab-df-convert {\n",
              "      background-color: #3B4455;\n",
              "      fill: #D2E3FC;\n",
              "    }\n",
              "\n",
              "    [theme=dark] .colab-df-convert:hover {\n",
              "      background-color: #434B5C;\n",
              "      box-shadow: 0px 1px 3px 1px rgba(0, 0, 0, 0.15);\n",
              "      filter: drop-shadow(0px 1px 2px rgba(0, 0, 0, 0.3));\n",
              "      fill: #FFFFFF;\n",
              "    }\n",
              "  </style>\n",
              "\n",
              "      <script>\n",
              "        const buttonEl =\n",
              "          document.querySelector('#df-64032fd6-64fd-4021-9db2-d63e09a03b45 button.colab-df-convert');\n",
              "        buttonEl.style.display =\n",
              "          google.colab.kernel.accessAllowed ? 'block' : 'none';\n",
              "\n",
              "        async function convertToInteractive(key) {\n",
              "          const element = document.querySelector('#df-64032fd6-64fd-4021-9db2-d63e09a03b45');\n",
              "          const dataTable =\n",
              "            await google.colab.kernel.invokeFunction('convertToInteractive',\n",
              "                                                     [key], {});\n",
              "          if (!dataTable) return;\n",
              "\n",
              "          const docLinkHtml = 'Like what you see? Visit the ' +\n",
              "            '<a target=\"_blank\" href=https://colab.research.google.com/notebooks/data_table.ipynb>data table notebook</a>'\n",
              "            + ' to learn more about interactive tables.';\n",
              "          element.innerHTML = '';\n",
              "          dataTable['output_type'] = 'display_data';\n",
              "          await google.colab.output.renderOutput(dataTable, element);\n",
              "          const docLink = document.createElement('div');\n",
              "          docLink.innerHTML = docLinkHtml;\n",
              "          element.appendChild(docLink);\n",
              "        }\n",
              "      </script>\n",
              "    </div>\n",
              "  </div>\n",
              "  "
            ]
          },
          "metadata": {},
          "execution_count": 35
        }
      ]
    },
    {
      "cell_type": "code",
      "source": [
        "sample_sub[COL_Y] = np.expm1(df_preds['pred_avg'])"
      ],
      "metadata": {
        "id": "mTw3kfp8AHTJ"
      },
      "execution_count": null,
      "outputs": []
    },
    {
      "cell_type": "code",
      "source": [
        "sample_sub.head()"
      ],
      "metadata": {
        "colab": {
          "base_uri": "https://localhost:8080/",
          "height": 206
        },
        "id": "8gCpROW1AWA6",
        "outputId": "eb7f8190-88cf-444d-e37d-0d973cf38bba"
      },
      "execution_count": null,
      "outputs": [
        {
          "output_type": "execute_result",
          "data": {
            "text/plain": [
              "   id             y\n",
              "0   1   9788.110352\n",
              "1   2  60002.156250\n",
              "2   3  11184.337891\n",
              "3   4   9110.419922\n",
              "4   5   9464.291992"
            ],
            "text/html": [
              "\n",
              "  <div id=\"df-076830cc-38b6-4376-8e9d-a1d0d1165ec9\">\n",
              "    <div class=\"colab-df-container\">\n",
              "      <div>\n",
              "<style scoped>\n",
              "    .dataframe tbody tr th:only-of-type {\n",
              "        vertical-align: middle;\n",
              "    }\n",
              "\n",
              "    .dataframe tbody tr th {\n",
              "        vertical-align: top;\n",
              "    }\n",
              "\n",
              "    .dataframe thead th {\n",
              "        text-align: right;\n",
              "    }\n",
              "</style>\n",
              "<table border=\"1\" class=\"dataframe\">\n",
              "  <thead>\n",
              "    <tr style=\"text-align: right;\">\n",
              "      <th></th>\n",
              "      <th>id</th>\n",
              "      <th>y</th>\n",
              "    </tr>\n",
              "  </thead>\n",
              "  <tbody>\n",
              "    <tr>\n",
              "      <th>0</th>\n",
              "      <td>1</td>\n",
              "      <td>9788.110352</td>\n",
              "    </tr>\n",
              "    <tr>\n",
              "      <th>1</th>\n",
              "      <td>2</td>\n",
              "      <td>60002.156250</td>\n",
              "    </tr>\n",
              "    <tr>\n",
              "      <th>2</th>\n",
              "      <td>3</td>\n",
              "      <td>11184.337891</td>\n",
              "    </tr>\n",
              "    <tr>\n",
              "      <th>3</th>\n",
              "      <td>4</td>\n",
              "      <td>9110.419922</td>\n",
              "    </tr>\n",
              "    <tr>\n",
              "      <th>4</th>\n",
              "      <td>5</td>\n",
              "      <td>9464.291992</td>\n",
              "    </tr>\n",
              "  </tbody>\n",
              "</table>\n",
              "</div>\n",
              "      <button class=\"colab-df-convert\" onclick=\"convertToInteractive('df-076830cc-38b6-4376-8e9d-a1d0d1165ec9')\"\n",
              "              title=\"Convert this dataframe to an interactive table.\"\n",
              "              style=\"display:none;\">\n",
              "        \n",
              "  <svg xmlns=\"http://www.w3.org/2000/svg\" height=\"24px\"viewBox=\"0 0 24 24\"\n",
              "       width=\"24px\">\n",
              "    <path d=\"M0 0h24v24H0V0z\" fill=\"none\"/>\n",
              "    <path d=\"M18.56 5.44l.94 2.06.94-2.06 2.06-.94-2.06-.94-.94-2.06-.94 2.06-2.06.94zm-11 1L8.5 8.5l.94-2.06 2.06-.94-2.06-.94L8.5 2.5l-.94 2.06-2.06.94zm10 10l.94 2.06.94-2.06 2.06-.94-2.06-.94-.94-2.06-.94 2.06-2.06.94z\"/><path d=\"M17.41 7.96l-1.37-1.37c-.4-.4-.92-.59-1.43-.59-.52 0-1.04.2-1.43.59L10.3 9.45l-7.72 7.72c-.78.78-.78 2.05 0 2.83L4 21.41c.39.39.9.59 1.41.59.51 0 1.02-.2 1.41-.59l7.78-7.78 2.81-2.81c.8-.78.8-2.07 0-2.86zM5.41 20L4 18.59l7.72-7.72 1.47 1.35L5.41 20z\"/>\n",
              "  </svg>\n",
              "      </button>\n",
              "      \n",
              "  <style>\n",
              "    .colab-df-container {\n",
              "      display:flex;\n",
              "      flex-wrap:wrap;\n",
              "      gap: 12px;\n",
              "    }\n",
              "\n",
              "    .colab-df-convert {\n",
              "      background-color: #E8F0FE;\n",
              "      border: none;\n",
              "      border-radius: 50%;\n",
              "      cursor: pointer;\n",
              "      display: none;\n",
              "      fill: #1967D2;\n",
              "      height: 32px;\n",
              "      padding: 0 0 0 0;\n",
              "      width: 32px;\n",
              "    }\n",
              "\n",
              "    .colab-df-convert:hover {\n",
              "      background-color: #E2EBFA;\n",
              "      box-shadow: 0px 1px 2px rgba(60, 64, 67, 0.3), 0px 1px 3px 1px rgba(60, 64, 67, 0.15);\n",
              "      fill: #174EA6;\n",
              "    }\n",
              "\n",
              "    [theme=dark] .colab-df-convert {\n",
              "      background-color: #3B4455;\n",
              "      fill: #D2E3FC;\n",
              "    }\n",
              "\n",
              "    [theme=dark] .colab-df-convert:hover {\n",
              "      background-color: #434B5C;\n",
              "      box-shadow: 0px 1px 3px 1px rgba(0, 0, 0, 0.15);\n",
              "      filter: drop-shadow(0px 1px 2px rgba(0, 0, 0, 0.3));\n",
              "      fill: #FFFFFF;\n",
              "    }\n",
              "  </style>\n",
              "\n",
              "      <script>\n",
              "        const buttonEl =\n",
              "          document.querySelector('#df-076830cc-38b6-4376-8e9d-a1d0d1165ec9 button.colab-df-convert');\n",
              "        buttonEl.style.display =\n",
              "          google.colab.kernel.accessAllowed ? 'block' : 'none';\n",
              "\n",
              "        async function convertToInteractive(key) {\n",
              "          const element = document.querySelector('#df-076830cc-38b6-4376-8e9d-a1d0d1165ec9');\n",
              "          const dataTable =\n",
              "            await google.colab.kernel.invokeFunction('convertToInteractive',\n",
              "                                                     [key], {});\n",
              "          if (!dataTable) return;\n",
              "\n",
              "          const docLinkHtml = 'Like what you see? Visit the ' +\n",
              "            '<a target=\"_blank\" href=https://colab.research.google.com/notebooks/data_table.ipynb>data table notebook</a>'\n",
              "            + ' to learn more about interactive tables.';\n",
              "          element.innerHTML = '';\n",
              "          dataTable['output_type'] = 'display_data';\n",
              "          await google.colab.output.renderOutput(dataTable, element);\n",
              "          const docLink = document.createElement('div');\n",
              "          docLink.innerHTML = docLinkHtml;\n",
              "          element.appendChild(docLink);\n",
              "        }\n",
              "      </script>\n",
              "    </div>\n",
              "  </div>\n",
              "  "
            ]
          },
          "metadata": {},
          "execution_count": 37
        }
      ]
    },
    {
      "cell_type": "code",
      "source": [
        "sample_sub.to_csv('submit/submission_neural_network_fold_avg.csv', index=False)"
      ],
      "metadata": {
        "id": "5kISrFuYAXw-"
      },
      "execution_count": null,
      "outputs": []
    },
    {
      "cell_type": "code",
      "source": [
        "df_tmp = pd.read_csv('submit/submission_lightgbm_1-1-0.csv')\n",
        "df_tmp.head()"
      ],
      "metadata": {
        "id": "PBJhHMEEGwOR",
        "colab": {
          "base_uri": "https://localhost:8080/",
          "height": 206
        },
        "outputId": "2bab3ca0-7b89-4bc5-9064-b758279e33a8"
      },
      "execution_count": null,
      "outputs": [
        {
          "output_type": "execute_result",
          "data": {
            "text/plain": [
              "   id             y\n",
              "0   1  12936.384681\n",
              "1   2  13570.382339\n",
              "2   3  16072.926434\n",
              "3   4  11621.427002\n",
              "4   5   9691.119165"
            ],
            "text/html": [
              "\n",
              "  <div id=\"df-2500c188-2ded-4a6c-b86b-9c5ab38d5bf4\">\n",
              "    <div class=\"colab-df-container\">\n",
              "      <div>\n",
              "<style scoped>\n",
              "    .dataframe tbody tr th:only-of-type {\n",
              "        vertical-align: middle;\n",
              "    }\n",
              "\n",
              "    .dataframe tbody tr th {\n",
              "        vertical-align: top;\n",
              "    }\n",
              "\n",
              "    .dataframe thead th {\n",
              "        text-align: right;\n",
              "    }\n",
              "</style>\n",
              "<table border=\"1\" class=\"dataframe\">\n",
              "  <thead>\n",
              "    <tr style=\"text-align: right;\">\n",
              "      <th></th>\n",
              "      <th>id</th>\n",
              "      <th>y</th>\n",
              "    </tr>\n",
              "  </thead>\n",
              "  <tbody>\n",
              "    <tr>\n",
              "      <th>0</th>\n",
              "      <td>1</td>\n",
              "      <td>12936.384681</td>\n",
              "    </tr>\n",
              "    <tr>\n",
              "      <th>1</th>\n",
              "      <td>2</td>\n",
              "      <td>13570.382339</td>\n",
              "    </tr>\n",
              "    <tr>\n",
              "      <th>2</th>\n",
              "      <td>3</td>\n",
              "      <td>16072.926434</td>\n",
              "    </tr>\n",
              "    <tr>\n",
              "      <th>3</th>\n",
              "      <td>4</td>\n",
              "      <td>11621.427002</td>\n",
              "    </tr>\n",
              "    <tr>\n",
              "      <th>4</th>\n",
              "      <td>5</td>\n",
              "      <td>9691.119165</td>\n",
              "    </tr>\n",
              "  </tbody>\n",
              "</table>\n",
              "</div>\n",
              "      <button class=\"colab-df-convert\" onclick=\"convertToInteractive('df-2500c188-2ded-4a6c-b86b-9c5ab38d5bf4')\"\n",
              "              title=\"Convert this dataframe to an interactive table.\"\n",
              "              style=\"display:none;\">\n",
              "        \n",
              "  <svg xmlns=\"http://www.w3.org/2000/svg\" height=\"24px\"viewBox=\"0 0 24 24\"\n",
              "       width=\"24px\">\n",
              "    <path d=\"M0 0h24v24H0V0z\" fill=\"none\"/>\n",
              "    <path d=\"M18.56 5.44l.94 2.06.94-2.06 2.06-.94-2.06-.94-.94-2.06-.94 2.06-2.06.94zm-11 1L8.5 8.5l.94-2.06 2.06-.94-2.06-.94L8.5 2.5l-.94 2.06-2.06.94zm10 10l.94 2.06.94-2.06 2.06-.94-2.06-.94-.94-2.06-.94 2.06-2.06.94z\"/><path d=\"M17.41 7.96l-1.37-1.37c-.4-.4-.92-.59-1.43-.59-.52 0-1.04.2-1.43.59L10.3 9.45l-7.72 7.72c-.78.78-.78 2.05 0 2.83L4 21.41c.39.39.9.59 1.41.59.51 0 1.02-.2 1.41-.59l7.78-7.78 2.81-2.81c.8-.78.8-2.07 0-2.86zM5.41 20L4 18.59l7.72-7.72 1.47 1.35L5.41 20z\"/>\n",
              "  </svg>\n",
              "      </button>\n",
              "      \n",
              "  <style>\n",
              "    .colab-df-container {\n",
              "      display:flex;\n",
              "      flex-wrap:wrap;\n",
              "      gap: 12px;\n",
              "    }\n",
              "\n",
              "    .colab-df-convert {\n",
              "      background-color: #E8F0FE;\n",
              "      border: none;\n",
              "      border-radius: 50%;\n",
              "      cursor: pointer;\n",
              "      display: none;\n",
              "      fill: #1967D2;\n",
              "      height: 32px;\n",
              "      padding: 0 0 0 0;\n",
              "      width: 32px;\n",
              "    }\n",
              "\n",
              "    .colab-df-convert:hover {\n",
              "      background-color: #E2EBFA;\n",
              "      box-shadow: 0px 1px 2px rgba(60, 64, 67, 0.3), 0px 1px 3px 1px rgba(60, 64, 67, 0.15);\n",
              "      fill: #174EA6;\n",
              "    }\n",
              "\n",
              "    [theme=dark] .colab-df-convert {\n",
              "      background-color: #3B4455;\n",
              "      fill: #D2E3FC;\n",
              "    }\n",
              "\n",
              "    [theme=dark] .colab-df-convert:hover {\n",
              "      background-color: #434B5C;\n",
              "      box-shadow: 0px 1px 3px 1px rgba(0, 0, 0, 0.15);\n",
              "      filter: drop-shadow(0px 1px 2px rgba(0, 0, 0, 0.3));\n",
              "      fill: #FFFFFF;\n",
              "    }\n",
              "  </style>\n",
              "\n",
              "      <script>\n",
              "        const buttonEl =\n",
              "          document.querySelector('#df-2500c188-2ded-4a6c-b86b-9c5ab38d5bf4 button.colab-df-convert');\n",
              "        buttonEl.style.display =\n",
              "          google.colab.kernel.accessAllowed ? 'block' : 'none';\n",
              "\n",
              "        async function convertToInteractive(key) {\n",
              "          const element = document.querySelector('#df-2500c188-2ded-4a6c-b86b-9c5ab38d5bf4');\n",
              "          const dataTable =\n",
              "            await google.colab.kernel.invokeFunction('convertToInteractive',\n",
              "                                                     [key], {});\n",
              "          if (!dataTable) return;\n",
              "\n",
              "          const docLinkHtml = 'Like what you see? Visit the ' +\n",
              "            '<a target=\"_blank\" href=https://colab.research.google.com/notebooks/data_table.ipynb>data table notebook</a>'\n",
              "            + ' to learn more about interactive tables.';\n",
              "          element.innerHTML = '';\n",
              "          dataTable['output_type'] = 'display_data';\n",
              "          await google.colab.output.renderOutput(dataTable, element);\n",
              "          const docLink = document.createElement('div');\n",
              "          docLink.innerHTML = docLinkHtml;\n",
              "          element.appendChild(docLink);\n",
              "        }\n",
              "      </script>\n",
              "    </div>\n",
              "  </div>\n",
              "  "
            ]
          },
          "metadata": {},
          "execution_count": 29
        }
      ]
    },
    {
      "cell_type": "code",
      "source": [
        "df_ensemble = sample_sub.copy()\n",
        "df_ensemble[COL_Y] = (sample_sub[COL_Y] + df_tmp[COL_Y]) / 2"
      ],
      "metadata": {
        "id": "zrWTb_QltSsS"
      },
      "execution_count": null,
      "outputs": []
    },
    {
      "cell_type": "code",
      "source": [
        "df_ensemble.head()"
      ],
      "metadata": {
        "colab": {
          "base_uri": "https://localhost:8080/",
          "height": 206
        },
        "id": "ZtiZkP66twcK",
        "outputId": "37e0de13-ac3f-4d2b-ae04-2c949fe9cdea"
      },
      "execution_count": null,
      "outputs": [
        {
          "output_type": "execute_result",
          "data": {
            "text/plain": [
              "   id             y\n",
              "0   1  12415.064899\n",
              "1   2  18145.874763\n",
              "2   3  13499.604330\n",
              "3   4  11549.158813\n",
              "4   5  10227.407239"
            ],
            "text/html": [
              "\n",
              "  <div id=\"df-40ce50b6-a28b-4210-935a-90593956243d\">\n",
              "    <div class=\"colab-df-container\">\n",
              "      <div>\n",
              "<style scoped>\n",
              "    .dataframe tbody tr th:only-of-type {\n",
              "        vertical-align: middle;\n",
              "    }\n",
              "\n",
              "    .dataframe tbody tr th {\n",
              "        vertical-align: top;\n",
              "    }\n",
              "\n",
              "    .dataframe thead th {\n",
              "        text-align: right;\n",
              "    }\n",
              "</style>\n",
              "<table border=\"1\" class=\"dataframe\">\n",
              "  <thead>\n",
              "    <tr style=\"text-align: right;\">\n",
              "      <th></th>\n",
              "      <th>id</th>\n",
              "      <th>y</th>\n",
              "    </tr>\n",
              "  </thead>\n",
              "  <tbody>\n",
              "    <tr>\n",
              "      <th>0</th>\n",
              "      <td>1</td>\n",
              "      <td>12415.064899</td>\n",
              "    </tr>\n",
              "    <tr>\n",
              "      <th>1</th>\n",
              "      <td>2</td>\n",
              "      <td>18145.874763</td>\n",
              "    </tr>\n",
              "    <tr>\n",
              "      <th>2</th>\n",
              "      <td>3</td>\n",
              "      <td>13499.604330</td>\n",
              "    </tr>\n",
              "    <tr>\n",
              "      <th>3</th>\n",
              "      <td>4</td>\n",
              "      <td>11549.158813</td>\n",
              "    </tr>\n",
              "    <tr>\n",
              "      <th>4</th>\n",
              "      <td>5</td>\n",
              "      <td>10227.407239</td>\n",
              "    </tr>\n",
              "  </tbody>\n",
              "</table>\n",
              "</div>\n",
              "      <button class=\"colab-df-convert\" onclick=\"convertToInteractive('df-40ce50b6-a28b-4210-935a-90593956243d')\"\n",
              "              title=\"Convert this dataframe to an interactive table.\"\n",
              "              style=\"display:none;\">\n",
              "        \n",
              "  <svg xmlns=\"http://www.w3.org/2000/svg\" height=\"24px\"viewBox=\"0 0 24 24\"\n",
              "       width=\"24px\">\n",
              "    <path d=\"M0 0h24v24H0V0z\" fill=\"none\"/>\n",
              "    <path d=\"M18.56 5.44l.94 2.06.94-2.06 2.06-.94-2.06-.94-.94-2.06-.94 2.06-2.06.94zm-11 1L8.5 8.5l.94-2.06 2.06-.94-2.06-.94L8.5 2.5l-.94 2.06-2.06.94zm10 10l.94 2.06.94-2.06 2.06-.94-2.06-.94-.94-2.06-.94 2.06-2.06.94z\"/><path d=\"M17.41 7.96l-1.37-1.37c-.4-.4-.92-.59-1.43-.59-.52 0-1.04.2-1.43.59L10.3 9.45l-7.72 7.72c-.78.78-.78 2.05 0 2.83L4 21.41c.39.39.9.59 1.41.59.51 0 1.02-.2 1.41-.59l7.78-7.78 2.81-2.81c.8-.78.8-2.07 0-2.86zM5.41 20L4 18.59l7.72-7.72 1.47 1.35L5.41 20z\"/>\n",
              "  </svg>\n",
              "      </button>\n",
              "      \n",
              "  <style>\n",
              "    .colab-df-container {\n",
              "      display:flex;\n",
              "      flex-wrap:wrap;\n",
              "      gap: 12px;\n",
              "    }\n",
              "\n",
              "    .colab-df-convert {\n",
              "      background-color: #E8F0FE;\n",
              "      border: none;\n",
              "      border-radius: 50%;\n",
              "      cursor: pointer;\n",
              "      display: none;\n",
              "      fill: #1967D2;\n",
              "      height: 32px;\n",
              "      padding: 0 0 0 0;\n",
              "      width: 32px;\n",
              "    }\n",
              "\n",
              "    .colab-df-convert:hover {\n",
              "      background-color: #E2EBFA;\n",
              "      box-shadow: 0px 1px 2px rgba(60, 64, 67, 0.3), 0px 1px 3px 1px rgba(60, 64, 67, 0.15);\n",
              "      fill: #174EA6;\n",
              "    }\n",
              "\n",
              "    [theme=dark] .colab-df-convert {\n",
              "      background-color: #3B4455;\n",
              "      fill: #D2E3FC;\n",
              "    }\n",
              "\n",
              "    [theme=dark] .colab-df-convert:hover {\n",
              "      background-color: #434B5C;\n",
              "      box-shadow: 0px 1px 3px 1px rgba(0, 0, 0, 0.15);\n",
              "      filter: drop-shadow(0px 1px 2px rgba(0, 0, 0, 0.3));\n",
              "      fill: #FFFFFF;\n",
              "    }\n",
              "  </style>\n",
              "\n",
              "      <script>\n",
              "        const buttonEl =\n",
              "          document.querySelector('#df-40ce50b6-a28b-4210-935a-90593956243d button.colab-df-convert');\n",
              "        buttonEl.style.display =\n",
              "          google.colab.kernel.accessAllowed ? 'block' : 'none';\n",
              "\n",
              "        async function convertToInteractive(key) {\n",
              "          const element = document.querySelector('#df-40ce50b6-a28b-4210-935a-90593956243d');\n",
              "          const dataTable =\n",
              "            await google.colab.kernel.invokeFunction('convertToInteractive',\n",
              "                                                     [key], {});\n",
              "          if (!dataTable) return;\n",
              "\n",
              "          const docLinkHtml = 'Like what you see? Visit the ' +\n",
              "            '<a target=\"_blank\" href=https://colab.research.google.com/notebooks/data_table.ipynb>data table notebook</a>'\n",
              "            + ' to learn more about interactive tables.';\n",
              "          element.innerHTML = '';\n",
              "          dataTable['output_type'] = 'display_data';\n",
              "          await google.colab.output.renderOutput(dataTable, element);\n",
              "          const docLink = document.createElement('div');\n",
              "          docLink.innerHTML = docLinkHtml;\n",
              "          element.appendChild(docLink);\n",
              "        }\n",
              "      </script>\n",
              "    </div>\n",
              "  </div>\n",
              "  "
            ]
          },
          "metadata": {},
          "execution_count": 31
        }
      ]
    },
    {
      "cell_type": "code",
      "source": [
        "df_ensemble.to_csv('submit/submission_ensemble_nn_gbdt.csv', index=False)"
      ],
      "metadata": {
        "id": "RUE3SpDStyUn"
      },
      "execution_count": null,
      "outputs": []
    },
    {
      "cell_type": "code",
      "source": [
        ""
      ],
      "metadata": {
        "id": "r_c3W4Not-vU"
      },
      "execution_count": null,
      "outputs": []
    }
  ]
}